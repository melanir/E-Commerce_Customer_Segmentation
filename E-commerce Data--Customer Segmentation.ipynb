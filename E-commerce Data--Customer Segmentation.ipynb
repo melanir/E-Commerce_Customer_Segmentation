{
 "cells": [
  {
   "cell_type": "markdown",
   "metadata": {},
   "source": [
    "## RFM Segmentation on E-Commerce Data"
   ]
  },
  {
   "cell_type": "markdown",
   "metadata": {},
   "source": [
    "This is a transnational data set which contains all the transactions occurring between 01/12/2010 and 09/12/2011 for a UK-based and registered non-store online retail. The company mainly sells unique all-occasion gifts. Many customers of the company are wholesalers."
   ]
  },
  {
   "cell_type": "code",
   "execution_count": 1,
   "metadata": {},
   "outputs": [],
   "source": [
    "import time\n",
    "import pandas as pd\n",
    "import numpy as np\n",
    "import statistics\n",
    "import datetime as dt\n",
    "import matplotlib.pyplot as plt\n",
    "import seaborn as sns\n",
    "import gc\n",
    "import re"
   ]
  },
  {
   "cell_type": "code",
   "execution_count": 2,
   "metadata": {},
   "outputs": [],
   "source": [
    "from random import sample\n",
    "from numpy.random import uniform\n",
    "from math import isnan"
   ]
  },
  {
   "cell_type": "code",
   "execution_count": 3,
   "metadata": {},
   "outputs": [],
   "source": [
    "from sklearn.model_selection import train_test_split\n",
    "from sklearn.preprocessing import MinMaxScaler, StandardScaler\n",
    "from sklearn.cluster import KMeans\n",
    "from sklearn.neighbors import NearestNeighbors\n",
    "from sklearn.metrics import silhouette_score\n",
    "from scipy.cluster.hierarchy import linkage, dendrogram, cut_tree"
   ]
  },
  {
   "cell_type": "code",
   "execution_count": 4,
   "metadata": {},
   "outputs": [],
   "source": [
    "#This is to ring a bell when the code is done\n",
    "import os"
   ]
  },
  {
   "cell_type": "code",
   "execution_count": 5,
   "metadata": {},
   "outputs": [],
   "source": [
    "import warnings\n",
    "warnings.filterwarnings(\"ignore\")"
   ]
  },
  {
   "cell_type": "code",
   "execution_count": 6,
   "metadata": {},
   "outputs": [],
   "source": [
    "ecomm_df = pd.read_csv(\"data.csv\", encoding= 'unicode_escape')"
   ]
  },
  {
   "cell_type": "code",
   "execution_count": 7,
   "metadata": {},
   "outputs": [
    {
     "data": {
      "text/html": [
       "<div>\n",
       "<style scoped>\n",
       "    .dataframe tbody tr th:only-of-type {\n",
       "        vertical-align: middle;\n",
       "    }\n",
       "\n",
       "    .dataframe tbody tr th {\n",
       "        vertical-align: top;\n",
       "    }\n",
       "\n",
       "    .dataframe thead th {\n",
       "        text-align: right;\n",
       "    }\n",
       "</style>\n",
       "<table border=\"1\" class=\"dataframe\">\n",
       "  <thead>\n",
       "    <tr style=\"text-align: right;\">\n",
       "      <th></th>\n",
       "      <th>InvoiceNo</th>\n",
       "      <th>StockCode</th>\n",
       "      <th>Description</th>\n",
       "      <th>Quantity</th>\n",
       "      <th>InvoiceDate</th>\n",
       "      <th>UnitPrice</th>\n",
       "      <th>CustomerID</th>\n",
       "      <th>Country</th>\n",
       "    </tr>\n",
       "  </thead>\n",
       "  <tbody>\n",
       "    <tr>\n",
       "      <th>0</th>\n",
       "      <td>536365</td>\n",
       "      <td>85123A</td>\n",
       "      <td>WHITE HANGING HEART T-LIGHT HOLDER</td>\n",
       "      <td>6</td>\n",
       "      <td>12/1/2010 8:26</td>\n",
       "      <td>2.55</td>\n",
       "      <td>17850.0</td>\n",
       "      <td>United Kingdom</td>\n",
       "    </tr>\n",
       "    <tr>\n",
       "      <th>1</th>\n",
       "      <td>536365</td>\n",
       "      <td>71053</td>\n",
       "      <td>WHITE METAL LANTERN</td>\n",
       "      <td>6</td>\n",
       "      <td>12/1/2010 8:26</td>\n",
       "      <td>3.39</td>\n",
       "      <td>17850.0</td>\n",
       "      <td>United Kingdom</td>\n",
       "    </tr>\n",
       "    <tr>\n",
       "      <th>2</th>\n",
       "      <td>536365</td>\n",
       "      <td>84406B</td>\n",
       "      <td>CREAM CUPID HEARTS COAT HANGER</td>\n",
       "      <td>8</td>\n",
       "      <td>12/1/2010 8:26</td>\n",
       "      <td>2.75</td>\n",
       "      <td>17850.0</td>\n",
       "      <td>United Kingdom</td>\n",
       "    </tr>\n",
       "    <tr>\n",
       "      <th>3</th>\n",
       "      <td>536365</td>\n",
       "      <td>84029G</td>\n",
       "      <td>KNITTED UNION FLAG HOT WATER BOTTLE</td>\n",
       "      <td>6</td>\n",
       "      <td>12/1/2010 8:26</td>\n",
       "      <td>3.39</td>\n",
       "      <td>17850.0</td>\n",
       "      <td>United Kingdom</td>\n",
       "    </tr>\n",
       "    <tr>\n",
       "      <th>4</th>\n",
       "      <td>536365</td>\n",
       "      <td>84029E</td>\n",
       "      <td>RED WOOLLY HOTTIE WHITE HEART.</td>\n",
       "      <td>6</td>\n",
       "      <td>12/1/2010 8:26</td>\n",
       "      <td>3.39</td>\n",
       "      <td>17850.0</td>\n",
       "      <td>United Kingdom</td>\n",
       "    </tr>\n",
       "  </tbody>\n",
       "</table>\n",
       "</div>"
      ],
      "text/plain": [
       "  InvoiceNo StockCode                          Description  Quantity  \\\n",
       "0    536365    85123A   WHITE HANGING HEART T-LIGHT HOLDER         6   \n",
       "1    536365     71053                  WHITE METAL LANTERN         6   \n",
       "2    536365    84406B       CREAM CUPID HEARTS COAT HANGER         8   \n",
       "3    536365    84029G  KNITTED UNION FLAG HOT WATER BOTTLE         6   \n",
       "4    536365    84029E       RED WOOLLY HOTTIE WHITE HEART.         6   \n",
       "\n",
       "      InvoiceDate  UnitPrice  CustomerID         Country  \n",
       "0  12/1/2010 8:26       2.55     17850.0  United Kingdom  \n",
       "1  12/1/2010 8:26       3.39     17850.0  United Kingdom  \n",
       "2  12/1/2010 8:26       2.75     17850.0  United Kingdom  \n",
       "3  12/1/2010 8:26       3.39     17850.0  United Kingdom  \n",
       "4  12/1/2010 8:26       3.39     17850.0  United Kingdom  "
      ]
     },
     "execution_count": 7,
     "metadata": {},
     "output_type": "execute_result"
    }
   ],
   "source": [
    "ecomm_df.head()"
   ]
  },
  {
   "cell_type": "code",
   "execution_count": 8,
   "metadata": {},
   "outputs": [
    {
     "data": {
      "text/html": [
       "<div>\n",
       "<style scoped>\n",
       "    .dataframe tbody tr th:only-of-type {\n",
       "        vertical-align: middle;\n",
       "    }\n",
       "\n",
       "    .dataframe tbody tr th {\n",
       "        vertical-align: top;\n",
       "    }\n",
       "\n",
       "    .dataframe thead th {\n",
       "        text-align: right;\n",
       "    }\n",
       "</style>\n",
       "<table border=\"1\" class=\"dataframe\">\n",
       "  <thead>\n",
       "    <tr style=\"text-align: right;\">\n",
       "      <th></th>\n",
       "      <th>Quantity</th>\n",
       "      <th>UnitPrice</th>\n",
       "      <th>CustomerID</th>\n",
       "    </tr>\n",
       "  </thead>\n",
       "  <tbody>\n",
       "    <tr>\n",
       "      <th>count</th>\n",
       "      <td>541909.000000</td>\n",
       "      <td>541909.000000</td>\n",
       "      <td>406829.000000</td>\n",
       "    </tr>\n",
       "    <tr>\n",
       "      <th>mean</th>\n",
       "      <td>9.552250</td>\n",
       "      <td>4.611114</td>\n",
       "      <td>15287.690570</td>\n",
       "    </tr>\n",
       "    <tr>\n",
       "      <th>std</th>\n",
       "      <td>218.081158</td>\n",
       "      <td>96.759853</td>\n",
       "      <td>1713.600303</td>\n",
       "    </tr>\n",
       "    <tr>\n",
       "      <th>min</th>\n",
       "      <td>-80995.000000</td>\n",
       "      <td>-11062.060000</td>\n",
       "      <td>12346.000000</td>\n",
       "    </tr>\n",
       "    <tr>\n",
       "      <th>25%</th>\n",
       "      <td>1.000000</td>\n",
       "      <td>1.250000</td>\n",
       "      <td>13953.000000</td>\n",
       "    </tr>\n",
       "    <tr>\n",
       "      <th>50%</th>\n",
       "      <td>3.000000</td>\n",
       "      <td>2.080000</td>\n",
       "      <td>15152.000000</td>\n",
       "    </tr>\n",
       "    <tr>\n",
       "      <th>75%</th>\n",
       "      <td>10.000000</td>\n",
       "      <td>4.130000</td>\n",
       "      <td>16791.000000</td>\n",
       "    </tr>\n",
       "    <tr>\n",
       "      <th>max</th>\n",
       "      <td>80995.000000</td>\n",
       "      <td>38970.000000</td>\n",
       "      <td>18287.000000</td>\n",
       "    </tr>\n",
       "  </tbody>\n",
       "</table>\n",
       "</div>"
      ],
      "text/plain": [
       "            Quantity      UnitPrice     CustomerID\n",
       "count  541909.000000  541909.000000  406829.000000\n",
       "mean        9.552250       4.611114   15287.690570\n",
       "std       218.081158      96.759853    1713.600303\n",
       "min    -80995.000000  -11062.060000   12346.000000\n",
       "25%         1.000000       1.250000   13953.000000\n",
       "50%         3.000000       2.080000   15152.000000\n",
       "75%        10.000000       4.130000   16791.000000\n",
       "max     80995.000000   38970.000000   18287.000000"
      ]
     },
     "execution_count": 8,
     "metadata": {},
     "output_type": "execute_result"
    }
   ],
   "source": [
    "ecomm_df.describe()"
   ]
  },
  {
   "cell_type": "markdown",
   "metadata": {},
   "source": [
    "## Handling Null Values"
   ]
  },
  {
   "cell_type": "code",
   "execution_count": 9,
   "metadata": {},
   "outputs": [
    {
     "name": "stdout",
     "output_type": "stream",
     "text": [
      "<class 'pandas.core.frame.DataFrame'>\n",
      "RangeIndex: 541909 entries, 0 to 541908\n",
      "Data columns (total 8 columns):\n",
      " #   Column       Non-Null Count   Dtype  \n",
      "---  ------       --------------   -----  \n",
      " 0   InvoiceNo    541909 non-null  object \n",
      " 1   StockCode    541909 non-null  object \n",
      " 2   Description  540455 non-null  object \n",
      " 3   Quantity     541909 non-null  int64  \n",
      " 4   InvoiceDate  541909 non-null  object \n",
      " 5   UnitPrice    541909 non-null  float64\n",
      " 6   CustomerID   406829 non-null  float64\n",
      " 7   Country      541909 non-null  object \n",
      "dtypes: float64(2), int64(1), object(5)\n",
      "memory usage: 33.1+ MB\n"
     ]
    }
   ],
   "source": [
    "ecomm_df.info()"
   ]
  },
  {
   "cell_type": "markdown",
   "metadata": {},
   "source": [
    "Let's check if Description values can be obtained from the StockCode column"
   ]
  },
  {
   "cell_type": "code",
   "execution_count": 10,
   "metadata": {},
   "outputs": [
    {
     "data": {
      "text/plain": [
       "StockCode  Description                       \n",
       "85123A     WHITE HANGING HEART T-LIGHT HOLDER    2302\n",
       "           CREAM HANGING HEART T-LIGHT HOLDER       9\n",
       "           wrongly marked carton 22804              1\n",
       "           ?                                        1\n",
       "dtype: int64"
      ]
     },
     "execution_count": 10,
     "metadata": {},
     "output_type": "execute_result"
    }
   ],
   "source": [
    "stockCode_groupby = ecomm_df.groupby(['StockCode'])\n",
    "stockCode_groupby[['StockCode', 'Description']].get_group('85123A').value_counts()"
   ]
  },
  {
   "cell_type": "markdown",
   "metadata": {},
   "source": [
    "There is more than one description for a given stock code."
   ]
  },
  {
   "cell_type": "code",
   "execution_count": 11,
   "metadata": {},
   "outputs": [
    {
     "name": "stdout",
     "output_type": "stream",
     "text": [
      "4070\n",
      "4792\n"
     ]
    }
   ],
   "source": [
    "#Checking if the number of descriptions is far higher than the number of stock codes\n",
    "print(len(ecomm_df['StockCode'].value_counts()))\n",
    "print(len(ecomm_df[['StockCode', 'Description']].value_counts()))"
   ]
  },
  {
   "cell_type": "markdown",
   "metadata": {},
   "source": [
    "The number of descriptions is not drastically higher than the number of stock codes (as seen in the sample stock code above). I'll impute the mode description value for a given stock code."
   ]
  },
  {
   "cell_type": "code",
   "execution_count": 12,
   "metadata": {},
   "outputs": [],
   "source": [
    "#Creating a group by object, in order to get the mode\n",
    "grouped_StockCode = ecomm_df.groupby('StockCode')\n",
    "\n",
    "#Making a list of stock codes in the train set\n",
    "stockCode_list = list(ecomm_df['StockCode'].unique())"
   ]
  },
  {
   "cell_type": "code",
   "execution_count": 13,
   "metadata": {},
   "outputs": [],
   "source": [
    "start_time = time.time()"
   ]
  },
  {
   "cell_type": "code",
   "execution_count": 14,
   "metadata": {},
   "outputs": [],
   "source": [
    "dict_stockCode_mode = {}\n",
    "\n",
    "#Creating a dictionary that contains the Description mode value for each Stock Code\n",
    "for i in stockCode_list:\n",
    "    dict_stockCode_mode[i] = statistics.mode(grouped_StockCode['Description'].get_group(i))"
   ]
  },
  {
   "cell_type": "code",
   "execution_count": 15,
   "metadata": {},
   "outputs": [
    {
     "data": {
      "text/plain": [
       "80"
      ]
     },
     "execution_count": 15,
     "metadata": {},
     "output_type": "execute_result"
    }
   ],
   "source": [
    "#Triggering garbage collection\n",
    "gc.collect()"
   ]
  },
  {
   "cell_type": "code",
   "execution_count": 16,
   "metadata": {},
   "outputs": [],
   "source": [
    "#Imputing the mode Description value for each StockCode\n",
    "\n",
    "ecomm_df['Description'] = ecomm_df.apply(lambda x: dict_stockCode_mode[x['StockCode']] \n",
    "                             if (pd.isnull(x['Description'])) else x['Description'], axis=1)"
   ]
  },
  {
   "cell_type": "code",
   "execution_count": 17,
   "metadata": {},
   "outputs": [
    {
     "name": "stdout",
     "output_type": "stream",
     "text": [
      "Time taken (in seconds):  7.22204852104187\n"
     ]
    }
   ],
   "source": [
    "print(\"Time taken (in seconds): \", time.time()-start_time)"
   ]
  },
  {
   "cell_type": "code",
   "execution_count": 18,
   "metadata": {},
   "outputs": [
    {
     "data": {
      "text/html": [
       "<div>\n",
       "<style scoped>\n",
       "    .dataframe tbody tr th:only-of-type {\n",
       "        vertical-align: middle;\n",
       "    }\n",
       "\n",
       "    .dataframe tbody tr th {\n",
       "        vertical-align: top;\n",
       "    }\n",
       "\n",
       "    .dataframe thead th {\n",
       "        text-align: right;\n",
       "    }\n",
       "</style>\n",
       "<table border=\"1\" class=\"dataframe\">\n",
       "  <thead>\n",
       "    <tr style=\"text-align: right;\">\n",
       "      <th></th>\n",
       "      <th>InvoiceNo</th>\n",
       "      <th>StockCode</th>\n",
       "      <th>Description</th>\n",
       "      <th>Quantity</th>\n",
       "      <th>InvoiceDate</th>\n",
       "      <th>UnitPrice</th>\n",
       "      <th>CustomerID</th>\n",
       "      <th>Country</th>\n",
       "    </tr>\n",
       "  </thead>\n",
       "  <tbody>\n",
       "    <tr>\n",
       "      <th>0</th>\n",
       "      <td>536365</td>\n",
       "      <td>85123A</td>\n",
       "      <td>WHITE HANGING HEART T-LIGHT HOLDER</td>\n",
       "      <td>6</td>\n",
       "      <td>12/1/2010 8:26</td>\n",
       "      <td>2.55</td>\n",
       "      <td>17850.0</td>\n",
       "      <td>United Kingdom</td>\n",
       "    </tr>\n",
       "    <tr>\n",
       "      <th>1</th>\n",
       "      <td>536365</td>\n",
       "      <td>71053</td>\n",
       "      <td>WHITE METAL LANTERN</td>\n",
       "      <td>6</td>\n",
       "      <td>12/1/2010 8:26</td>\n",
       "      <td>3.39</td>\n",
       "      <td>17850.0</td>\n",
       "      <td>United Kingdom</td>\n",
       "    </tr>\n",
       "    <tr>\n",
       "      <th>2</th>\n",
       "      <td>536365</td>\n",
       "      <td>84406B</td>\n",
       "      <td>CREAM CUPID HEARTS COAT HANGER</td>\n",
       "      <td>8</td>\n",
       "      <td>12/1/2010 8:26</td>\n",
       "      <td>2.75</td>\n",
       "      <td>17850.0</td>\n",
       "      <td>United Kingdom</td>\n",
       "    </tr>\n",
       "    <tr>\n",
       "      <th>3</th>\n",
       "      <td>536365</td>\n",
       "      <td>84029G</td>\n",
       "      <td>KNITTED UNION FLAG HOT WATER BOTTLE</td>\n",
       "      <td>6</td>\n",
       "      <td>12/1/2010 8:26</td>\n",
       "      <td>3.39</td>\n",
       "      <td>17850.0</td>\n",
       "      <td>United Kingdom</td>\n",
       "    </tr>\n",
       "    <tr>\n",
       "      <th>4</th>\n",
       "      <td>536365</td>\n",
       "      <td>84029E</td>\n",
       "      <td>RED WOOLLY HOTTIE WHITE HEART.</td>\n",
       "      <td>6</td>\n",
       "      <td>12/1/2010 8:26</td>\n",
       "      <td>3.39</td>\n",
       "      <td>17850.0</td>\n",
       "      <td>United Kingdom</td>\n",
       "    </tr>\n",
       "  </tbody>\n",
       "</table>\n",
       "</div>"
      ],
      "text/plain": [
       "  InvoiceNo StockCode                          Description  Quantity  \\\n",
       "0    536365    85123A   WHITE HANGING HEART T-LIGHT HOLDER         6   \n",
       "1    536365     71053                  WHITE METAL LANTERN         6   \n",
       "2    536365    84406B       CREAM CUPID HEARTS COAT HANGER         8   \n",
       "3    536365    84029G  KNITTED UNION FLAG HOT WATER BOTTLE         6   \n",
       "4    536365    84029E       RED WOOLLY HOTTIE WHITE HEART.         6   \n",
       "\n",
       "      InvoiceDate  UnitPrice  CustomerID         Country  \n",
       "0  12/1/2010 8:26       2.55     17850.0  United Kingdom  \n",
       "1  12/1/2010 8:26       3.39     17850.0  United Kingdom  \n",
       "2  12/1/2010 8:26       2.75     17850.0  United Kingdom  \n",
       "3  12/1/2010 8:26       3.39     17850.0  United Kingdom  \n",
       "4  12/1/2010 8:26       3.39     17850.0  United Kingdom  "
      ]
     },
     "execution_count": 18,
     "metadata": {},
     "output_type": "execute_result"
    }
   ],
   "source": [
    "ecomm_df.head()"
   ]
  },
  {
   "cell_type": "code",
   "execution_count": 19,
   "metadata": {},
   "outputs": [
    {
     "name": "stdout",
     "output_type": "stream",
     "text": [
      "<class 'pandas.core.frame.DataFrame'>\n",
      "RangeIndex: 541909 entries, 0 to 541908\n",
      "Data columns (total 8 columns):\n",
      " #   Column       Non-Null Count   Dtype  \n",
      "---  ------       --------------   -----  \n",
      " 0   InvoiceNo    541909 non-null  object \n",
      " 1   StockCode    541909 non-null  object \n",
      " 2   Description  541755 non-null  object \n",
      " 3   Quantity     541909 non-null  int64  \n",
      " 4   InvoiceDate  541909 non-null  object \n",
      " 5   UnitPrice    541909 non-null  float64\n",
      " 6   CustomerID   406829 non-null  float64\n",
      " 7   Country      541909 non-null  object \n",
      "dtypes: float64(2), int64(1), object(5)\n",
      "memory usage: 33.1+ MB\n"
     ]
    }
   ],
   "source": [
    "ecomm_df.info()"
   ]
  },
  {
   "cell_type": "code",
   "execution_count": 20,
   "metadata": {},
   "outputs": [
    {
     "name": "stdout",
     "output_type": "stream",
     "text": [
      "Number of stock codes with at least one missing value in description column:  133\n"
     ]
    }
   ],
   "source": [
    "#Checking for null values in the Description column\n",
    "bool_Description = pd.isnull(ecomm_df['Description'])\n",
    "\n",
    "#Listing the stock codes where the description is null\n",
    "list_StockCode_nullDescription = list(set(ecomm_df['StockCode'][bool_Description]))\n",
    "print(\"Number of stock codes with at least one missing value in description column: \", len(list_StockCode_nullDescription))"
   ]
  },
  {
   "cell_type": "code",
   "execution_count": 21,
   "metadata": {},
   "outputs": [],
   "source": [
    "#Creating a group by object\n",
    "grouped_StockCode = ecomm_df.groupby('StockCode')"
   ]
  },
  {
   "cell_type": "code",
   "execution_count": 22,
   "metadata": {},
   "outputs": [
    {
     "name": "stdout",
     "output_type": "stream",
     "text": [
      "StockCode:  62095B\n",
      "21786    NaN\n",
      "Name: Description, dtype: object \n",
      "\n",
      "\n",
      "StockCode:  84876C\n",
      "145260    NaN\n",
      "Name: Description, dtype: object \n",
      "\n",
      "\n",
      "StockCode:  21337\n",
      "149043    NaN\n",
      "Name: Description, dtype: object \n",
      "\n",
      "\n",
      "StockCode:  84509F\n",
      "75239    NaN\n",
      "Name: Description, dtype: object \n",
      "\n",
      "\n",
      "StockCode:  22143\n",
      "75232    NaN\n",
      "Name: Description, dtype: object \n",
      "\n",
      "\n",
      "StockCode:  90037D\n",
      "172877    NaN\n",
      "Name: Description, dtype: object \n",
      "\n",
      "\n",
      "StockCode:  84664\n",
      "75241    NaN\n",
      "Name: Description, dtype: object \n",
      "\n",
      "\n",
      "StockCode:  10134\n",
      "146980    NaN\n",
      "Name: Description, dtype: object \n",
      "\n",
      "\n",
      "StockCode:  72800F\n",
      "143302    NaN\n",
      "Name: Description, dtype: object \n",
      "\n",
      "\n",
      "StockCode:  35015\n",
      "143304    NaN\n",
      "Name: Description, dtype: object \n",
      "\n",
      "\n",
      "StockCode:  DCGS0066P\n",
      "279257    NaN\n",
      "Name: Description, dtype: object \n",
      "\n",
      "\n",
      "StockCode:  85226C\n",
      "172868    NaN\n",
      "Name: Description, dtype: object \n",
      "\n",
      "\n",
      "StockCode:  90091\n",
      "75294    NaN\n",
      "Name: Description, dtype: object \n",
      "\n",
      "\n",
      "StockCode:  90095\n",
      "75293    NaN\n",
      "Name: Description, dtype: object \n",
      "\n",
      "\n",
      "StockCode:  20864\n",
      "75223    NaN\n",
      "Name: Description, dtype: object \n",
      "\n",
      "\n",
      "StockCode:  20950\n",
      "2024    NaN\n",
      "Name: Description, dtype: object \n",
      "\n",
      "\n",
      "StockCode:  22036\n",
      "139064    NaN\n",
      "Name: Description, dtype: object \n",
      "\n",
      "\n",
      "StockCode:  21805\n",
      "75229    NaN\n",
      "Name: Description, dtype: object \n",
      "\n",
      "\n",
      "StockCode:  37509\n",
      "1972                            NaN\n",
      "9332     NEW ENGLAND MUG W GIFT BOX\n",
      "11603    NEW ENGLAND MUG W GIFT BOX\n",
      "21785                           NaN\n",
      "Name: Description, dtype: object \n",
      "\n",
      "\n",
      "StockCode:  85018B\n",
      "143311    NaN\n",
      "Name: Description, dtype: object \n",
      "\n",
      "\n",
      "StockCode:  85018C\n",
      "21782    NaN\n",
      "Name: Description, dtype: object \n",
      "\n",
      "\n",
      "StockCode:  21589\n",
      "50808    NaN\n",
      "Name: Description, dtype: object \n",
      "\n",
      "\n",
      "StockCode:  85126\n",
      "7195                                  NaN\n",
      "40658    LARGE ROUND CUTGLASS CANDLESTICK\n",
      "73936    LARGE ROUND CUTGLASS CANDLESTICK\n",
      "75258                                 NaN\n",
      "Name: Description, dtype: object \n",
      "\n",
      "\n",
      "StockCode:  84802A\n",
      "21788                                NaN\n",
      "37557    WHITE ANEMONE ARTIFICIAL FLOWER\n",
      "Name: Description, dtype: object \n",
      "\n",
      "\n",
      "StockCode:  35824B\n",
      "145257    NaN\n",
      "Name: Description, dtype: object \n",
      "\n",
      "\n",
      "StockCode:  21431\n",
      "23764    NaN\n",
      "Name: Description, dtype: object \n",
      "\n",
      "\n",
      "StockCode:  20850\n",
      "137184    NaN\n",
      "Name: Description, dtype: object \n",
      "\n",
      "\n",
      "StockCode:  85044\n",
      "1988    NaN\n",
      "Name: Description, dtype: object \n",
      "\n",
      "\n",
      "StockCode:  84726\n",
      "145258    NaN\n",
      "Name: Description, dtype: object \n",
      "\n",
      "\n",
      "StockCode:  22218\n",
      "21790                      NaN\n",
      "32376    CAKE STAND LACE WHITE\n",
      "Name: Description, dtype: object \n",
      "\n",
      "\n",
      "StockCode:  84482\n",
      "172882    NaN\n",
      "Name: Description, dtype: object \n",
      "\n",
      "\n",
      "StockCode:  84967A\n",
      "74283    NaN\n",
      "Name: Description, dtype: object \n",
      "\n",
      "\n",
      "StockCode:  21511\n",
      "148081    NaN\n",
      "Name: Description, dtype: object \n",
      "\n",
      "\n",
      "StockCode:  84526\n",
      "75240    NaN\n",
      "Name: Description, dtype: object \n",
      "\n",
      "\n",
      "StockCode:  21432\n",
      "280659    NaN\n",
      "Name: Description, dtype: object \n",
      "\n",
      "\n",
      "StockCode:  79172D\n",
      "139907    NaN\n",
      "Name: Description, dtype: object \n",
      "\n",
      "\n",
      "StockCode:  20863\n",
      "150241    NaN\n",
      "Name: Description, dtype: object \n",
      "\n",
      "\n",
      "StockCode:  79161A\n",
      "242905                                 NaN\n",
      "280323                                 NaN\n",
      "449426    ST GEORGE SET OF 10 PARTY LIGHTS\n",
      "490379    ST GEORGE SET OF 10 PARTY LIGHTS\n",
      "Name: Description, dtype: object \n",
      "\n",
      "\n",
      "StockCode:  84971L\n",
      "497301    NaN\n",
      "Name: Description, dtype: object \n",
      "\n",
      "\n",
      "StockCode:  37424\n",
      "172871    NaN\n",
      "Name: Description, dtype: object \n",
      "\n",
      "\n",
      "StockCode:  37477B\n",
      "281615    NaN\n",
      "Name: Description, dtype: object \n",
      "\n",
      "\n",
      "StockCode:  16053\n",
      "201756    NaN\n",
      "Name: Description, dtype: object \n",
      "\n",
      "\n",
      "StockCode:  84977\n",
      "19629                            NaN\n",
      "124054    WIRE FLOWER T-LIGHT HOLDER\n",
      "129792                           NaN\n",
      "Name: Description, dtype: object \n",
      "\n",
      "\n",
      "StockCode:  21134\n",
      "1970    NaN\n",
      "Name: Description, dtype: object \n",
      "\n",
      "\n",
      "StockCode:  72781\n",
      "143303    NaN\n",
      "Name: Description, dtype: object \n",
      "\n",
      "\n",
      "StockCode:  44265\n",
      "87183     M/COLOUR POM-POM CURTAIN\n",
      "148091                         NaN\n",
      "236762                         NaN\n",
      "Name: Description, dtype: object \n",
      "\n",
      "\n",
      "StockCode:  72803B\n",
      "19631    NaN\n",
      "Name: Description, dtype: object \n",
      "\n",
      "\n",
      "StockCode:  84007\n",
      "148115    NaN\n",
      "Name: Description, dtype: object \n",
      "\n",
      "\n",
      "StockCode:  72789\n",
      "143308    NaN\n",
      "Name: Description, dtype: object \n",
      "\n",
      "\n",
      "StockCode:  85179B\n",
      "75259    NaN\n",
      "Name: Description, dtype: object \n",
      "\n",
      "\n",
      "StockCode:  35966\n",
      "220087    FOLKART CHRISTMAS TREE T-LIGHT HOLD\n",
      "243523                                    NaN\n",
      "246773                                    NaN\n",
      "311294    FOLKART CHRISTMAS TREE T-LIGHT HOLD\n",
      "319909                                    NaN\n",
      "Name: Description, dtype: object \n",
      "\n",
      "\n",
      "StockCode:  21653\n",
      "7193    NaN\n",
      "Name: Description, dtype: object \n",
      "\n",
      "\n",
      "StockCode:  37474\n",
      "7211                                     NaN\n",
      "13771    SET/4 2 TONE EGG SHAPE MIXING BOWLS\n",
      "13962                                    NaN\n",
      "Name: Description, dtype: object \n",
      "\n",
      "\n",
      "StockCode:  21806\n",
      "171735    NaN\n",
      "Name: Description, dtype: object \n",
      "\n",
      "\n",
      "StockCode:  72793\n",
      "143305    NaN\n",
      "Name: Description, dtype: object \n",
      "\n",
      "\n",
      "StockCode:  37477D\n",
      "108688    NaN\n",
      "Name: Description, dtype: object \n",
      "\n",
      "\n",
      "StockCode:  37461\n",
      "2025                  NaN\n",
      "9650     FUNKY MONKEY MUG\n",
      "19626                 NaN\n",
      "Name: Description, dtype: object \n",
      "\n",
      "\n",
      "StockCode:  21474\n",
      "146628    NaN\n",
      "Name: Description, dtype: object \n",
      "\n",
      "\n",
      "StockCode:  DCGS0072\n",
      "74838    NaN\n",
      "Name: Description, dtype: object \n",
      "\n",
      "\n",
      "StockCode:  DCGS0057\n",
      "75295    NaN\n",
      "Name: Description, dtype: object \n",
      "\n",
      "\n",
      "StockCode:  35951\n",
      "7187    NaN\n",
      "Name: Description, dtype: object \n",
      "\n",
      "\n",
      "StockCode:  21667\n",
      "51761                           NaN\n",
      "51762                           NaN\n",
      "51763                           NaN\n",
      "54363    GLASS CAKE COVER AND PLATE\n",
      "58588    GLASS CAKE COVER AND PLATE\n",
      "74645                           NaN\n",
      "Name: Description, dtype: object \n",
      "\n",
      "\n",
      "StockCode:  35644\n",
      "75234    NaN\n",
      "Name: Description, dtype: object \n",
      "\n",
      "\n",
      "StockCode:  35969\n",
      "83504    NaN\n",
      "Name: Description, dtype: object \n",
      "\n",
      "\n",
      "StockCode:  90000C\n",
      "75292    NaN\n",
      "Name: Description, dtype: object \n",
      "\n",
      "\n",
      "StockCode:  21661\n",
      "19630                        NaN\n",
      "42603    VINTAGE GLASS TEA CADDY\n",
      "52216                        NaN\n",
      "80567    VINTAGE GLASS TEA CADDY\n",
      "85488                        NaN\n",
      "97853    VINTAGE GLASS TEA CADDY\n",
      "Name: Description, dtype: object \n",
      "\n",
      "\n",
      "StockCode:  90042B\n",
      "21793    NaN\n",
      "Name: Description, dtype: object \n",
      "\n",
      "\n",
      "StockCode:  84247C\n",
      "21791    NaN\n",
      "Name: Description, dtype: object \n",
      "\n",
      "\n",
      "StockCode:  35991\n",
      "75235    NaN\n",
      "Name: Description, dtype: object \n",
      "\n",
      "\n",
      "StockCode:  35603B\n",
      "148112    NaN\n",
      "Name: Description, dtype: object \n",
      "\n",
      "\n",
      "StockCode:  21825\n",
      "150154    NaN\n",
      "Name: Description, dtype: object \n",
      "\n",
      "\n",
      "StockCode:  82545A\n",
      "148106    NaN\n",
      "Name: Description, dtype: object \n",
      "\n",
      "\n",
      "StockCode:  85060\n",
      "171714    NaN\n",
      "Name: Description, dtype: object \n",
      "\n",
      "\n",
      "StockCode:  21330\n",
      "171725    NaN\n",
      "Name: Description, dtype: object \n",
      "\n",
      "\n",
      "StockCode:  35650\n",
      "147797                              NaN\n",
      "285702    VINTAGE BEAD PINK JEWEL STAND\n",
      "Name: Description, dtype: object \n",
      "\n",
      "\n",
      "StockCode:  20689\n",
      "108684    NaN\n",
      "Name: Description, dtype: object \n",
      "\n",
      "\n",
      "StockCode:  21858\n",
      "280657    NaN\n",
      "Name: Description, dtype: object \n",
      "\n",
      "\n",
      "StockCode:  21414\n",
      "7192                          NaN\n",
      "98375     SCALLOP SHELL SOAP DISH\n",
      "147791                        NaN\n",
      "Name: Description, dtype: object \n",
      "\n",
      "\n",
      "StockCode:  84857A\n",
      "172881    NaN\n",
      "Name: Description, dtype: object \n",
      "\n",
      "\n",
      "StockCode:  21854\n",
      "172919    NaN\n",
      "Name: Description, dtype: object \n",
      "\n",
      "\n",
      "StockCode:  DCGS0071\n",
      "279252    NaN\n",
      "Name: Description, dtype: object \n",
      "\n",
      "\n",
      "StockCode:  21923\n",
      "171576    NaN\n",
      "Name: Description, dtype: object \n",
      "\n",
      "\n",
      "StockCode:  84761\n",
      "280749    NaN\n",
      "Name: Description, dtype: object \n",
      "\n",
      "\n",
      "StockCode:  84455\n",
      "73849    NaN\n",
      "Name: Description, dtype: object \n",
      "\n",
      "\n",
      "StockCode:  84864A\n",
      "150150    NaN\n",
      "Name: Description, dtype: object \n",
      "\n",
      "\n",
      "StockCode:  20825\n",
      "171579    NaN\n",
      "Name: Description, dtype: object \n",
      "\n",
      "\n",
      "StockCode:  46037A\n",
      "149046    NaN\n",
      "Name: Description, dtype: object \n",
      "\n",
      "\n",
      "StockCode:  DCGS0055\n",
      "74825    NaN\n",
      "Name: Description, dtype: object \n",
      "\n",
      "\n",
      "StockCode:  21274\n",
      "146604    NaN\n",
      "Name: Description, dtype: object \n",
      "\n",
      "\n",
      "StockCode:  84251F\n",
      "148107    NaN\n",
      "Name: Description, dtype: object \n",
      "\n",
      "\n",
      "StockCode:  85110\n",
      "75256    NaN\n",
      "Name: Description, dtype: object \n",
      "\n",
      "\n",
      "StockCode:  84967B\n",
      "74284    NaN\n",
      "Name: Description, dtype: object \n",
      "\n",
      "\n",
      "StockCode:  84964B\n",
      "75242    NaN\n",
      "Name: Description, dtype: object \n",
      "\n",
      "\n",
      "StockCode:  84797B\n",
      "272078    NaN\n",
      "Name: Description, dtype: object \n",
      "\n",
      "\n",
      "StockCode:  20849\n",
      "19628    NaN\n",
      "Name: Description, dtype: object \n",
      "\n",
      "\n",
      "StockCode:  84966B\n",
      "74287    NaN\n",
      "Name: Description, dtype: object \n",
      "\n",
      "\n",
      "StockCode:  84990\n",
      "146994                                    NaN\n",
      "165473    60 GOLD AND SILVER FAIRY CAKE CASES\n",
      "166509                                    NaN\n",
      "179794    60 GOLD AND SILVER FAIRY CAKE CASES\n",
      "195796                                    NaN\n",
      "Name: Description, dtype: object \n",
      "\n",
      "\n",
      "StockCode:  21283\n",
      "137185    NaN\n",
      "Name: Description, dtype: object \n",
      "\n",
      "\n",
      "StockCode:  20896\n",
      "171578    NaN\n",
      "Name: Description, dtype: object \n",
      "\n",
      "\n",
      "StockCode:  84424A\n",
      "75237    NaN\n",
      "Name: Description, dtype: object \n",
      "\n",
      "\n",
      "StockCode:  22145\n",
      "1971                                 NaN\n",
      "19025    CHRISTMAS CRAFT HEART STOCKING \n",
      "20392                                NaN\n",
      "Name: Description, dtype: object \n",
      "\n",
      "\n",
      "StockCode:  37477C\n",
      "281616    NaN\n",
      "Name: Description, dtype: object \n",
      "\n",
      "\n",
      "StockCode:  85226A\n",
      "1987    NaN\n",
      "Name: Description, dtype: object \n",
      "\n",
      "\n",
      "StockCode:  84966A\n",
      "74288    NaN\n",
      "Name: Description, dtype: object \n",
      "\n",
      "\n",
      "StockCode:  35823P\n",
      "136879    NaN\n",
      "Name: Description, dtype: object \n",
      "\n",
      "\n",
      "StockCode:  21282\n",
      "75227    NaN\n",
      "Name: Description, dtype: object \n",
      "\n",
      "\n",
      "StockCode:  35594\n",
      "171720    NaN\n",
      "Name: Description, dtype: object \n",
      "\n",
      "\n",
      "StockCode:  47591A\n",
      "172870    NaN\n",
      "Name: Description, dtype: object \n",
      "\n",
      "\n",
      "StockCode:  84670\n",
      "2026    NaN\n",
      "Name: Description, dtype: object \n",
      "\n",
      "\n",
      "StockCode:  35592T\n",
      "346849    NaN\n",
      "Name: Description, dtype: object \n",
      "\n",
      "\n",
      "StockCode:  84559D\n",
      "132814    NaN\n",
      "Name: Description, dtype: object \n",
      "\n",
      "\n",
      "StockCode:  47502\n",
      "148114    NaN\n",
      "Name: Description, dtype: object \n",
      "\n",
      "\n",
      "StockCode:  78027\n",
      "171728    NaN\n",
      "Name: Description, dtype: object \n",
      "\n",
      "\n",
      "StockCode:  84875A\n",
      "145259    NaN\n",
      "Name: Description, dtype: object \n",
      "\n",
      "\n",
      "StockCode:  21186\n",
      "21784                                   NaN\n",
      "30788    WHITE DOVE HONEYCOMB PAPER GARLAND\n",
      "Name: Description, dtype: object \n",
      "\n",
      "\n",
      "StockCode:  10123G\n",
      "150159    NaN\n",
      "Name: Description, dtype: object \n",
      "\n",
      "\n",
      "StockCode:  84546\n",
      "52094    NaN\n",
      "Name: Description, dtype: object \n",
      "\n",
      "\n",
      "StockCode:  84899F\n",
      "150169    NaN\n",
      "Name: Description, dtype: object \n",
      "\n",
      "\n",
      "StockCode:  84845D\n",
      "146601    NaN\n",
      "Name: Description, dtype: object \n",
      "\n",
      "\n",
      "StockCode:  62096B\n",
      "112141    PURPLE/TURQ FLOWERS HANDBAG\n",
      "146630                            NaN\n",
      "149051                            NaN\n",
      "Name: Description, dtype: object \n",
      "\n",
      "\n",
      "StockCode:  DCGS0074\n",
      "74839    NaN\n",
      "Name: Description, dtype: object \n",
      "\n",
      "\n",
      "StockCode:  40018F\n",
      "150149    NaN\n",
      "Name: Description, dtype: object \n",
      "\n",
      "\n",
      "StockCode:  84251J\n",
      "150148    NaN\n",
      "Name: Description, dtype: object \n",
      "\n",
      "\n",
      "StockCode:  84968B\n",
      "13219                                 NaN\n",
      "124079    SET OF 16 VINTAGE IVORY CUTLERY\n",
      "130955                                NaN\n",
      "147304    SET OF 16 VINTAGE IVORY CUTLERY\n",
      "Name: Description, dtype: object \n",
      "\n",
      "\n",
      "StockCode:  21765\n",
      "280720    NaN\n",
      "Name: Description, dtype: object \n",
      "\n",
      "\n",
      "StockCode:  21610\n",
      "280754    NaN\n",
      "Name: Description, dtype: object \n",
      "\n",
      "\n",
      "StockCode:  77081\n",
      "280661    NaN\n",
      "Name: Description, dtype: object \n",
      "\n",
      "\n",
      "StockCode:  84227\n",
      "73850                           NaN\n",
      "119443    HEN HOUSE W CHICK IN NEST\n",
      "130954                          NaN\n",
      "Name: Description, dtype: object \n",
      "\n",
      "\n",
      "StockCode:  72814\n",
      "21787    NaN\n",
      "Name: Description, dtype: object \n",
      "\n",
      "\n",
      "StockCode:  17011A\n",
      "55319    NaN\n",
      "Name: Description, dtype: object \n",
      "\n",
      "\n",
      "StockCode:  20738\n",
      "105334    NaN\n",
      "Name: Description, dtype: object \n",
      "\n",
      "\n",
      "StockCode:  84387A\n",
      "237249                             NaN\n",
      "273411    BIRD ON BRANCH CANVAS SCREEN\n",
      "Name: Description, dtype: object \n",
      "\n",
      "\n",
      "StockCode:  47563B\n",
      "108687    NaN\n",
      "Name: Description, dtype: object \n",
      "\n",
      "\n"
     ]
    }
   ],
   "source": [
    "#Viewing the descriptions where at least one description for a stock code is null\n",
    "for i in list_StockCode_nullDescription:\n",
    "    print(\"StockCode: \", i)\n",
    "    print(grouped_StockCode['Description'].get_group(i), \"\\n\\n\")"
   ]
  },
  {
   "cell_type": "markdown",
   "metadata": {},
   "source": [
    "There are a few descriptions that are not mode values, but can be imputed for the null values with the corresponding Stock Codes."
   ]
  },
  {
   "cell_type": "code",
   "execution_count": 23,
   "metadata": {
    "scrolled": true
   },
   "outputs": [],
   "source": [
    "#Imputing the descriptions that are not mode values\n",
    "\n",
    "for i in list_StockCode_nullDescription:\n",
    "    \n",
    "    #Getting the descriptions for this stock code\n",
    "    check_descriptions = len(set(ecomm_df['Description'][(pd.notnull(ecomm_df['Description'])) & (ecomm_df['StockCode']==i)]))\n",
    "    \n",
    "    #Checking if there is atleast one non-null description available for this stock code\n",
    "    if check_descriptions > 0:\n",
    "        \n",
    "        #Getting the description for this stock code\n",
    "        description_value = list(set(ecomm_df['Description'][(pd.notnull(ecomm_df['Description'])) & (ecomm_df['StockCode']==i)]))\n",
    "        \n",
    "        #Imputing this description value\n",
    "        ecomm_df.loc[(ecomm_df['StockCode']==i) & (pd.isnull(ecomm_df['Description'])), 'Description'] = description_value[0]\n"
   ]
  },
  {
   "cell_type": "code",
   "execution_count": 24,
   "metadata": {},
   "outputs": [
    {
     "name": "stdout",
     "output_type": "stream",
     "text": [
      "<class 'pandas.core.frame.DataFrame'>\n",
      "RangeIndex: 541909 entries, 0 to 541908\n",
      "Data columns (total 8 columns):\n",
      " #   Column       Non-Null Count   Dtype  \n",
      "---  ------       --------------   -----  \n",
      " 0   InvoiceNo    541909 non-null  object \n",
      " 1   StockCode    541909 non-null  object \n",
      " 2   Description  541797 non-null  object \n",
      " 3   Quantity     541909 non-null  int64  \n",
      " 4   InvoiceDate  541909 non-null  object \n",
      " 5   UnitPrice    541909 non-null  float64\n",
      " 6   CustomerID   406829 non-null  float64\n",
      " 7   Country      541909 non-null  object \n",
      "dtypes: float64(2), int64(1), object(5)\n",
      "memory usage: 33.1+ MB\n"
     ]
    }
   ],
   "source": [
    "ecomm_df.info()"
   ]
  },
  {
   "cell_type": "markdown",
   "metadata": {},
   "source": [
    "The number of non-null rows in the Description column has decreased."
   ]
  },
  {
   "cell_type": "code",
   "execution_count": 25,
   "metadata": {},
   "outputs": [
    {
     "data": {
      "text/plain": [
       "(406829, 8)"
      ]
     },
     "execution_count": 25,
     "metadata": {},
     "output_type": "execute_result"
    }
   ],
   "source": [
    "#Discarding the rows that don't contain CustomerIDs, as they are necessary for customer segmentation\n",
    "ecomm_df = ecomm_df[pd.notnull(ecomm_df['CustomerID'])]\n",
    "ecomm_df.shape"
   ]
  },
  {
   "cell_type": "code",
   "execution_count": 26,
   "metadata": {},
   "outputs": [],
   "source": [
    "#Also converting the CustomerID column into an int column\n",
    "ecomm_df['CustomerID'] = ecomm_df['CustomerID'].astype(int)"
   ]
  },
  {
   "cell_type": "code",
   "execution_count": 27,
   "metadata": {},
   "outputs": [
    {
     "name": "stdout",
     "output_type": "stream",
     "text": [
      "<class 'pandas.core.frame.DataFrame'>\n",
      "Int64Index: 406829 entries, 0 to 541908\n",
      "Data columns (total 8 columns):\n",
      " #   Column       Non-Null Count   Dtype  \n",
      "---  ------       --------------   -----  \n",
      " 0   InvoiceNo    406829 non-null  object \n",
      " 1   StockCode    406829 non-null  object \n",
      " 2   Description  406829 non-null  object \n",
      " 3   Quantity     406829 non-null  int64  \n",
      " 4   InvoiceDate  406829 non-null  object \n",
      " 5   UnitPrice    406829 non-null  float64\n",
      " 6   CustomerID   406829 non-null  int32  \n",
      " 7   Country      406829 non-null  object \n",
      "dtypes: float64(1), int32(1), int64(1), object(5)\n",
      "memory usage: 26.4+ MB\n"
     ]
    }
   ],
   "source": [
    "ecomm_df.info()"
   ]
  },
  {
   "cell_type": "markdown",
   "metadata": {},
   "source": [
    "## Data Exploration and Preparation"
   ]
  },
  {
   "cell_type": "code",
   "execution_count": 28,
   "metadata": {},
   "outputs": [
    {
     "data": {
      "text/html": [
       "<div>\n",
       "<style scoped>\n",
       "    .dataframe tbody tr th:only-of-type {\n",
       "        vertical-align: middle;\n",
       "    }\n",
       "\n",
       "    .dataframe tbody tr th {\n",
       "        vertical-align: top;\n",
       "    }\n",
       "\n",
       "    .dataframe thead th {\n",
       "        text-align: right;\n",
       "    }\n",
       "</style>\n",
       "<table border=\"1\" class=\"dataframe\">\n",
       "  <thead>\n",
       "    <tr style=\"text-align: right;\">\n",
       "      <th></th>\n",
       "      <th>InvoiceNo</th>\n",
       "      <th>StockCode</th>\n",
       "      <th>Description</th>\n",
       "      <th>Quantity</th>\n",
       "      <th>InvoiceDate</th>\n",
       "      <th>UnitPrice</th>\n",
       "      <th>CustomerID</th>\n",
       "      <th>Country</th>\n",
       "    </tr>\n",
       "  </thead>\n",
       "  <tbody>\n",
       "    <tr>\n",
       "      <th>0</th>\n",
       "      <td>536365</td>\n",
       "      <td>85123A</td>\n",
       "      <td>WHITE HANGING HEART T-LIGHT HOLDER</td>\n",
       "      <td>6</td>\n",
       "      <td>12/1/2010 8:26</td>\n",
       "      <td>2.55</td>\n",
       "      <td>17850</td>\n",
       "      <td>United Kingdom</td>\n",
       "    </tr>\n",
       "    <tr>\n",
       "      <th>1</th>\n",
       "      <td>536365</td>\n",
       "      <td>71053</td>\n",
       "      <td>WHITE METAL LANTERN</td>\n",
       "      <td>6</td>\n",
       "      <td>12/1/2010 8:26</td>\n",
       "      <td>3.39</td>\n",
       "      <td>17850</td>\n",
       "      <td>United Kingdom</td>\n",
       "    </tr>\n",
       "    <tr>\n",
       "      <th>2</th>\n",
       "      <td>536365</td>\n",
       "      <td>84406B</td>\n",
       "      <td>CREAM CUPID HEARTS COAT HANGER</td>\n",
       "      <td>8</td>\n",
       "      <td>12/1/2010 8:26</td>\n",
       "      <td>2.75</td>\n",
       "      <td>17850</td>\n",
       "      <td>United Kingdom</td>\n",
       "    </tr>\n",
       "    <tr>\n",
       "      <th>3</th>\n",
       "      <td>536365</td>\n",
       "      <td>84029G</td>\n",
       "      <td>KNITTED UNION FLAG HOT WATER BOTTLE</td>\n",
       "      <td>6</td>\n",
       "      <td>12/1/2010 8:26</td>\n",
       "      <td>3.39</td>\n",
       "      <td>17850</td>\n",
       "      <td>United Kingdom</td>\n",
       "    </tr>\n",
       "    <tr>\n",
       "      <th>4</th>\n",
       "      <td>536365</td>\n",
       "      <td>84029E</td>\n",
       "      <td>RED WOOLLY HOTTIE WHITE HEART.</td>\n",
       "      <td>6</td>\n",
       "      <td>12/1/2010 8:26</td>\n",
       "      <td>3.39</td>\n",
       "      <td>17850</td>\n",
       "      <td>United Kingdom</td>\n",
       "    </tr>\n",
       "  </tbody>\n",
       "</table>\n",
       "</div>"
      ],
      "text/plain": [
       "  InvoiceNo StockCode                          Description  Quantity  \\\n",
       "0    536365    85123A   WHITE HANGING HEART T-LIGHT HOLDER         6   \n",
       "1    536365     71053                  WHITE METAL LANTERN         6   \n",
       "2    536365    84406B       CREAM CUPID HEARTS COAT HANGER         8   \n",
       "3    536365    84029G  KNITTED UNION FLAG HOT WATER BOTTLE         6   \n",
       "4    536365    84029E       RED WOOLLY HOTTIE WHITE HEART.         6   \n",
       "\n",
       "      InvoiceDate  UnitPrice  CustomerID         Country  \n",
       "0  12/1/2010 8:26       2.55       17850  United Kingdom  \n",
       "1  12/1/2010 8:26       3.39       17850  United Kingdom  \n",
       "2  12/1/2010 8:26       2.75       17850  United Kingdom  \n",
       "3  12/1/2010 8:26       3.39       17850  United Kingdom  \n",
       "4  12/1/2010 8:26       3.39       17850  United Kingdom  "
      ]
     },
     "execution_count": 28,
     "metadata": {},
     "output_type": "execute_result"
    }
   ],
   "source": [
    "ecomm_df.head()"
   ]
  },
  {
   "cell_type": "code",
   "execution_count": 29,
   "metadata": {},
   "outputs": [
    {
     "data": {
      "text/html": [
       "<div>\n",
       "<style scoped>\n",
       "    .dataframe tbody tr th:only-of-type {\n",
       "        vertical-align: middle;\n",
       "    }\n",
       "\n",
       "    .dataframe tbody tr th {\n",
       "        vertical-align: top;\n",
       "    }\n",
       "\n",
       "    .dataframe thead th {\n",
       "        text-align: right;\n",
       "    }\n",
       "</style>\n",
       "<table border=\"1\" class=\"dataframe\">\n",
       "  <thead>\n",
       "    <tr style=\"text-align: right;\">\n",
       "      <th></th>\n",
       "      <th>InvoiceNo</th>\n",
       "      <th>StockCode</th>\n",
       "      <th>Description</th>\n",
       "      <th>InvoiceDate</th>\n",
       "      <th>Country</th>\n",
       "    </tr>\n",
       "  </thead>\n",
       "  <tbody>\n",
       "    <tr>\n",
       "      <th>count</th>\n",
       "      <td>406829</td>\n",
       "      <td>406829</td>\n",
       "      <td>406829</td>\n",
       "      <td>406829</td>\n",
       "      <td>406829</td>\n",
       "    </tr>\n",
       "    <tr>\n",
       "      <th>unique</th>\n",
       "      <td>22190</td>\n",
       "      <td>3684</td>\n",
       "      <td>3896</td>\n",
       "      <td>20460</td>\n",
       "      <td>37</td>\n",
       "    </tr>\n",
       "    <tr>\n",
       "      <th>top</th>\n",
       "      <td>576339</td>\n",
       "      <td>85123A</td>\n",
       "      <td>WHITE HANGING HEART T-LIGHT HOLDER</td>\n",
       "      <td>11/14/2011 15:27</td>\n",
       "      <td>United Kingdom</td>\n",
       "    </tr>\n",
       "    <tr>\n",
       "      <th>freq</th>\n",
       "      <td>542</td>\n",
       "      <td>2077</td>\n",
       "      <td>2070</td>\n",
       "      <td>543</td>\n",
       "      <td>361878</td>\n",
       "    </tr>\n",
       "  </tbody>\n",
       "</table>\n",
       "</div>"
      ],
      "text/plain": [
       "       InvoiceNo StockCode                         Description  \\\n",
       "count     406829    406829                              406829   \n",
       "unique     22190      3684                                3896   \n",
       "top       576339    85123A  WHITE HANGING HEART T-LIGHT HOLDER   \n",
       "freq         542      2077                                2070   \n",
       "\n",
       "             InvoiceDate         Country  \n",
       "count             406829          406829  \n",
       "unique             20460              37  \n",
       "top     11/14/2011 15:27  United Kingdom  \n",
       "freq                 543          361878  "
      ]
     },
     "execution_count": 29,
     "metadata": {},
     "output_type": "execute_result"
    }
   ],
   "source": [
    "#Getting a description of the non-numerical columns\n",
    "ecomm_df.describe(exclude=\"number\")"
   ]
  },
  {
   "cell_type": "code",
   "execution_count": 30,
   "metadata": {},
   "outputs": [
    {
     "data": {
      "text/html": [
       "<div>\n",
       "<style scoped>\n",
       "    .dataframe tbody tr th:only-of-type {\n",
       "        vertical-align: middle;\n",
       "    }\n",
       "\n",
       "    .dataframe tbody tr th {\n",
       "        vertical-align: top;\n",
       "    }\n",
       "\n",
       "    .dataframe thead th {\n",
       "        text-align: right;\n",
       "    }\n",
       "</style>\n",
       "<table border=\"1\" class=\"dataframe\">\n",
       "  <thead>\n",
       "    <tr style=\"text-align: right;\">\n",
       "      <th></th>\n",
       "      <th>Quantity</th>\n",
       "      <th>UnitPrice</th>\n",
       "      <th>CustomerID</th>\n",
       "    </tr>\n",
       "  </thead>\n",
       "  <tbody>\n",
       "    <tr>\n",
       "      <th>count</th>\n",
       "      <td>406829.000000</td>\n",
       "      <td>406829.000000</td>\n",
       "      <td>406829.000000</td>\n",
       "    </tr>\n",
       "    <tr>\n",
       "      <th>mean</th>\n",
       "      <td>12.061303</td>\n",
       "      <td>3.460471</td>\n",
       "      <td>15287.690570</td>\n",
       "    </tr>\n",
       "    <tr>\n",
       "      <th>std</th>\n",
       "      <td>248.693370</td>\n",
       "      <td>69.315162</td>\n",
       "      <td>1713.600303</td>\n",
       "    </tr>\n",
       "    <tr>\n",
       "      <th>min</th>\n",
       "      <td>-80995.000000</td>\n",
       "      <td>0.000000</td>\n",
       "      <td>12346.000000</td>\n",
       "    </tr>\n",
       "    <tr>\n",
       "      <th>25%</th>\n",
       "      <td>2.000000</td>\n",
       "      <td>1.250000</td>\n",
       "      <td>13953.000000</td>\n",
       "    </tr>\n",
       "    <tr>\n",
       "      <th>50%</th>\n",
       "      <td>5.000000</td>\n",
       "      <td>1.950000</td>\n",
       "      <td>15152.000000</td>\n",
       "    </tr>\n",
       "    <tr>\n",
       "      <th>75%</th>\n",
       "      <td>12.000000</td>\n",
       "      <td>3.750000</td>\n",
       "      <td>16791.000000</td>\n",
       "    </tr>\n",
       "    <tr>\n",
       "      <th>max</th>\n",
       "      <td>80995.000000</td>\n",
       "      <td>38970.000000</td>\n",
       "      <td>18287.000000</td>\n",
       "    </tr>\n",
       "  </tbody>\n",
       "</table>\n",
       "</div>"
      ],
      "text/plain": [
       "            Quantity      UnitPrice     CustomerID\n",
       "count  406829.000000  406829.000000  406829.000000\n",
       "mean       12.061303       3.460471   15287.690570\n",
       "std       248.693370      69.315162    1713.600303\n",
       "min    -80995.000000       0.000000   12346.000000\n",
       "25%         2.000000       1.250000   13953.000000\n",
       "50%         5.000000       1.950000   15152.000000\n",
       "75%        12.000000       3.750000   16791.000000\n",
       "max     80995.000000   38970.000000   18287.000000"
      ]
     },
     "execution_count": 30,
     "metadata": {},
     "output_type": "execute_result"
    }
   ],
   "source": [
    "#Getting a description of the numerical columns\n",
    "ecomm_df.describe()"
   ]
  },
  {
   "cell_type": "markdown",
   "metadata": {},
   "source": [
    "Taking a look at the Country column"
   ]
  },
  {
   "cell_type": "code",
   "execution_count": 31,
   "metadata": {
    "scrolled": true
   },
   "outputs": [
    {
     "data": {
      "text/plain": [
       "United Kingdom          0.889509\n",
       "Germany                 0.023339\n",
       "France                  0.020871\n",
       "EIRE                    0.018398\n",
       "Spain                   0.006226\n",
       "Netherlands             0.005828\n",
       "Belgium                 0.005086\n",
       "Switzerland             0.004614\n",
       "Portugal                0.003638\n",
       "Australia               0.003095\n",
       "Norway                  0.002669\n",
       "Italy                   0.001974\n",
       "Channel Islands         0.001863\n",
       "Finland                 0.001708\n",
       "Cyprus                  0.001529\n",
       "Sweden                  0.001136\n",
       "Austria                 0.000986\n",
       "Denmark                 0.000956\n",
       "Japan                   0.000880\n",
       "Poland                  0.000838\n",
       "USA                     0.000715\n",
       "Israel                  0.000615\n",
       "Unspecified             0.000600\n",
       "Singapore               0.000563\n",
       "Iceland                 0.000447\n",
       "Canada                  0.000371\n",
       "Greece                  0.000359\n",
       "Malta                   0.000312\n",
       "United Arab Emirates    0.000167\n",
       "European Community      0.000150\n",
       "RSA                     0.000143\n",
       "Lebanon                 0.000111\n",
       "Lithuania               0.000086\n",
       "Brazil                  0.000079\n",
       "Czech Republic          0.000074\n",
       "Bahrain                 0.000042\n",
       "Saudi Arabia            0.000025\n",
       "Name: Country, dtype: float64"
      ]
     },
     "execution_count": 31,
     "metadata": {},
     "output_type": "execute_result"
    }
   ],
   "source": [
    "#Checking the percentage of invoices from each country\n",
    "ecomm_df['Country'].value_counts(normalize=True)"
   ]
  },
  {
   "cell_type": "markdown",
   "metadata": {},
   "source": [
    "Checking if there is a big variation in the percentage of invoices from each country when only the highest 1% unit prices are considered"
   ]
  },
  {
   "cell_type": "code",
   "execution_count": 32,
   "metadata": {
    "scrolled": true
   },
   "outputs": [
    {
     "data": {
      "text/plain": [
       "United Kingdom          0.612461\n",
       "Germany                 0.115047\n",
       "France                  0.093330\n",
       "EIRE                    0.046794\n",
       "Spain                   0.024302\n",
       "Belgium                 0.012151\n",
       "Finland                 0.011634\n",
       "Portugal                0.011634\n",
       "Switzerland             0.010858\n",
       "Italy                   0.009824\n",
       "Norway                  0.009307\n",
       "Sweden                  0.006205\n",
       "Cyprus                  0.005429\n",
       "Austria                 0.005429\n",
       "Channel Islands         0.004395\n",
       "Singapore               0.004137\n",
       "Netherlands             0.004137\n",
       "Denmark                 0.003361\n",
       "Poland                  0.002327\n",
       "Malta                   0.001293\n",
       "Greece                  0.001293\n",
       "Israel                  0.001034\n",
       "Unspecified             0.000776\n",
       "Japan                   0.000776\n",
       "Australia               0.000517\n",
       "USA                     0.000517\n",
       "European Community      0.000259\n",
       "Canada                  0.000259\n",
       "United Arab Emirates    0.000259\n",
       "Czech Republic          0.000259\n",
       "Name: Country, dtype: float64"
      ]
     },
     "execution_count": 32,
     "metadata": {},
     "output_type": "execute_result"
    }
   ],
   "source": [
    "ecomm_df['Country'][ecomm_df['UnitPrice'] > ecomm_df['UnitPrice'].quantile(0.99)].value_counts(normalize=True)"
   ]
  },
  {
   "cell_type": "markdown",
   "metadata": {},
   "source": [
    "There are some changes when only the items with the top 1% unit price are considered, but the countries that have currencies with a higher exchange rate are still at the top of that list. This suggests that the unit price column contains information in one currency only. Therefore, currency conversion is not required and customer segmentation can be performed for all these rows."
   ]
  },
  {
   "cell_type": "code",
   "execution_count": 33,
   "metadata": {},
   "outputs": [
    {
     "data": {
      "text/html": [
       "<div>\n",
       "<style scoped>\n",
       "    .dataframe tbody tr th:only-of-type {\n",
       "        vertical-align: middle;\n",
       "    }\n",
       "\n",
       "    .dataframe tbody tr th {\n",
       "        vertical-align: top;\n",
       "    }\n",
       "\n",
       "    .dataframe thead th {\n",
       "        text-align: right;\n",
       "    }\n",
       "</style>\n",
       "<table border=\"1\" class=\"dataframe\">\n",
       "  <thead>\n",
       "    <tr style=\"text-align: right;\">\n",
       "      <th></th>\n",
       "      <th>Quantity</th>\n",
       "      <th>UnitPrice</th>\n",
       "      <th>CustomerID</th>\n",
       "    </tr>\n",
       "  </thead>\n",
       "  <tbody>\n",
       "    <tr>\n",
       "      <th>count</th>\n",
       "      <td>406829.000000</td>\n",
       "      <td>406829.000000</td>\n",
       "      <td>406829.000000</td>\n",
       "    </tr>\n",
       "    <tr>\n",
       "      <th>mean</th>\n",
       "      <td>12.061303</td>\n",
       "      <td>3.460471</td>\n",
       "      <td>15287.690570</td>\n",
       "    </tr>\n",
       "    <tr>\n",
       "      <th>std</th>\n",
       "      <td>248.693370</td>\n",
       "      <td>69.315162</td>\n",
       "      <td>1713.600303</td>\n",
       "    </tr>\n",
       "    <tr>\n",
       "      <th>min</th>\n",
       "      <td>-80995.000000</td>\n",
       "      <td>0.000000</td>\n",
       "      <td>12346.000000</td>\n",
       "    </tr>\n",
       "    <tr>\n",
       "      <th>25%</th>\n",
       "      <td>2.000000</td>\n",
       "      <td>1.250000</td>\n",
       "      <td>13953.000000</td>\n",
       "    </tr>\n",
       "    <tr>\n",
       "      <th>50%</th>\n",
       "      <td>5.000000</td>\n",
       "      <td>1.950000</td>\n",
       "      <td>15152.000000</td>\n",
       "    </tr>\n",
       "    <tr>\n",
       "      <th>75%</th>\n",
       "      <td>12.000000</td>\n",
       "      <td>3.750000</td>\n",
       "      <td>16791.000000</td>\n",
       "    </tr>\n",
       "    <tr>\n",
       "      <th>max</th>\n",
       "      <td>80995.000000</td>\n",
       "      <td>38970.000000</td>\n",
       "      <td>18287.000000</td>\n",
       "    </tr>\n",
       "  </tbody>\n",
       "</table>\n",
       "</div>"
      ],
      "text/plain": [
       "            Quantity      UnitPrice     CustomerID\n",
       "count  406829.000000  406829.000000  406829.000000\n",
       "mean       12.061303       3.460471   15287.690570\n",
       "std       248.693370      69.315162    1713.600303\n",
       "min    -80995.000000       0.000000   12346.000000\n",
       "25%         2.000000       1.250000   13953.000000\n",
       "50%         5.000000       1.950000   15152.000000\n",
       "75%        12.000000       3.750000   16791.000000\n",
       "max     80995.000000   38970.000000   18287.000000"
      ]
     },
     "execution_count": 33,
     "metadata": {},
     "output_type": "execute_result"
    }
   ],
   "source": [
    "ecomm_df.describe()"
   ]
  },
  {
   "cell_type": "markdown",
   "metadata": {},
   "source": [
    "There are invoices with negative quantities. These are likely to be due to cancelled or returned items. We need to check if there are positive quantities that correspond to these negative values, since that will affect the total amount purchased by a customer (which is the 'M' in RFM segmentation)."
   ]
  },
  {
   "cell_type": "code",
   "execution_count": 34,
   "metadata": {},
   "outputs": [
    {
     "data": {
      "text/plain": [
       "8905"
      ]
     },
     "execution_count": 34,
     "metadata": {},
     "output_type": "execute_result"
    }
   ],
   "source": [
    "#Checking the number of rows where the Quantity is less than zero\n",
    "ecomm_df[ecomm_df['Quantity'] < 0].shape[0]"
   ]
  },
  {
   "cell_type": "code",
   "execution_count": 35,
   "metadata": {},
   "outputs": [
    {
     "data": {
      "text/plain": [
       "8905"
      ]
     },
     "execution_count": 35,
     "metadata": {},
     "output_type": "execute_result"
    }
   ],
   "source": [
    "#Checking if the invoice number of returned/cancelled items matches with invoice numbers where the quantity is > 0\n",
    "ecomm_df[ecomm_df['InvoiceNo'].isin(ecomm_df['InvoiceNo'][ecomm_df['Quantity'] < 0])].shape[0]"
   ]
  },
  {
   "cell_type": "markdown",
   "metadata": {},
   "source": [
    "The number of rows in both is the same, which suggests that cancellations/returns have different invoice numbers from the original purchase. Next, let's check if customers have purchased the items that they've returned."
   ]
  },
  {
   "cell_type": "markdown",
   "metadata": {},
   "source": [
    "Let's start by collecting the Customer_ID and StockCode of all the items that were returned."
   ]
  },
  {
   "cell_type": "code",
   "execution_count": 36,
   "metadata": {},
   "outputs": [
    {
     "data": {
      "text/plain": [
       "8905"
      ]
     },
     "execution_count": 36,
     "metadata": {},
     "output_type": "execute_result"
    }
   ],
   "source": [
    "#Creating a temporary dataframe of the customer ID and stock code columns for rows with returns\n",
    "temp_df_negative_quantity = ecomm_df[['CustomerID', 'StockCode']][ecomm_df['Quantity'] < 0]\n",
    "\n",
    "#Zipping the two columns of the dataframe together to get a list of tuples\n",
    "list_zipped_negative = list(zip(list(temp_df_negative_quantity['CustomerID']), list(temp_df_negative_quantity['StockCode'])))\n",
    "len(list_zipped_negative)"
   ]
  },
  {
   "cell_type": "markdown",
   "metadata": {},
   "source": [
    "Next, let's collect all the data points that are not returns and drop duplicate rows."
   ]
  },
  {
   "cell_type": "code",
   "execution_count": 37,
   "metadata": {},
   "outputs": [
    {
     "name": "stdout",
     "output_type": "stream",
     "text": [
      "(266802, 2)\n"
     ]
    },
    {
     "data": {
      "text/html": [
       "<div>\n",
       "<style scoped>\n",
       "    .dataframe tbody tr th:only-of-type {\n",
       "        vertical-align: middle;\n",
       "    }\n",
       "\n",
       "    .dataframe tbody tr th {\n",
       "        vertical-align: top;\n",
       "    }\n",
       "\n",
       "    .dataframe thead th {\n",
       "        text-align: right;\n",
       "    }\n",
       "</style>\n",
       "<table border=\"1\" class=\"dataframe\">\n",
       "  <thead>\n",
       "    <tr style=\"text-align: right;\">\n",
       "      <th></th>\n",
       "      <th>CustomerID</th>\n",
       "      <th>StockCode</th>\n",
       "    </tr>\n",
       "  </thead>\n",
       "  <tbody>\n",
       "    <tr>\n",
       "      <th>0</th>\n",
       "      <td>17850</td>\n",
       "      <td>85123A</td>\n",
       "    </tr>\n",
       "    <tr>\n",
       "      <th>1</th>\n",
       "      <td>17850</td>\n",
       "      <td>71053</td>\n",
       "    </tr>\n",
       "    <tr>\n",
       "      <th>2</th>\n",
       "      <td>17850</td>\n",
       "      <td>84406B</td>\n",
       "    </tr>\n",
       "  </tbody>\n",
       "</table>\n",
       "</div>"
      ],
      "text/plain": [
       "   CustomerID StockCode\n",
       "0       17850    85123A\n",
       "1       17850     71053\n",
       "2       17850    84406B"
      ]
     },
     "execution_count": 37,
     "metadata": {},
     "output_type": "execute_result"
    }
   ],
   "source": [
    "#Creating a temporary dataframe of the customer ID and stock code for rows without returns\n",
    "temp_df_positive_quantity = ecomm_df[['CustomerID', 'StockCode']][ecomm_df['Quantity'] > 0]\n",
    "\n",
    "#Dropping duplicates to exclude items that were purchased more than once by the same customer\n",
    "temp_df_positive_quantity = temp_df_positive_quantity.drop_duplicates()\n",
    "\n",
    "print(temp_df_positive_quantity.shape)\n",
    "temp_df_positive_quantity.head(3)"
   ]
  },
  {
   "cell_type": "markdown",
   "metadata": {},
   "source": [
    "Now, we can create a list of the CustomerID and StockCode values of items that were returned but don't have a record of being purchased."
   ]
  },
  {
   "cell_type": "code",
   "execution_count": 38,
   "metadata": {},
   "outputs": [],
   "source": [
    "#Using list comprehension for this\n",
    "list_unpurchased = [i for i in list_zipped_negative if i not in zip(temp_df_positive_quantity['CustomerID'], temp_df_positive_quantity['StockCode'])]"
   ]
  },
  {
   "cell_type": "code",
   "execution_count": 39,
   "metadata": {},
   "outputs": [
    {
     "name": "stdout",
     "output_type": "stream",
     "text": [
      "Number of items that were returned:  8905\n",
      "Number of items that were returned but without a record of having been purchased:  948\n"
     ]
    }
   ],
   "source": [
    "print('Number of items that were returned: ', len(list_zipped_negative))\n",
    "print('Number of items that were returned but without a record of having been purchased: ', len(list_unpurchased))"
   ]
  },
  {
   "cell_type": "markdown",
   "metadata": {},
   "source": [
    "Since our dataframe only contains ~1 year of data, there could be items that were returned in this period, but were purchased earlier. This would explain why we have records of items being returned, but not of them being purchased."
   ]
  },
  {
   "cell_type": "markdown",
   "metadata": {},
   "source": [
    "In RFM analysis, we calculate each customer's total purchase amount. Therefore, we should include the returns for which we have records of purchase, as these could impact a customer's total purchase amount. However, let's drop the rows that indicate returns without record of purchase."
   ]
  },
  {
   "cell_type": "code",
   "execution_count": 40,
   "metadata": {},
   "outputs": [],
   "source": [
    "#In order to check if two columns of a dataframe match a pair of values, let's concatenate the two columns\n",
    "\n",
    "#Concatenating the individual tuples in our list\n",
    "list_concatenated_unpurchased = [str(i) + str(j) for i, j in list_unpurchased]\n",
    "\n",
    "#Concatenating the two columns in our dataframe and converting the resulting list into a series\n",
    "df_concatenated_all = pd.Series([str(i) + str(j) for i, j in ecomm_df[['CustomerID', 'StockCode']].values])"
   ]
  },
  {
   "cell_type": "code",
   "execution_count": 41,
   "metadata": {},
   "outputs": [
    {
     "data": {
      "text/plain": [
       "['14527D', '1754822556', '1754821984']"
      ]
     },
     "execution_count": 41,
     "metadata": {},
     "output_type": "execute_result"
    }
   ],
   "source": [
    "#Checking the format of the list with the concatenated \n",
    "list_concatenated_unpurchased[:3]"
   ]
  },
  {
   "cell_type": "code",
   "execution_count": 42,
   "metadata": {},
   "outputs": [
    {
     "name": "stdout",
     "output_type": "stream",
     "text": [
      "(406829,)\n",
      "948\n"
     ]
    }
   ],
   "source": [
    "#Checking the dimensions of the two objects\n",
    "print(df_concatenated_all.shape)\n",
    "print(len(list_concatenated_unpurchased))"
   ]
  },
  {
   "cell_type": "code",
   "execution_count": 44,
   "metadata": {},
   "outputs": [],
   "source": [
    "#Resetting the index of the dataframe as we dropped ~100,000 rows (which had null values in the Customer_ID column)\n",
    "ecomm_df.reset_index(inplace=True, drop=True)"
   ]
  },
  {
   "cell_type": "code",
   "execution_count": 45,
   "metadata": {},
   "outputs": [
    {
     "name": "stdout",
     "output_type": "stream",
     "text": [
      "Number of rows selected in dataframe:  948\n",
      "Length of list:  948\n"
     ]
    }
   ],
   "source": [
    "#Checking if the number of rows selected here is the same as what we have in our list\n",
    "\n",
    "print(\"Number of rows selected in dataframe: \", ecomm_df[df_concatenated_all.isin(list_concatenated_unpurchased)].shape[0])\n",
    "print(\"Length of list: \", len(list_unpurchased))"
   ]
  },
  {
   "cell_type": "markdown",
   "metadata": {},
   "source": [
    "Since these values match, let's go ahead and drop rows from the dataframe."
   ]
  },
  {
   "cell_type": "code",
   "execution_count": 46,
   "metadata": {},
   "outputs": [
    {
     "data": {
      "text/plain": [
       "(406829, 8)"
      ]
     },
     "execution_count": 46,
     "metadata": {},
     "output_type": "execute_result"
    }
   ],
   "source": [
    "#Checking the shape of the dataframe before dropping rows\n",
    "ecomm_df.shape"
   ]
  },
  {
   "cell_type": "code",
   "execution_count": 47,
   "metadata": {},
   "outputs": [
    {
     "data": {
      "text/plain": [
       "(405881, 8)"
      ]
     },
     "execution_count": 47,
     "metadata": {},
     "output_type": "execute_result"
    }
   ],
   "source": [
    "#Retaining only the rows that are not in the list of unpurchased items\n",
    "ecomm_df = ecomm_df[~df_concatenated_all.isin(list_concatenated_unpurchased)]\n",
    "ecomm_df.shape"
   ]
  },
  {
   "cell_type": "markdown",
   "metadata": {},
   "source": [
    "948 rows have been dropped."
   ]
  },
  {
   "cell_type": "markdown",
   "metadata": {},
   "source": [
    "Next, let's calculate the amount spent by a customer on each purchase."
   ]
  },
  {
   "cell_type": "code",
   "execution_count": 48,
   "metadata": {},
   "outputs": [
    {
     "data": {
      "text/html": [
       "<div>\n",
       "<style scoped>\n",
       "    .dataframe tbody tr th:only-of-type {\n",
       "        vertical-align: middle;\n",
       "    }\n",
       "\n",
       "    .dataframe tbody tr th {\n",
       "        vertical-align: top;\n",
       "    }\n",
       "\n",
       "    .dataframe thead th {\n",
       "        text-align: right;\n",
       "    }\n",
       "</style>\n",
       "<table border=\"1\" class=\"dataframe\">\n",
       "  <thead>\n",
       "    <tr style=\"text-align: right;\">\n",
       "      <th></th>\n",
       "      <th>InvoiceNo</th>\n",
       "      <th>StockCode</th>\n",
       "      <th>Description</th>\n",
       "      <th>Quantity</th>\n",
       "      <th>InvoiceDate</th>\n",
       "      <th>UnitPrice</th>\n",
       "      <th>CustomerID</th>\n",
       "      <th>Country</th>\n",
       "      <th>Amount</th>\n",
       "    </tr>\n",
       "  </thead>\n",
       "  <tbody>\n",
       "    <tr>\n",
       "      <th>0</th>\n",
       "      <td>536365</td>\n",
       "      <td>85123A</td>\n",
       "      <td>WHITE HANGING HEART T-LIGHT HOLDER</td>\n",
       "      <td>6</td>\n",
       "      <td>12/1/2010 8:26</td>\n",
       "      <td>2.55</td>\n",
       "      <td>17850</td>\n",
       "      <td>United Kingdom</td>\n",
       "      <td>15.30</td>\n",
       "    </tr>\n",
       "    <tr>\n",
       "      <th>1</th>\n",
       "      <td>536365</td>\n",
       "      <td>71053</td>\n",
       "      <td>WHITE METAL LANTERN</td>\n",
       "      <td>6</td>\n",
       "      <td>12/1/2010 8:26</td>\n",
       "      <td>3.39</td>\n",
       "      <td>17850</td>\n",
       "      <td>United Kingdom</td>\n",
       "      <td>20.34</td>\n",
       "    </tr>\n",
       "    <tr>\n",
       "      <th>2</th>\n",
       "      <td>536365</td>\n",
       "      <td>84406B</td>\n",
       "      <td>CREAM CUPID HEARTS COAT HANGER</td>\n",
       "      <td>8</td>\n",
       "      <td>12/1/2010 8:26</td>\n",
       "      <td>2.75</td>\n",
       "      <td>17850</td>\n",
       "      <td>United Kingdom</td>\n",
       "      <td>22.00</td>\n",
       "    </tr>\n",
       "    <tr>\n",
       "      <th>3</th>\n",
       "      <td>536365</td>\n",
       "      <td>84029G</td>\n",
       "      <td>KNITTED UNION FLAG HOT WATER BOTTLE</td>\n",
       "      <td>6</td>\n",
       "      <td>12/1/2010 8:26</td>\n",
       "      <td>3.39</td>\n",
       "      <td>17850</td>\n",
       "      <td>United Kingdom</td>\n",
       "      <td>20.34</td>\n",
       "    </tr>\n",
       "    <tr>\n",
       "      <th>4</th>\n",
       "      <td>536365</td>\n",
       "      <td>84029E</td>\n",
       "      <td>RED WOOLLY HOTTIE WHITE HEART.</td>\n",
       "      <td>6</td>\n",
       "      <td>12/1/2010 8:26</td>\n",
       "      <td>3.39</td>\n",
       "      <td>17850</td>\n",
       "      <td>United Kingdom</td>\n",
       "      <td>20.34</td>\n",
       "    </tr>\n",
       "  </tbody>\n",
       "</table>\n",
       "</div>"
      ],
      "text/plain": [
       "  InvoiceNo StockCode                          Description  Quantity  \\\n",
       "0    536365    85123A   WHITE HANGING HEART T-LIGHT HOLDER         6   \n",
       "1    536365     71053                  WHITE METAL LANTERN         6   \n",
       "2    536365    84406B       CREAM CUPID HEARTS COAT HANGER         8   \n",
       "3    536365    84029G  KNITTED UNION FLAG HOT WATER BOTTLE         6   \n",
       "4    536365    84029E       RED WOOLLY HOTTIE WHITE HEART.         6   \n",
       "\n",
       "      InvoiceDate  UnitPrice  CustomerID         Country  Amount  \n",
       "0  12/1/2010 8:26       2.55       17850  United Kingdom   15.30  \n",
       "1  12/1/2010 8:26       3.39       17850  United Kingdom   20.34  \n",
       "2  12/1/2010 8:26       2.75       17850  United Kingdom   22.00  \n",
       "3  12/1/2010 8:26       3.39       17850  United Kingdom   20.34  \n",
       "4  12/1/2010 8:26       3.39       17850  United Kingdom   20.34  "
      ]
     },
     "execution_count": 48,
     "metadata": {},
     "output_type": "execute_result"
    }
   ],
   "source": [
    "ecomm_df['Amount'] = ecomm_df['Quantity'] * ecomm_df['UnitPrice']\n",
    "ecomm_df.head()"
   ]
  },
  {
   "cell_type": "code",
   "execution_count": 49,
   "metadata": {},
   "outputs": [
    {
     "data": {
      "text/html": [
       "<div>\n",
       "<style scoped>\n",
       "    .dataframe tbody tr th:only-of-type {\n",
       "        vertical-align: middle;\n",
       "    }\n",
       "\n",
       "    .dataframe tbody tr th {\n",
       "        vertical-align: top;\n",
       "    }\n",
       "\n",
       "    .dataframe thead th {\n",
       "        text-align: right;\n",
       "    }\n",
       "</style>\n",
       "<table border=\"1\" class=\"dataframe\">\n",
       "  <thead>\n",
       "    <tr style=\"text-align: right;\">\n",
       "      <th></th>\n",
       "      <th>Quantity</th>\n",
       "      <th>UnitPrice</th>\n",
       "      <th>CustomerID</th>\n",
       "      <th>Amount</th>\n",
       "    </tr>\n",
       "  </thead>\n",
       "  <tbody>\n",
       "    <tr>\n",
       "      <th>count</th>\n",
       "      <td>405881.000000</td>\n",
       "      <td>405881.000000</td>\n",
       "      <td>405881.000000</td>\n",
       "      <td>405881.000000</td>\n",
       "    </tr>\n",
       "    <tr>\n",
       "      <th>mean</th>\n",
       "      <td>12.140746</td>\n",
       "      <td>3.259453</td>\n",
       "      <td>15287.843939</td>\n",
       "      <td>20.694487</td>\n",
       "    </tr>\n",
       "    <tr>\n",
       "      <th>std</th>\n",
       "      <td>248.521147</td>\n",
       "      <td>28.871495</td>\n",
       "      <td>1713.839674</td>\n",
       "      <td>423.362096</td>\n",
       "    </tr>\n",
       "    <tr>\n",
       "      <th>min</th>\n",
       "      <td>-80995.000000</td>\n",
       "      <td>0.000000</td>\n",
       "      <td>12346.000000</td>\n",
       "      <td>-168469.600000</td>\n",
       "    </tr>\n",
       "    <tr>\n",
       "      <th>25%</th>\n",
       "      <td>2.000000</td>\n",
       "      <td>1.250000</td>\n",
       "      <td>13952.000000</td>\n",
       "      <td>4.200000</td>\n",
       "    </tr>\n",
       "    <tr>\n",
       "      <th>50%</th>\n",
       "      <td>5.000000</td>\n",
       "      <td>1.950000</td>\n",
       "      <td>15152.000000</td>\n",
       "      <td>11.250000</td>\n",
       "    </tr>\n",
       "    <tr>\n",
       "      <th>75%</th>\n",
       "      <td>12.000000</td>\n",
       "      <td>3.750000</td>\n",
       "      <td>16791.000000</td>\n",
       "      <td>19.500000</td>\n",
       "    </tr>\n",
       "    <tr>\n",
       "      <th>max</th>\n",
       "      <td>80995.000000</td>\n",
       "      <td>8142.750000</td>\n",
       "      <td>18287.000000</td>\n",
       "      <td>168469.600000</td>\n",
       "    </tr>\n",
       "  </tbody>\n",
       "</table>\n",
       "</div>"
      ],
      "text/plain": [
       "            Quantity      UnitPrice     CustomerID         Amount\n",
       "count  405881.000000  405881.000000  405881.000000  405881.000000\n",
       "mean       12.140746       3.259453   15287.843939      20.694487\n",
       "std       248.521147      28.871495    1713.839674     423.362096\n",
       "min    -80995.000000       0.000000   12346.000000 -168469.600000\n",
       "25%         2.000000       1.250000   13952.000000       4.200000\n",
       "50%         5.000000       1.950000   15152.000000      11.250000\n",
       "75%        12.000000       3.750000   16791.000000      19.500000\n",
       "max     80995.000000    8142.750000   18287.000000  168469.600000"
      ]
     },
     "execution_count": 49,
     "metadata": {},
     "output_type": "execute_result"
    }
   ],
   "source": [
    "ecomm_df.describe()"
   ]
  },
  {
   "cell_type": "markdown",
   "metadata": {},
   "source": [
    "The unit price is zero in some rows. Let's take a closer look at this."
   ]
  },
  {
   "cell_type": "code",
   "execution_count": 50,
   "metadata": {
    "scrolled": true
   },
   "outputs": [
    {
     "data": {
      "text/html": [
       "<div>\n",
       "<style scoped>\n",
       "    .dataframe tbody tr th:only-of-type {\n",
       "        vertical-align: middle;\n",
       "    }\n",
       "\n",
       "    .dataframe tbody tr th {\n",
       "        vertical-align: top;\n",
       "    }\n",
       "\n",
       "    .dataframe thead th {\n",
       "        text-align: right;\n",
       "    }\n",
       "</style>\n",
       "<table border=\"1\" class=\"dataframe\">\n",
       "  <thead>\n",
       "    <tr style=\"text-align: right;\">\n",
       "      <th></th>\n",
       "      <th>InvoiceNo</th>\n",
       "      <th>StockCode</th>\n",
       "      <th>Description</th>\n",
       "      <th>Quantity</th>\n",
       "      <th>InvoiceDate</th>\n",
       "      <th>UnitPrice</th>\n",
       "      <th>CustomerID</th>\n",
       "      <th>Country</th>\n",
       "      <th>Amount</th>\n",
       "    </tr>\n",
       "  </thead>\n",
       "  <tbody>\n",
       "    <tr>\n",
       "      <th>7012</th>\n",
       "      <td>537197</td>\n",
       "      <td>22841</td>\n",
       "      <td>ROUND CAKE TIN VINTAGE GREEN</td>\n",
       "      <td>1</td>\n",
       "      <td>12/5/2010 14:02</td>\n",
       "      <td>0.0</td>\n",
       "      <td>12647</td>\n",
       "      <td>Germany</td>\n",
       "      <td>0.0</td>\n",
       "    </tr>\n",
       "    <tr>\n",
       "      <th>23071</th>\n",
       "      <td>539263</td>\n",
       "      <td>22580</td>\n",
       "      <td>ADVENT CALENDAR GINGHAM SACK</td>\n",
       "      <td>4</td>\n",
       "      <td>12/16/2010 14:36</td>\n",
       "      <td>0.0</td>\n",
       "      <td>16560</td>\n",
       "      <td>United Kingdom</td>\n",
       "      <td>0.0</td>\n",
       "    </tr>\n",
       "    <tr>\n",
       "      <th>26046</th>\n",
       "      <td>539722</td>\n",
       "      <td>22423</td>\n",
       "      <td>REGENCY CAKESTAND 3 TIER</td>\n",
       "      <td>10</td>\n",
       "      <td>12/21/2010 13:45</td>\n",
       "      <td>0.0</td>\n",
       "      <td>14911</td>\n",
       "      <td>EIRE</td>\n",
       "      <td>0.0</td>\n",
       "    </tr>\n",
       "    <tr>\n",
       "      <th>29881</th>\n",
       "      <td>540372</td>\n",
       "      <td>22090</td>\n",
       "      <td>PAPER BUNTING RETROSPOT</td>\n",
       "      <td>24</td>\n",
       "      <td>1/6/2011 16:41</td>\n",
       "      <td>0.0</td>\n",
       "      <td>13081</td>\n",
       "      <td>United Kingdom</td>\n",
       "      <td>0.0</td>\n",
       "    </tr>\n",
       "    <tr>\n",
       "      <th>29883</th>\n",
       "      <td>540372</td>\n",
       "      <td>22553</td>\n",
       "      <td>PLASTERS IN TIN SKULLS</td>\n",
       "      <td>24</td>\n",
       "      <td>1/6/2011 16:41</td>\n",
       "      <td>0.0</td>\n",
       "      <td>13081</td>\n",
       "      <td>United Kingdom</td>\n",
       "      <td>0.0</td>\n",
       "    </tr>\n",
       "    <tr>\n",
       "      <th>35460</th>\n",
       "      <td>541109</td>\n",
       "      <td>22168</td>\n",
       "      <td>ORGANISER WOOD ANTIQUE WHITE</td>\n",
       "      <td>1</td>\n",
       "      <td>1/13/2011 15:10</td>\n",
       "      <td>0.0</td>\n",
       "      <td>15107</td>\n",
       "      <td>United Kingdom</td>\n",
       "      <td>0.0</td>\n",
       "    </tr>\n",
       "    <tr>\n",
       "      <th>55279</th>\n",
       "      <td>543599</td>\n",
       "      <td>84535B</td>\n",
       "      <td>FAIRY CAKES NOTEBOOK A6 SIZE</td>\n",
       "      <td>16</td>\n",
       "      <td>2/10/2011 13:08</td>\n",
       "      <td>0.0</td>\n",
       "      <td>17560</td>\n",
       "      <td>United Kingdom</td>\n",
       "      <td>0.0</td>\n",
       "    </tr>\n",
       "    <tr>\n",
       "      <th>87903</th>\n",
       "      <td>547417</td>\n",
       "      <td>22062</td>\n",
       "      <td>CERAMIC BOWL WITH LOVE HEART DESIGN</td>\n",
       "      <td>36</td>\n",
       "      <td>3/23/2011 10:25</td>\n",
       "      <td>0.0</td>\n",
       "      <td>13239</td>\n",
       "      <td>United Kingdom</td>\n",
       "      <td>0.0</td>\n",
       "    </tr>\n",
       "    <tr>\n",
       "      <th>95201</th>\n",
       "      <td>548318</td>\n",
       "      <td>22055</td>\n",
       "      <td>MINI CAKE STAND  HANGING STRAWBERY</td>\n",
       "      <td>5</td>\n",
       "      <td>3/30/2011 12:45</td>\n",
       "      <td>0.0</td>\n",
       "      <td>13113</td>\n",
       "      <td>United Kingdom</td>\n",
       "      <td>0.0</td>\n",
       "    </tr>\n",
       "    <tr>\n",
       "      <th>99945</th>\n",
       "      <td>548871</td>\n",
       "      <td>22162</td>\n",
       "      <td>HEART GARLAND RUSTIC PADDED</td>\n",
       "      <td>2</td>\n",
       "      <td>4/4/2011 14:42</td>\n",
       "      <td>0.0</td>\n",
       "      <td>14410</td>\n",
       "      <td>United Kingdom</td>\n",
       "      <td>0.0</td>\n",
       "    </tr>\n",
       "    <tr>\n",
       "      <th>109968</th>\n",
       "      <td>550188</td>\n",
       "      <td>22636</td>\n",
       "      <td>CHILDS BREAKFAST SET CIRCUS PARADE</td>\n",
       "      <td>1</td>\n",
       "      <td>4/14/2011 18:57</td>\n",
       "      <td>0.0</td>\n",
       "      <td>12457</td>\n",
       "      <td>Switzerland</td>\n",
       "      <td>0.0</td>\n",
       "    </tr>\n",
       "    <tr>\n",
       "      <th>131865</th>\n",
       "      <td>553000</td>\n",
       "      <td>47566</td>\n",
       "      <td>PARTY BUNTING</td>\n",
       "      <td>4</td>\n",
       "      <td>5/12/2011 15:21</td>\n",
       "      <td>0.0</td>\n",
       "      <td>17667</td>\n",
       "      <td>United Kingdom</td>\n",
       "      <td>0.0</td>\n",
       "    </tr>\n",
       "    <tr>\n",
       "      <th>140517</th>\n",
       "      <td>554037</td>\n",
       "      <td>22619</td>\n",
       "      <td>SET OF 6 SOLDIER SKITTLES</td>\n",
       "      <td>80</td>\n",
       "      <td>5/20/2011 14:13</td>\n",
       "      <td>0.0</td>\n",
       "      <td>12415</td>\n",
       "      <td>Australia</td>\n",
       "      <td>0.0</td>\n",
       "    </tr>\n",
       "    <tr>\n",
       "      <th>199499</th>\n",
       "      <td>561284</td>\n",
       "      <td>22167</td>\n",
       "      <td>OVAL WALL MIRROR DIAMANTE</td>\n",
       "      <td>1</td>\n",
       "      <td>7/26/2011 12:24</td>\n",
       "      <td>0.0</td>\n",
       "      <td>16818</td>\n",
       "      <td>United Kingdom</td>\n",
       "      <td>0.0</td>\n",
       "    </tr>\n",
       "    <tr>\n",
       "      <th>202073</th>\n",
       "      <td>561669</td>\n",
       "      <td>22960</td>\n",
       "      <td>JAM MAKING SET WITH JARS</td>\n",
       "      <td>11</td>\n",
       "      <td>7/28/2011 17:09</td>\n",
       "      <td>0.0</td>\n",
       "      <td>12507</td>\n",
       "      <td>Spain</td>\n",
       "      <td>0.0</td>\n",
       "    </tr>\n",
       "    <tr>\n",
       "      <th>204627</th>\n",
       "      <td>561916</td>\n",
       "      <td>M</td>\n",
       "      <td>Manual</td>\n",
       "      <td>1</td>\n",
       "      <td>8/1/2011 11:44</td>\n",
       "      <td>0.0</td>\n",
       "      <td>15581</td>\n",
       "      <td>United Kingdom</td>\n",
       "      <td>0.0</td>\n",
       "    </tr>\n",
       "    <tr>\n",
       "      <th>214132</th>\n",
       "      <td>562973</td>\n",
       "      <td>23157</td>\n",
       "      <td>SET OF 6 NATIVITY MAGNETS</td>\n",
       "      <td>240</td>\n",
       "      <td>8/11/2011 11:42</td>\n",
       "      <td>0.0</td>\n",
       "      <td>14911</td>\n",
       "      <td>EIRE</td>\n",
       "      <td>0.0</td>\n",
       "    </tr>\n",
       "    <tr>\n",
       "      <th>229359</th>\n",
       "      <td>564651</td>\n",
       "      <td>23270</td>\n",
       "      <td>SET OF 2 CERAMIC PAINTED HEARTS</td>\n",
       "      <td>96</td>\n",
       "      <td>8/26/2011 14:19</td>\n",
       "      <td>0.0</td>\n",
       "      <td>14646</td>\n",
       "      <td>Netherlands</td>\n",
       "      <td>0.0</td>\n",
       "    </tr>\n",
       "    <tr>\n",
       "      <th>229360</th>\n",
       "      <td>564651</td>\n",
       "      <td>23268</td>\n",
       "      <td>SET OF 2 CERAMIC CHRISTMAS REINDEER</td>\n",
       "      <td>192</td>\n",
       "      <td>8/26/2011 14:19</td>\n",
       "      <td>0.0</td>\n",
       "      <td>14646</td>\n",
       "      <td>Netherlands</td>\n",
       "      <td>0.0</td>\n",
       "    </tr>\n",
       "    <tr>\n",
       "      <th>229361</th>\n",
       "      <td>564651</td>\n",
       "      <td>22955</td>\n",
       "      <td>36 FOIL STAR CAKE CASES</td>\n",
       "      <td>144</td>\n",
       "      <td>8/26/2011 14:19</td>\n",
       "      <td>0.0</td>\n",
       "      <td>14646</td>\n",
       "      <td>Netherlands</td>\n",
       "      <td>0.0</td>\n",
       "    </tr>\n",
       "    <tr>\n",
       "      <th>229362</th>\n",
       "      <td>564651</td>\n",
       "      <td>21786</td>\n",
       "      <td>POLKADOT RAIN HAT</td>\n",
       "      <td>144</td>\n",
       "      <td>8/26/2011 14:19</td>\n",
       "      <td>0.0</td>\n",
       "      <td>14646</td>\n",
       "      <td>Netherlands</td>\n",
       "      <td>0.0</td>\n",
       "    </tr>\n",
       "    <tr>\n",
       "      <th>262429</th>\n",
       "      <td>568158</td>\n",
       "      <td>PADS</td>\n",
       "      <td>PADS TO MATCH ALL CUSHIONS</td>\n",
       "      <td>1</td>\n",
       "      <td>9/25/2011 12:22</td>\n",
       "      <td>0.0</td>\n",
       "      <td>16133</td>\n",
       "      <td>United Kingdom</td>\n",
       "      <td>0.0</td>\n",
       "    </tr>\n",
       "    <tr>\n",
       "      <th>265590</th>\n",
       "      <td>568384</td>\n",
       "      <td>M</td>\n",
       "      <td>Manual</td>\n",
       "      <td>1</td>\n",
       "      <td>9/27/2011 9:46</td>\n",
       "      <td>0.0</td>\n",
       "      <td>12748</td>\n",
       "      <td>United Kingdom</td>\n",
       "      <td>0.0</td>\n",
       "    </tr>\n",
       "    <tr>\n",
       "      <th>280386</th>\n",
       "      <td>569716</td>\n",
       "      <td>22778</td>\n",
       "      <td>GLASS CLOCHE SMALL</td>\n",
       "      <td>2</td>\n",
       "      <td>10/6/2011 8:17</td>\n",
       "      <td>0.0</td>\n",
       "      <td>15804</td>\n",
       "      <td>United Kingdom</td>\n",
       "      <td>0.0</td>\n",
       "    </tr>\n",
       "    <tr>\n",
       "      <th>293578</th>\n",
       "      <td>571035</td>\n",
       "      <td>M</td>\n",
       "      <td>Manual</td>\n",
       "      <td>1</td>\n",
       "      <td>10/13/2011 12:50</td>\n",
       "      <td>0.0</td>\n",
       "      <td>12446</td>\n",
       "      <td>RSA</td>\n",
       "      <td>0.0</td>\n",
       "    </tr>\n",
       "    <tr>\n",
       "      <th>314491</th>\n",
       "      <td>572893</td>\n",
       "      <td>21208</td>\n",
       "      <td>PASTEL COLOUR HONEYCOMB FAN</td>\n",
       "      <td>5</td>\n",
       "      <td>10/26/2011 14:36</td>\n",
       "      <td>0.0</td>\n",
       "      <td>18059</td>\n",
       "      <td>United Kingdom</td>\n",
       "      <td>0.0</td>\n",
       "    </tr>\n",
       "    <tr>\n",
       "      <th>327463</th>\n",
       "      <td>574138</td>\n",
       "      <td>23234</td>\n",
       "      <td>BISCUIT TIN VINTAGE CHRISTMAS</td>\n",
       "      <td>216</td>\n",
       "      <td>11/3/2011 11:26</td>\n",
       "      <td>0.0</td>\n",
       "      <td>12415</td>\n",
       "      <td>Australia</td>\n",
       "      <td>0.0</td>\n",
       "    </tr>\n",
       "    <tr>\n",
       "      <th>327630</th>\n",
       "      <td>574175</td>\n",
       "      <td>22065</td>\n",
       "      <td>CHRISTMAS PUDDING TRINKET POT</td>\n",
       "      <td>12</td>\n",
       "      <td>11/3/2011 11:47</td>\n",
       "      <td>0.0</td>\n",
       "      <td>14110</td>\n",
       "      <td>United Kingdom</td>\n",
       "      <td>0.0</td>\n",
       "    </tr>\n",
       "    <tr>\n",
       "      <th>327992</th>\n",
       "      <td>574252</td>\n",
       "      <td>M</td>\n",
       "      <td>Manual</td>\n",
       "      <td>1</td>\n",
       "      <td>11/3/2011 13:24</td>\n",
       "      <td>0.0</td>\n",
       "      <td>12437</td>\n",
       "      <td>France</td>\n",
       "      <td>0.0</td>\n",
       "    </tr>\n",
       "    <tr>\n",
       "      <th>329894</th>\n",
       "      <td>574469</td>\n",
       "      <td>22385</td>\n",
       "      <td>JUMBO BAG SPACEBOY DESIGN</td>\n",
       "      <td>12</td>\n",
       "      <td>11/4/2011 11:55</td>\n",
       "      <td>0.0</td>\n",
       "      <td>12431</td>\n",
       "      <td>Australia</td>\n",
       "      <td>0.0</td>\n",
       "    </tr>\n",
       "    <tr>\n",
       "      <th>336106</th>\n",
       "      <td>574879</td>\n",
       "      <td>22625</td>\n",
       "      <td>RED KITCHEN SCALES</td>\n",
       "      <td>2</td>\n",
       "      <td>11/7/2011 13:22</td>\n",
       "      <td>0.0</td>\n",
       "      <td>13014</td>\n",
       "      <td>United Kingdom</td>\n",
       "      <td>0.0</td>\n",
       "    </tr>\n",
       "    <tr>\n",
       "      <th>336738</th>\n",
       "      <td>574920</td>\n",
       "      <td>22899</td>\n",
       "      <td>CHILDREN'S APRON DOLLY GIRL</td>\n",
       "      <td>1</td>\n",
       "      <td>11/7/2011 16:34</td>\n",
       "      <td>0.0</td>\n",
       "      <td>13985</td>\n",
       "      <td>United Kingdom</td>\n",
       "      <td>0.0</td>\n",
       "    </tr>\n",
       "    <tr>\n",
       "      <th>336739</th>\n",
       "      <td>574920</td>\n",
       "      <td>23480</td>\n",
       "      <td>MINI LIGHTS WOODLAND MUSHROOMS</td>\n",
       "      <td>1</td>\n",
       "      <td>11/7/2011 16:34</td>\n",
       "      <td>0.0</td>\n",
       "      <td>13985</td>\n",
       "      <td>United Kingdom</td>\n",
       "      <td>0.0</td>\n",
       "    </tr>\n",
       "    <tr>\n",
       "      <th>342114</th>\n",
       "      <td>575579</td>\n",
       "      <td>22437</td>\n",
       "      <td>SET OF 9 BLACK SKULL BALLOONS</td>\n",
       "      <td>20</td>\n",
       "      <td>11/10/2011 11:49</td>\n",
       "      <td>0.0</td>\n",
       "      <td>13081</td>\n",
       "      <td>United Kingdom</td>\n",
       "      <td>0.0</td>\n",
       "    </tr>\n",
       "    <tr>\n",
       "      <th>342115</th>\n",
       "      <td>575579</td>\n",
       "      <td>22089</td>\n",
       "      <td>PAPER BUNTING VINTAGE PAISLEY</td>\n",
       "      <td>24</td>\n",
       "      <td>11/10/2011 11:49</td>\n",
       "      <td>0.0</td>\n",
       "      <td>13081</td>\n",
       "      <td>United Kingdom</td>\n",
       "      <td>0.0</td>\n",
       "    </tr>\n",
       "    <tr>\n",
       "      <th>360854</th>\n",
       "      <td>577129</td>\n",
       "      <td>22464</td>\n",
       "      <td>HANGING METAL HEART LANTERN</td>\n",
       "      <td>4</td>\n",
       "      <td>11/17/2011 19:52</td>\n",
       "      <td>0.0</td>\n",
       "      <td>15602</td>\n",
       "      <td>United Kingdom</td>\n",
       "      <td>0.0</td>\n",
       "    </tr>\n",
       "    <tr>\n",
       "      <th>361225</th>\n",
       "      <td>577168</td>\n",
       "      <td>M</td>\n",
       "      <td>Manual</td>\n",
       "      <td>1</td>\n",
       "      <td>11/18/2011 10:42</td>\n",
       "      <td>0.0</td>\n",
       "      <td>12603</td>\n",
       "      <td>Germany</td>\n",
       "      <td>0.0</td>\n",
       "    </tr>\n",
       "    <tr>\n",
       "      <th>362308</th>\n",
       "      <td>577314</td>\n",
       "      <td>23407</td>\n",
       "      <td>SET OF 2 TRAYS HOME SWEET HOME</td>\n",
       "      <td>2</td>\n",
       "      <td>11/18/2011 13:23</td>\n",
       "      <td>0.0</td>\n",
       "      <td>12444</td>\n",
       "      <td>Norway</td>\n",
       "      <td>0.0</td>\n",
       "    </tr>\n",
       "    <tr>\n",
       "      <th>366848</th>\n",
       "      <td>577696</td>\n",
       "      <td>M</td>\n",
       "      <td>Manual</td>\n",
       "      <td>1</td>\n",
       "      <td>11/21/2011 11:57</td>\n",
       "      <td>0.0</td>\n",
       "      <td>16406</td>\n",
       "      <td>United Kingdom</td>\n",
       "      <td>0.0</td>\n",
       "    </tr>\n",
       "    <tr>\n",
       "      <th>378894</th>\n",
       "      <td>578841</td>\n",
       "      <td>84826</td>\n",
       "      <td>ASSTD DESIGN 3D PAPER STICKERS</td>\n",
       "      <td>12540</td>\n",
       "      <td>11/25/2011 15:57</td>\n",
       "      <td>0.0</td>\n",
       "      <td>13256</td>\n",
       "      <td>United Kingdom</td>\n",
       "      <td>0.0</td>\n",
       "    </tr>\n",
       "  </tbody>\n",
       "</table>\n",
       "</div>"
      ],
      "text/plain": [
       "       InvoiceNo StockCode                          Description  Quantity  \\\n",
       "7012      537197     22841         ROUND CAKE TIN VINTAGE GREEN         1   \n",
       "23071     539263     22580         ADVENT CALENDAR GINGHAM SACK         4   \n",
       "26046     539722     22423             REGENCY CAKESTAND 3 TIER        10   \n",
       "29881     540372     22090              PAPER BUNTING RETROSPOT        24   \n",
       "29883     540372     22553               PLASTERS IN TIN SKULLS        24   \n",
       "35460     541109     22168        ORGANISER WOOD ANTIQUE WHITE          1   \n",
       "55279     543599    84535B         FAIRY CAKES NOTEBOOK A6 SIZE        16   \n",
       "87903     547417     22062  CERAMIC BOWL WITH LOVE HEART DESIGN        36   \n",
       "95201     548318     22055   MINI CAKE STAND  HANGING STRAWBERY         5   \n",
       "99945     548871     22162          HEART GARLAND RUSTIC PADDED         2   \n",
       "109968    550188     22636   CHILDS BREAKFAST SET CIRCUS PARADE         1   \n",
       "131865    553000     47566                        PARTY BUNTING         4   \n",
       "140517    554037     22619            SET OF 6 SOLDIER SKITTLES        80   \n",
       "199499    561284     22167           OVAL WALL MIRROR DIAMANTE          1   \n",
       "202073    561669     22960             JAM MAKING SET WITH JARS        11   \n",
       "204627    561916         M                               Manual         1   \n",
       "214132    562973     23157           SET OF 6 NATIVITY MAGNETS        240   \n",
       "229359    564651     23270     SET OF 2 CERAMIC PAINTED HEARTS         96   \n",
       "229360    564651     23268  SET OF 2 CERAMIC CHRISTMAS REINDEER       192   \n",
       "229361    564651     22955             36 FOIL STAR CAKE CASES        144   \n",
       "229362    564651     21786                   POLKADOT RAIN HAT        144   \n",
       "262429    568158      PADS           PADS TO MATCH ALL CUSHIONS         1   \n",
       "265590    568384         M                               Manual         1   \n",
       "280386    569716     22778                   GLASS CLOCHE SMALL         2   \n",
       "293578    571035         M                               Manual         1   \n",
       "314491    572893     21208          PASTEL COLOUR HONEYCOMB FAN         5   \n",
       "327463    574138     23234        BISCUIT TIN VINTAGE CHRISTMAS       216   \n",
       "327630    574175     22065       CHRISTMAS PUDDING TRINKET POT         12   \n",
       "327992    574252         M                               Manual         1   \n",
       "329894    574469     22385            JUMBO BAG SPACEBOY DESIGN        12   \n",
       "336106    574879     22625                   RED KITCHEN SCALES         2   \n",
       "336738    574920     22899         CHILDREN'S APRON DOLLY GIRL          1   \n",
       "336739    574920     23480       MINI LIGHTS WOODLAND MUSHROOMS         1   \n",
       "342114    575579     22437        SET OF 9 BLACK SKULL BALLOONS        20   \n",
       "342115    575579     22089        PAPER BUNTING VINTAGE PAISLEY        24   \n",
       "360854    577129     22464          HANGING METAL HEART LANTERN         4   \n",
       "361225    577168         M                               Manual         1   \n",
       "362308    577314     23407       SET OF 2 TRAYS HOME SWEET HOME         2   \n",
       "366848    577696         M                               Manual         1   \n",
       "378894    578841     84826       ASSTD DESIGN 3D PAPER STICKERS     12540   \n",
       "\n",
       "             InvoiceDate  UnitPrice  CustomerID         Country  Amount  \n",
       "7012     12/5/2010 14:02        0.0       12647         Germany     0.0  \n",
       "23071   12/16/2010 14:36        0.0       16560  United Kingdom     0.0  \n",
       "26046   12/21/2010 13:45        0.0       14911            EIRE     0.0  \n",
       "29881     1/6/2011 16:41        0.0       13081  United Kingdom     0.0  \n",
       "29883     1/6/2011 16:41        0.0       13081  United Kingdom     0.0  \n",
       "35460    1/13/2011 15:10        0.0       15107  United Kingdom     0.0  \n",
       "55279    2/10/2011 13:08        0.0       17560  United Kingdom     0.0  \n",
       "87903    3/23/2011 10:25        0.0       13239  United Kingdom     0.0  \n",
       "95201    3/30/2011 12:45        0.0       13113  United Kingdom     0.0  \n",
       "99945     4/4/2011 14:42        0.0       14410  United Kingdom     0.0  \n",
       "109968   4/14/2011 18:57        0.0       12457     Switzerland     0.0  \n",
       "131865   5/12/2011 15:21        0.0       17667  United Kingdom     0.0  \n",
       "140517   5/20/2011 14:13        0.0       12415       Australia     0.0  \n",
       "199499   7/26/2011 12:24        0.0       16818  United Kingdom     0.0  \n",
       "202073   7/28/2011 17:09        0.0       12507           Spain     0.0  \n",
       "204627    8/1/2011 11:44        0.0       15581  United Kingdom     0.0  \n",
       "214132   8/11/2011 11:42        0.0       14911            EIRE     0.0  \n",
       "229359   8/26/2011 14:19        0.0       14646     Netherlands     0.0  \n",
       "229360   8/26/2011 14:19        0.0       14646     Netherlands     0.0  \n",
       "229361   8/26/2011 14:19        0.0       14646     Netherlands     0.0  \n",
       "229362   8/26/2011 14:19        0.0       14646     Netherlands     0.0  \n",
       "262429   9/25/2011 12:22        0.0       16133  United Kingdom     0.0  \n",
       "265590    9/27/2011 9:46        0.0       12748  United Kingdom     0.0  \n",
       "280386    10/6/2011 8:17        0.0       15804  United Kingdom     0.0  \n",
       "293578  10/13/2011 12:50        0.0       12446             RSA     0.0  \n",
       "314491  10/26/2011 14:36        0.0       18059  United Kingdom     0.0  \n",
       "327463   11/3/2011 11:26        0.0       12415       Australia     0.0  \n",
       "327630   11/3/2011 11:47        0.0       14110  United Kingdom     0.0  \n",
       "327992   11/3/2011 13:24        0.0       12437          France     0.0  \n",
       "329894   11/4/2011 11:55        0.0       12431       Australia     0.0  \n",
       "336106   11/7/2011 13:22        0.0       13014  United Kingdom     0.0  \n",
       "336738   11/7/2011 16:34        0.0       13985  United Kingdom     0.0  \n",
       "336739   11/7/2011 16:34        0.0       13985  United Kingdom     0.0  \n",
       "342114  11/10/2011 11:49        0.0       13081  United Kingdom     0.0  \n",
       "342115  11/10/2011 11:49        0.0       13081  United Kingdom     0.0  \n",
       "360854  11/17/2011 19:52        0.0       15602  United Kingdom     0.0  \n",
       "361225  11/18/2011 10:42        0.0       12603         Germany     0.0  \n",
       "362308  11/18/2011 13:23        0.0       12444          Norway     0.0  \n",
       "366848  11/21/2011 11:57        0.0       16406  United Kingdom     0.0  \n",
       "378894  11/25/2011 15:57        0.0       13256  United Kingdom     0.0  "
      ]
     },
     "execution_count": 50,
     "metadata": {},
     "output_type": "execute_result"
    }
   ],
   "source": [
    "#Viewing the rows where the UnitPrice is zero or lower\n",
    "ecomm_df[ecomm_df['UnitPrice']<=0]"
   ]
  },
  {
   "cell_type": "markdown",
   "metadata": {},
   "source": [
    "There are no rows with negative UnitPrice values. Zero UnitPrice could indicate that the item was given for free. However, there are cases where the unit price is zero for hundreds of items. Let's check the total invoiced amount when there are free items included."
   ]
  },
  {
   "cell_type": "code",
   "execution_count": 51,
   "metadata": {
    "scrolled": true
   },
   "outputs": [
    {
     "data": {
      "text/plain": [
       "InvoiceNo\n",
       "537197     286.50\n",
       "539263     332.18\n",
       "539722     762.30\n",
       "540372    3527.64\n",
       "541109      14.95\n",
       "543599       0.00\n",
       "547417     329.56\n",
       "548318     453.05\n",
       "548871      91.48\n",
       "550188     669.25\n",
       "553000      62.12\n",
       "554037     766.36\n",
       "561284      87.96\n",
       "561669     811.90\n",
       "561916     250.00\n",
       "562973    1234.00\n",
       "564651       0.00\n",
       "568158    1146.80\n",
       "568384       0.00\n",
       "569716     223.22\n",
       "571035    1002.31\n",
       "572893      95.78\n",
       "574138     375.24\n",
       "574175      41.60\n",
       "574252     260.48\n",
       "574469     601.44\n",
       "574879      76.50\n",
       "574920     418.26\n",
       "575579      72.00\n",
       "577129      46.80\n",
       "577168     739.20\n",
       "577314     936.64\n",
       "577696     163.07\n",
       "578841       0.00\n",
       "Name: Amount, dtype: float64"
      ]
     },
     "execution_count": 51,
     "metadata": {},
     "output_type": "execute_result"
    }
   ],
   "source": [
    "#Selecting the invoice numbers that have at least one free item in the invoice\n",
    "#Grouping this selection by the invoice number and summing the amount for each invoice number\n",
    "ecomm_df[ecomm_df['InvoiceNo'].isin(list(ecomm_df['InvoiceNo'][ecomm_df['UnitPrice']==0]))].groupby(by='InvoiceNo')['Amount'].sum()"
   ]
  },
  {
   "cell_type": "markdown",
   "metadata": {},
   "source": [
    "As seen here, most invoices have a positive total amount. There are a few with zero total amount. These could be because the free items have been billed under a separate invoice. It could also be because some items have been given as free items even when a customer did not make a purchase (this can be verified with the client)."
   ]
  },
  {
   "cell_type": "code",
   "execution_count": 52,
   "metadata": {},
   "outputs": [
    {
     "name": "stdout",
     "output_type": "stream",
     "text": [
      "<class 'pandas.core.frame.DataFrame'>\n",
      "Int64Index: 405881 entries, 0 to 406828\n",
      "Data columns (total 9 columns):\n",
      " #   Column       Non-Null Count   Dtype  \n",
      "---  ------       --------------   -----  \n",
      " 0   InvoiceNo    405881 non-null  object \n",
      " 1   StockCode    405881 non-null  object \n",
      " 2   Description  405881 non-null  object \n",
      " 3   Quantity     405881 non-null  int64  \n",
      " 4   InvoiceDate  405881 non-null  object \n",
      " 5   UnitPrice    405881 non-null  float64\n",
      " 6   CustomerID   405881 non-null  int32  \n",
      " 7   Country      405881 non-null  object \n",
      " 8   Amount       405881 non-null  float64\n",
      "dtypes: float64(2), int32(1), int64(1), object(5)\n",
      "memory usage: 29.4+ MB\n"
     ]
    }
   ],
   "source": [
    "ecomm_df.info()"
   ]
  },
  {
   "cell_type": "markdown",
   "metadata": {},
   "source": [
    "The InvoiceDate column is of float type, but seems to contain date information in a recognisable date format. This column can be converted to a datetime object."
   ]
  },
  {
   "cell_type": "code",
   "execution_count": 53,
   "metadata": {},
   "outputs": [
    {
     "name": "stdout",
     "output_type": "stream",
     "text": [
      "<class 'pandas.core.frame.DataFrame'>\n",
      "Int64Index: 405881 entries, 0 to 406828\n",
      "Data columns (total 9 columns):\n",
      " #   Column       Non-Null Count   Dtype         \n",
      "---  ------       --------------   -----         \n",
      " 0   InvoiceNo    405881 non-null  object        \n",
      " 1   StockCode    405881 non-null  object        \n",
      " 2   Description  405881 non-null  object        \n",
      " 3   Quantity     405881 non-null  int64         \n",
      " 4   InvoiceDate  405881 non-null  datetime64[ns]\n",
      " 5   UnitPrice    405881 non-null  float64       \n",
      " 6   CustomerID   405881 non-null  int32         \n",
      " 7   Country      405881 non-null  object        \n",
      " 8   Amount       405881 non-null  float64       \n",
      "dtypes: datetime64[ns](1), float64(2), int32(1), int64(1), object(4)\n",
      "memory usage: 29.4+ MB\n"
     ]
    }
   ],
   "source": [
    "ecomm_df['InvoiceDate'] = pd.to_datetime(ecomm_df['InvoiceDate'])\n",
    "ecomm_df.info()"
   ]
  },
  {
   "cell_type": "code",
   "execution_count": 54,
   "metadata": {},
   "outputs": [
    {
     "data": {
      "text/html": [
       "<div>\n",
       "<style scoped>\n",
       "    .dataframe tbody tr th:only-of-type {\n",
       "        vertical-align: middle;\n",
       "    }\n",
       "\n",
       "    .dataframe tbody tr th {\n",
       "        vertical-align: top;\n",
       "    }\n",
       "\n",
       "    .dataframe thead th {\n",
       "        text-align: right;\n",
       "    }\n",
       "</style>\n",
       "<table border=\"1\" class=\"dataframe\">\n",
       "  <thead>\n",
       "    <tr style=\"text-align: right;\">\n",
       "      <th></th>\n",
       "      <th>InvoiceNo</th>\n",
       "      <th>StockCode</th>\n",
       "      <th>Description</th>\n",
       "      <th>Quantity</th>\n",
       "      <th>InvoiceDate</th>\n",
       "      <th>UnitPrice</th>\n",
       "      <th>CustomerID</th>\n",
       "      <th>Country</th>\n",
       "      <th>Amount</th>\n",
       "    </tr>\n",
       "  </thead>\n",
       "  <tbody>\n",
       "    <tr>\n",
       "      <th>0</th>\n",
       "      <td>536365</td>\n",
       "      <td>85123A</td>\n",
       "      <td>WHITE HANGING HEART T-LIGHT HOLDER</td>\n",
       "      <td>6</td>\n",
       "      <td>2010-12-01 08:26:00</td>\n",
       "      <td>2.55</td>\n",
       "      <td>17850</td>\n",
       "      <td>United Kingdom</td>\n",
       "      <td>15.30</td>\n",
       "    </tr>\n",
       "    <tr>\n",
       "      <th>1</th>\n",
       "      <td>536365</td>\n",
       "      <td>71053</td>\n",
       "      <td>WHITE METAL LANTERN</td>\n",
       "      <td>6</td>\n",
       "      <td>2010-12-01 08:26:00</td>\n",
       "      <td>3.39</td>\n",
       "      <td>17850</td>\n",
       "      <td>United Kingdom</td>\n",
       "      <td>20.34</td>\n",
       "    </tr>\n",
       "    <tr>\n",
       "      <th>2</th>\n",
       "      <td>536365</td>\n",
       "      <td>84406B</td>\n",
       "      <td>CREAM CUPID HEARTS COAT HANGER</td>\n",
       "      <td>8</td>\n",
       "      <td>2010-12-01 08:26:00</td>\n",
       "      <td>2.75</td>\n",
       "      <td>17850</td>\n",
       "      <td>United Kingdom</td>\n",
       "      <td>22.00</td>\n",
       "    </tr>\n",
       "    <tr>\n",
       "      <th>3</th>\n",
       "      <td>536365</td>\n",
       "      <td>84029G</td>\n",
       "      <td>KNITTED UNION FLAG HOT WATER BOTTLE</td>\n",
       "      <td>6</td>\n",
       "      <td>2010-12-01 08:26:00</td>\n",
       "      <td>3.39</td>\n",
       "      <td>17850</td>\n",
       "      <td>United Kingdom</td>\n",
       "      <td>20.34</td>\n",
       "    </tr>\n",
       "    <tr>\n",
       "      <th>4</th>\n",
       "      <td>536365</td>\n",
       "      <td>84029E</td>\n",
       "      <td>RED WOOLLY HOTTIE WHITE HEART.</td>\n",
       "      <td>6</td>\n",
       "      <td>2010-12-01 08:26:00</td>\n",
       "      <td>3.39</td>\n",
       "      <td>17850</td>\n",
       "      <td>United Kingdom</td>\n",
       "      <td>20.34</td>\n",
       "    </tr>\n",
       "  </tbody>\n",
       "</table>\n",
       "</div>"
      ],
      "text/plain": [
       "  InvoiceNo StockCode                          Description  Quantity  \\\n",
       "0    536365    85123A   WHITE HANGING HEART T-LIGHT HOLDER         6   \n",
       "1    536365     71053                  WHITE METAL LANTERN         6   \n",
       "2    536365    84406B       CREAM CUPID HEARTS COAT HANGER         8   \n",
       "3    536365    84029G  KNITTED UNION FLAG HOT WATER BOTTLE         6   \n",
       "4    536365    84029E       RED WOOLLY HOTTIE WHITE HEART.         6   \n",
       "\n",
       "          InvoiceDate  UnitPrice  CustomerID         Country  Amount  \n",
       "0 2010-12-01 08:26:00       2.55       17850  United Kingdom   15.30  \n",
       "1 2010-12-01 08:26:00       3.39       17850  United Kingdom   20.34  \n",
       "2 2010-12-01 08:26:00       2.75       17850  United Kingdom   22.00  \n",
       "3 2010-12-01 08:26:00       3.39       17850  United Kingdom   20.34  \n",
       "4 2010-12-01 08:26:00       3.39       17850  United Kingdom   20.34  "
      ]
     },
     "execution_count": 54,
     "metadata": {},
     "output_type": "execute_result"
    }
   ],
   "source": [
    "ecomm_df.head()"
   ]
  },
  {
   "cell_type": "markdown",
   "metadata": {},
   "source": [
    "To calculate recency, the most recent invoice number of each customer is required."
   ]
  },
  {
   "cell_type": "code",
   "execution_count": 55,
   "metadata": {},
   "outputs": [
    {
     "data": {
      "text/html": [
       "<div>\n",
       "<style scoped>\n",
       "    .dataframe tbody tr th:only-of-type {\n",
       "        vertical-align: middle;\n",
       "    }\n",
       "\n",
       "    .dataframe tbody tr th {\n",
       "        vertical-align: top;\n",
       "    }\n",
       "\n",
       "    .dataframe thead th {\n",
       "        text-align: right;\n",
       "    }\n",
       "</style>\n",
       "<table border=\"1\" class=\"dataframe\">\n",
       "  <thead>\n",
       "    <tr style=\"text-align: right;\">\n",
       "      <th></th>\n",
       "      <th>CustomerID</th>\n",
       "      <th>InvoiceDate</th>\n",
       "    </tr>\n",
       "  </thead>\n",
       "  <tbody>\n",
       "    <tr>\n",
       "      <th>0</th>\n",
       "      <td>12346</td>\n",
       "      <td>2011-01-18 10:17:00</td>\n",
       "    </tr>\n",
       "    <tr>\n",
       "      <th>1</th>\n",
       "      <td>12347</td>\n",
       "      <td>2011-12-07 15:52:00</td>\n",
       "    </tr>\n",
       "    <tr>\n",
       "      <th>2</th>\n",
       "      <td>12348</td>\n",
       "      <td>2011-09-25 13:13:00</td>\n",
       "    </tr>\n",
       "    <tr>\n",
       "      <th>3</th>\n",
       "      <td>12349</td>\n",
       "      <td>2011-11-21 09:51:00</td>\n",
       "    </tr>\n",
       "    <tr>\n",
       "      <th>4</th>\n",
       "      <td>12350</td>\n",
       "      <td>2011-02-02 16:01:00</td>\n",
       "    </tr>\n",
       "  </tbody>\n",
       "</table>\n",
       "</div>"
      ],
      "text/plain": [
       "   CustomerID         InvoiceDate\n",
       "0       12346 2011-01-18 10:17:00\n",
       "1       12347 2011-12-07 15:52:00\n",
       "2       12348 2011-09-25 13:13:00\n",
       "3       12349 2011-11-21 09:51:00\n",
       "4       12350 2011-02-02 16:01:00"
      ]
     },
     "execution_count": 55,
     "metadata": {},
     "output_type": "execute_result"
    }
   ],
   "source": [
    "#Grouping by the customer ID column to find each customer's most recent invoice\n",
    "#Note that this is a good way to get a dataframe (instead of a groupby object) that contains the info needed\n",
    "recency_df = ecomm_df.groupby(by='CustomerID', as_index=False)['InvoiceDate'].max()\n",
    "recency_df.head()"
   ]
  },
  {
   "cell_type": "code",
   "execution_count": 56,
   "metadata": {},
   "outputs": [
    {
     "data": {
      "text/html": [
       "<div>\n",
       "<style scoped>\n",
       "    .dataframe tbody tr th:only-of-type {\n",
       "        vertical-align: middle;\n",
       "    }\n",
       "\n",
       "    .dataframe tbody tr th {\n",
       "        vertical-align: top;\n",
       "    }\n",
       "\n",
       "    .dataframe thead th {\n",
       "        text-align: right;\n",
       "    }\n",
       "</style>\n",
       "<table border=\"1\" class=\"dataframe\">\n",
       "  <thead>\n",
       "    <tr style=\"text-align: right;\">\n",
       "      <th></th>\n",
       "      <th>CustomerID</th>\n",
       "      <th>MostRecentPurchaseDate</th>\n",
       "    </tr>\n",
       "  </thead>\n",
       "  <tbody>\n",
       "    <tr>\n",
       "      <th>0</th>\n",
       "      <td>12346</td>\n",
       "      <td>2011-01-18</td>\n",
       "    </tr>\n",
       "    <tr>\n",
       "      <th>1</th>\n",
       "      <td>12347</td>\n",
       "      <td>2011-12-07</td>\n",
       "    </tr>\n",
       "    <tr>\n",
       "      <th>2</th>\n",
       "      <td>12348</td>\n",
       "      <td>2011-09-25</td>\n",
       "    </tr>\n",
       "    <tr>\n",
       "      <th>3</th>\n",
       "      <td>12349</td>\n",
       "      <td>2011-11-21</td>\n",
       "    </tr>\n",
       "    <tr>\n",
       "      <th>4</th>\n",
       "      <td>12350</td>\n",
       "      <td>2011-02-02</td>\n",
       "    </tr>\n",
       "  </tbody>\n",
       "</table>\n",
       "</div>"
      ],
      "text/plain": [
       "   CustomerID MostRecentPurchaseDate\n",
       "0       12346             2011-01-18\n",
       "1       12347             2011-12-07\n",
       "2       12348             2011-09-25\n",
       "3       12349             2011-11-21\n",
       "4       12350             2011-02-02"
      ]
     },
     "execution_count": 56,
     "metadata": {},
     "output_type": "execute_result"
    }
   ],
   "source": [
    "#Converting the InvoiceDate column to a date object\n",
    "recency_df['InvoiceDate'] = recency_df['InvoiceDate'].apply(lambda x: x.date())\n",
    "\n",
    "#Renaming the InvoiceDate column\n",
    "recency_df.columns = ['CustomerID', 'MostRecentPurchaseDate']\n",
    "recency_df.head()"
   ]
  },
  {
   "cell_type": "markdown",
   "metadata": {},
   "source": [
    "Recency is the number of days since the last purchase. This can be calculated from the MostRecentPurchaseDate column."
   ]
  },
  {
   "cell_type": "code",
   "execution_count": 57,
   "metadata": {},
   "outputs": [
    {
     "name": "stdout",
     "output_type": "stream",
     "text": [
      "2011-12-09\n",
      "2010-12-01\n"
     ]
    }
   ],
   "source": [
    "#Finding the most recent and the oldest dates in the column\n",
    "print(max(recency_df['MostRecentPurchaseDate']))\n",
    "print(min(recency_df['MostRecentPurchaseDate']))"
   ]
  },
  {
   "cell_type": "code",
   "execution_count": 58,
   "metadata": {},
   "outputs": [
    {
     "name": "stdout",
     "output_type": "stream",
     "text": [
      "2011-12-10\n"
     ]
    }
   ],
   "source": [
    "#Setting a date that will be used to calculate number of days for the recency column\n",
    "today = dt.date(2011, 12, 10)\n",
    "print(today)"
   ]
  },
  {
   "cell_type": "code",
   "execution_count": 59,
   "metadata": {},
   "outputs": [],
   "source": [
    "#Calculating the Recency values\n",
    "recency_df['Recency'] = recency_df['MostRecentPurchaseDate'].apply(lambda x: (today-x).days)\n",
    "\n",
    "#Note: recency = today - mostrecentpurchasedate is also possible, but the result is a timedelta object.\n",
    "#The code above gives results in int"
   ]
  },
  {
   "cell_type": "code",
   "execution_count": 60,
   "metadata": {},
   "outputs": [
    {
     "data": {
      "text/html": [
       "<div>\n",
       "<style scoped>\n",
       "    .dataframe tbody tr th:only-of-type {\n",
       "        vertical-align: middle;\n",
       "    }\n",
       "\n",
       "    .dataframe tbody tr th {\n",
       "        vertical-align: top;\n",
       "    }\n",
       "\n",
       "    .dataframe thead th {\n",
       "        text-align: right;\n",
       "    }\n",
       "</style>\n",
       "<table border=\"1\" class=\"dataframe\">\n",
       "  <thead>\n",
       "    <tr style=\"text-align: right;\">\n",
       "      <th></th>\n",
       "      <th>CustomerID</th>\n",
       "      <th>Recency</th>\n",
       "    </tr>\n",
       "  </thead>\n",
       "  <tbody>\n",
       "    <tr>\n",
       "      <th>0</th>\n",
       "      <td>12346</td>\n",
       "      <td>326</td>\n",
       "    </tr>\n",
       "    <tr>\n",
       "      <th>1</th>\n",
       "      <td>12347</td>\n",
       "      <td>3</td>\n",
       "    </tr>\n",
       "    <tr>\n",
       "      <th>2</th>\n",
       "      <td>12348</td>\n",
       "      <td>76</td>\n",
       "    </tr>\n",
       "    <tr>\n",
       "      <th>3</th>\n",
       "      <td>12349</td>\n",
       "      <td>19</td>\n",
       "    </tr>\n",
       "    <tr>\n",
       "      <th>4</th>\n",
       "      <td>12350</td>\n",
       "      <td>311</td>\n",
       "    </tr>\n",
       "  </tbody>\n",
       "</table>\n",
       "</div>"
      ],
      "text/plain": [
       "   CustomerID  Recency\n",
       "0       12346      326\n",
       "1       12347        3\n",
       "2       12348       76\n",
       "3       12349       19\n",
       "4       12350      311"
      ]
     },
     "execution_count": 60,
     "metadata": {},
     "output_type": "execute_result"
    }
   ],
   "source": [
    "#Dropping the MostRecentPurchaseDate column, as its no longer needed\n",
    "recency_df.drop('MostRecentPurchaseDate', axis = 1, inplace=True)\n",
    "recency_df.head()"
   ]
  },
  {
   "cell_type": "markdown",
   "metadata": {},
   "source": [
    "Next, let's calculate the Frequency values for each customer. Frequency is the number of times the customer has transacted in the given period."
   ]
  },
  {
   "cell_type": "code",
   "execution_count": 61,
   "metadata": {},
   "outputs": [
    {
     "data": {
      "text/html": [
       "<div>\n",
       "<style scoped>\n",
       "    .dataframe tbody tr th:only-of-type {\n",
       "        vertical-align: middle;\n",
       "    }\n",
       "\n",
       "    .dataframe tbody tr th {\n",
       "        vertical-align: top;\n",
       "    }\n",
       "\n",
       "    .dataframe thead th {\n",
       "        text-align: right;\n",
       "    }\n",
       "</style>\n",
       "<table border=\"1\" class=\"dataframe\">\n",
       "  <thead>\n",
       "    <tr style=\"text-align: right;\">\n",
       "      <th></th>\n",
       "      <th>InvoiceNo</th>\n",
       "      <th>StockCode</th>\n",
       "      <th>Description</th>\n",
       "      <th>Quantity</th>\n",
       "      <th>InvoiceDate</th>\n",
       "      <th>UnitPrice</th>\n",
       "      <th>CustomerID</th>\n",
       "      <th>Country</th>\n",
       "      <th>Amount</th>\n",
       "    </tr>\n",
       "  </thead>\n",
       "  <tbody>\n",
       "    <tr>\n",
       "      <th>0</th>\n",
       "      <td>536365</td>\n",
       "      <td>85123A</td>\n",
       "      <td>WHITE HANGING HEART T-LIGHT HOLDER</td>\n",
       "      <td>6</td>\n",
       "      <td>2010-12-01 08:26:00</td>\n",
       "      <td>2.55</td>\n",
       "      <td>17850</td>\n",
       "      <td>United Kingdom</td>\n",
       "      <td>15.30</td>\n",
       "    </tr>\n",
       "    <tr>\n",
       "      <th>1</th>\n",
       "      <td>536365</td>\n",
       "      <td>71053</td>\n",
       "      <td>WHITE METAL LANTERN</td>\n",
       "      <td>6</td>\n",
       "      <td>2010-12-01 08:26:00</td>\n",
       "      <td>3.39</td>\n",
       "      <td>17850</td>\n",
       "      <td>United Kingdom</td>\n",
       "      <td>20.34</td>\n",
       "    </tr>\n",
       "    <tr>\n",
       "      <th>2</th>\n",
       "      <td>536365</td>\n",
       "      <td>84406B</td>\n",
       "      <td>CREAM CUPID HEARTS COAT HANGER</td>\n",
       "      <td>8</td>\n",
       "      <td>2010-12-01 08:26:00</td>\n",
       "      <td>2.75</td>\n",
       "      <td>17850</td>\n",
       "      <td>United Kingdom</td>\n",
       "      <td>22.00</td>\n",
       "    </tr>\n",
       "    <tr>\n",
       "      <th>3</th>\n",
       "      <td>536365</td>\n",
       "      <td>84029G</td>\n",
       "      <td>KNITTED UNION FLAG HOT WATER BOTTLE</td>\n",
       "      <td>6</td>\n",
       "      <td>2010-12-01 08:26:00</td>\n",
       "      <td>3.39</td>\n",
       "      <td>17850</td>\n",
       "      <td>United Kingdom</td>\n",
       "      <td>20.34</td>\n",
       "    </tr>\n",
       "    <tr>\n",
       "      <th>4</th>\n",
       "      <td>536365</td>\n",
       "      <td>84029E</td>\n",
       "      <td>RED WOOLLY HOTTIE WHITE HEART.</td>\n",
       "      <td>6</td>\n",
       "      <td>2010-12-01 08:26:00</td>\n",
       "      <td>3.39</td>\n",
       "      <td>17850</td>\n",
       "      <td>United Kingdom</td>\n",
       "      <td>20.34</td>\n",
       "    </tr>\n",
       "  </tbody>\n",
       "</table>\n",
       "</div>"
      ],
      "text/plain": [
       "  InvoiceNo StockCode                          Description  Quantity  \\\n",
       "0    536365    85123A   WHITE HANGING HEART T-LIGHT HOLDER         6   \n",
       "1    536365     71053                  WHITE METAL LANTERN         6   \n",
       "2    536365    84406B       CREAM CUPID HEARTS COAT HANGER         8   \n",
       "3    536365    84029G  KNITTED UNION FLAG HOT WATER BOTTLE         6   \n",
       "4    536365    84029E       RED WOOLLY HOTTIE WHITE HEART.         6   \n",
       "\n",
       "          InvoiceDate  UnitPrice  CustomerID         Country  Amount  \n",
       "0 2010-12-01 08:26:00       2.55       17850  United Kingdom   15.30  \n",
       "1 2010-12-01 08:26:00       3.39       17850  United Kingdom   20.34  \n",
       "2 2010-12-01 08:26:00       2.75       17850  United Kingdom   22.00  \n",
       "3 2010-12-01 08:26:00       3.39       17850  United Kingdom   20.34  \n",
       "4 2010-12-01 08:26:00       3.39       17850  United Kingdom   20.34  "
      ]
     },
     "execution_count": 61,
     "metadata": {},
     "output_type": "execute_result"
    }
   ],
   "source": [
    "ecomm_df.head()"
   ]
  },
  {
   "cell_type": "markdown",
   "metadata": {},
   "source": [
    "Since each row represents an item purchased by a customer, the invoice number is repeated (along with the same invoice date) for a customer. This indicates that the customer billed multiple items together."
   ]
  },
  {
   "cell_type": "code",
   "execution_count": 62,
   "metadata": {},
   "outputs": [
    {
     "data": {
      "text/html": [
       "<div>\n",
       "<style scoped>\n",
       "    .dataframe tbody tr th:only-of-type {\n",
       "        vertical-align: middle;\n",
       "    }\n",
       "\n",
       "    .dataframe tbody tr th {\n",
       "        vertical-align: top;\n",
       "    }\n",
       "\n",
       "    .dataframe thead th {\n",
       "        text-align: right;\n",
       "    }\n",
       "</style>\n",
       "<table border=\"1\" class=\"dataframe\">\n",
       "  <thead>\n",
       "    <tr style=\"text-align: right;\">\n",
       "      <th></th>\n",
       "      <th>CustomerID</th>\n",
       "      <th>InvoiceNo</th>\n",
       "    </tr>\n",
       "  </thead>\n",
       "  <tbody>\n",
       "    <tr>\n",
       "      <th>0</th>\n",
       "      <td>12346</td>\n",
       "      <td>2</td>\n",
       "    </tr>\n",
       "    <tr>\n",
       "      <th>1</th>\n",
       "      <td>12347</td>\n",
       "      <td>182</td>\n",
       "    </tr>\n",
       "    <tr>\n",
       "      <th>2</th>\n",
       "      <td>12348</td>\n",
       "      <td>31</td>\n",
       "    </tr>\n",
       "    <tr>\n",
       "      <th>3</th>\n",
       "      <td>12349</td>\n",
       "      <td>73</td>\n",
       "    </tr>\n",
       "    <tr>\n",
       "      <th>4</th>\n",
       "      <td>12350</td>\n",
       "      <td>17</td>\n",
       "    </tr>\n",
       "  </tbody>\n",
       "</table>\n",
       "</div>"
      ],
      "text/plain": [
       "   CustomerID  InvoiceNo\n",
       "0       12346          2\n",
       "1       12347        182\n",
       "2       12348         31\n",
       "3       12349         73\n",
       "4       12350         17"
      ]
     },
     "execution_count": 62,
     "metadata": {},
     "output_type": "execute_result"
    }
   ],
   "source": [
    "#Counting the number of unique invoice numbers to determine the number of transactions made by the customer\n",
    "frequency_df = ecomm_df.groupby(by='CustomerID', as_index=False)['InvoiceNo'].count()\n",
    "frequency_df.head()"
   ]
  },
  {
   "cell_type": "code",
   "execution_count": 63,
   "metadata": {},
   "outputs": [
    {
     "data": {
      "text/html": [
       "<div>\n",
       "<style scoped>\n",
       "    .dataframe tbody tr th:only-of-type {\n",
       "        vertical-align: middle;\n",
       "    }\n",
       "\n",
       "    .dataframe tbody tr th {\n",
       "        vertical-align: top;\n",
       "    }\n",
       "\n",
       "    .dataframe thead th {\n",
       "        text-align: right;\n",
       "    }\n",
       "</style>\n",
       "<table border=\"1\" class=\"dataframe\">\n",
       "  <thead>\n",
       "    <tr style=\"text-align: right;\">\n",
       "      <th></th>\n",
       "      <th>CustomerID</th>\n",
       "      <th>Frequency</th>\n",
       "    </tr>\n",
       "  </thead>\n",
       "  <tbody>\n",
       "    <tr>\n",
       "      <th>0</th>\n",
       "      <td>12346</td>\n",
       "      <td>2</td>\n",
       "    </tr>\n",
       "    <tr>\n",
       "      <th>1</th>\n",
       "      <td>12347</td>\n",
       "      <td>182</td>\n",
       "    </tr>\n",
       "    <tr>\n",
       "      <th>2</th>\n",
       "      <td>12348</td>\n",
       "      <td>31</td>\n",
       "    </tr>\n",
       "    <tr>\n",
       "      <th>3</th>\n",
       "      <td>12349</td>\n",
       "      <td>73</td>\n",
       "    </tr>\n",
       "    <tr>\n",
       "      <th>4</th>\n",
       "      <td>12350</td>\n",
       "      <td>17</td>\n",
       "    </tr>\n",
       "  </tbody>\n",
       "</table>\n",
       "</div>"
      ],
      "text/plain": [
       "   CustomerID  Frequency\n",
       "0       12346          2\n",
       "1       12347        182\n",
       "2       12348         31\n",
       "3       12349         73\n",
       "4       12350         17"
      ]
     },
     "execution_count": 63,
     "metadata": {},
     "output_type": "execute_result"
    }
   ],
   "source": [
    "frequency_df.columns = ['CustomerID', 'Frequency']\n",
    "frequency_df.head()"
   ]
  },
  {
   "cell_type": "markdown",
   "metadata": {},
   "source": [
    "And finally, let's calulate the values of the Monetary column."
   ]
  },
  {
   "cell_type": "code",
   "execution_count": 64,
   "metadata": {},
   "outputs": [
    {
     "data": {
      "text/html": [
       "<div>\n",
       "<style scoped>\n",
       "    .dataframe tbody tr th:only-of-type {\n",
       "        vertical-align: middle;\n",
       "    }\n",
       "\n",
       "    .dataframe tbody tr th {\n",
       "        vertical-align: top;\n",
       "    }\n",
       "\n",
       "    .dataframe thead th {\n",
       "        text-align: right;\n",
       "    }\n",
       "</style>\n",
       "<table border=\"1\" class=\"dataframe\">\n",
       "  <thead>\n",
       "    <tr style=\"text-align: right;\">\n",
       "      <th></th>\n",
       "      <th>CustomerID</th>\n",
       "      <th>Monetary</th>\n",
       "    </tr>\n",
       "  </thead>\n",
       "  <tbody>\n",
       "    <tr>\n",
       "      <th>0</th>\n",
       "      <td>12346</td>\n",
       "      <td>0.00</td>\n",
       "    </tr>\n",
       "    <tr>\n",
       "      <th>1</th>\n",
       "      <td>12347</td>\n",
       "      <td>4310.00</td>\n",
       "    </tr>\n",
       "    <tr>\n",
       "      <th>2</th>\n",
       "      <td>12348</td>\n",
       "      <td>1797.24</td>\n",
       "    </tr>\n",
       "    <tr>\n",
       "      <th>3</th>\n",
       "      <td>12349</td>\n",
       "      <td>1757.55</td>\n",
       "    </tr>\n",
       "    <tr>\n",
       "      <th>4</th>\n",
       "      <td>12350</td>\n",
       "      <td>334.40</td>\n",
       "    </tr>\n",
       "  </tbody>\n",
       "</table>\n",
       "</div>"
      ],
      "text/plain": [
       "   CustomerID  Monetary\n",
       "0       12346      0.00\n",
       "1       12347   4310.00\n",
       "2       12348   1797.24\n",
       "3       12349   1757.55\n",
       "4       12350    334.40"
      ]
     },
     "execution_count": 64,
     "metadata": {},
     "output_type": "execute_result"
    }
   ],
   "source": [
    "monetary_df = ecomm_df.groupby(by='CustomerID', as_index=False)['Amount'].sum()\n",
    "monetary_df.columns = ['CustomerID', 'Monetary']\n",
    "monetary_df.head()"
   ]
  },
  {
   "cell_type": "markdown",
   "metadata": {},
   "source": [
    "The next step is to merge these three dataframes."
   ]
  },
  {
   "cell_type": "code",
   "execution_count": 65,
   "metadata": {},
   "outputs": [
    {
     "name": "stdout",
     "output_type": "stream",
     "text": [
      "(4339, 2)\n",
      "(4339, 2)\n",
      "(4339, 2)\n"
     ]
    }
   ],
   "source": [
    "#Checking if all three dataframes have the same number of rows (one row for each customer)\n",
    "print(recency_df.shape)\n",
    "print(frequency_df.shape)\n",
    "print(monetary_df.shape)"
   ]
  },
  {
   "cell_type": "code",
   "execution_count": 66,
   "metadata": {},
   "outputs": [
    {
     "data": {
      "text/html": [
       "<div>\n",
       "<style scoped>\n",
       "    .dataframe tbody tr th:only-of-type {\n",
       "        vertical-align: middle;\n",
       "    }\n",
       "\n",
       "    .dataframe tbody tr th {\n",
       "        vertical-align: top;\n",
       "    }\n",
       "\n",
       "    .dataframe thead th {\n",
       "        text-align: right;\n",
       "    }\n",
       "</style>\n",
       "<table border=\"1\" class=\"dataframe\">\n",
       "  <thead>\n",
       "    <tr style=\"text-align: right;\">\n",
       "      <th></th>\n",
       "      <th>CustomerID</th>\n",
       "      <th>Recency</th>\n",
       "      <th>Frequency</th>\n",
       "      <th>Monetary</th>\n",
       "    </tr>\n",
       "  </thead>\n",
       "  <tbody>\n",
       "    <tr>\n",
       "      <th>0</th>\n",
       "      <td>12346</td>\n",
       "      <td>326</td>\n",
       "      <td>2</td>\n",
       "      <td>0.00</td>\n",
       "    </tr>\n",
       "    <tr>\n",
       "      <th>1</th>\n",
       "      <td>12347</td>\n",
       "      <td>3</td>\n",
       "      <td>182</td>\n",
       "      <td>4310.00</td>\n",
       "    </tr>\n",
       "    <tr>\n",
       "      <th>2</th>\n",
       "      <td>12348</td>\n",
       "      <td>76</td>\n",
       "      <td>31</td>\n",
       "      <td>1797.24</td>\n",
       "    </tr>\n",
       "    <tr>\n",
       "      <th>3</th>\n",
       "      <td>12349</td>\n",
       "      <td>19</td>\n",
       "      <td>73</td>\n",
       "      <td>1757.55</td>\n",
       "    </tr>\n",
       "    <tr>\n",
       "      <th>4</th>\n",
       "      <td>12350</td>\n",
       "      <td>311</td>\n",
       "      <td>17</td>\n",
       "      <td>334.40</td>\n",
       "    </tr>\n",
       "  </tbody>\n",
       "</table>\n",
       "</div>"
      ],
      "text/plain": [
       "   CustomerID  Recency  Frequency  Monetary\n",
       "0       12346      326          2      0.00\n",
       "1       12347        3        182   4310.00\n",
       "2       12348       76         31   1797.24\n",
       "3       12349       19         73   1757.55\n",
       "4       12350      311         17    334.40"
      ]
     },
     "execution_count": 66,
     "metadata": {},
     "output_type": "execute_result"
    }
   ],
   "source": [
    "rfm_df = recency_df.merge(frequency_df, on='CustomerID')\n",
    "rfm_df = rfm_df.merge(monetary_df, on='CustomerID')\n",
    "rfm_df.head()"
   ]
  },
  {
   "cell_type": "code",
   "execution_count": 67,
   "metadata": {},
   "outputs": [
    {
     "data": {
      "text/html": [
       "<div>\n",
       "<style scoped>\n",
       "    .dataframe tbody tr th:only-of-type {\n",
       "        vertical-align: middle;\n",
       "    }\n",
       "\n",
       "    .dataframe tbody tr th {\n",
       "        vertical-align: top;\n",
       "    }\n",
       "\n",
       "    .dataframe thead th {\n",
       "        text-align: right;\n",
       "    }\n",
       "</style>\n",
       "<table border=\"1\" class=\"dataframe\">\n",
       "  <thead>\n",
       "    <tr style=\"text-align: right;\">\n",
       "      <th></th>\n",
       "      <th>CustomerID</th>\n",
       "      <th>Recency</th>\n",
       "      <th>Frequency</th>\n",
       "      <th>Monetary</th>\n",
       "    </tr>\n",
       "  </thead>\n",
       "  <tbody>\n",
       "    <tr>\n",
       "      <th>count</th>\n",
       "      <td>4339.000000</td>\n",
       "      <td>4339.000000</td>\n",
       "      <td>4339.000000</td>\n",
       "      <td>4339.000000</td>\n",
       "    </tr>\n",
       "    <tr>\n",
       "      <th>mean</th>\n",
       "      <td>15299.936852</td>\n",
       "      <td>91.372667</td>\n",
       "      <td>93.542521</td>\n",
       "      <td>1935.814474</td>\n",
       "    </tr>\n",
       "    <tr>\n",
       "      <th>std</th>\n",
       "      <td>1721.889758</td>\n",
       "      <td>99.484168</td>\n",
       "      <td>232.820749</td>\n",
       "      <td>8339.408230</td>\n",
       "    </tr>\n",
       "    <tr>\n",
       "      <th>min</th>\n",
       "      <td>12346.000000</td>\n",
       "      <td>1.000000</td>\n",
       "      <td>1.000000</td>\n",
       "      <td>-451.420000</td>\n",
       "    </tr>\n",
       "    <tr>\n",
       "      <th>25%</th>\n",
       "      <td>13812.500000</td>\n",
       "      <td>17.000000</td>\n",
       "      <td>18.000000</td>\n",
       "      <td>302.185000</td>\n",
       "    </tr>\n",
       "    <tr>\n",
       "      <th>50%</th>\n",
       "      <td>15299.000000</td>\n",
       "      <td>50.000000</td>\n",
       "      <td>42.000000</td>\n",
       "      <td>657.230000</td>\n",
       "    </tr>\n",
       "    <tr>\n",
       "      <th>75%</th>\n",
       "      <td>16778.500000</td>\n",
       "      <td>140.000000</td>\n",
       "      <td>102.000000</td>\n",
       "      <td>1624.130000</td>\n",
       "    </tr>\n",
       "    <tr>\n",
       "      <th>max</th>\n",
       "      <td>18287.000000</td>\n",
       "      <td>374.000000</td>\n",
       "      <td>7974.000000</td>\n",
       "      <td>279801.020000</td>\n",
       "    </tr>\n",
       "  </tbody>\n",
       "</table>\n",
       "</div>"
      ],
      "text/plain": [
       "         CustomerID      Recency    Frequency       Monetary\n",
       "count   4339.000000  4339.000000  4339.000000    4339.000000\n",
       "mean   15299.936852    91.372667    93.542521    1935.814474\n",
       "std     1721.889758    99.484168   232.820749    8339.408230\n",
       "min    12346.000000     1.000000     1.000000    -451.420000\n",
       "25%    13812.500000    17.000000    18.000000     302.185000\n",
       "50%    15299.000000    50.000000    42.000000     657.230000\n",
       "75%    16778.500000   140.000000   102.000000    1624.130000\n",
       "max    18287.000000   374.000000  7974.000000  279801.020000"
      ]
     },
     "execution_count": 67,
     "metadata": {},
     "output_type": "execute_result"
    }
   ],
   "source": [
    "rfm_df.describe()"
   ]
  },
  {
   "cell_type": "markdown",
   "metadata": {},
   "source": [
    "From this table, we can see that both the Monetary and Frequency columns have outliers. Let's check all three columns for outliers."
   ]
  },
  {
   "cell_type": "markdown",
   "metadata": {},
   "source": [
    "## Outlier Treatment"
   ]
  },
  {
   "cell_type": "markdown",
   "metadata": {},
   "source": [
    "The K-Means algorithm is sensitive to outliers. Let's visualize the distribution of all three columns to check for outliers."
   ]
  },
  {
   "cell_type": "code",
   "execution_count": 68,
   "metadata": {},
   "outputs": [
    {
     "data": {
      "image/png": "[encoded data removed]",
      "text/plain": [
       "<Figure size 1080x360 with 3 Axes>"
      ]
     },
     "metadata": {
      "needs_background": "light"
     },
     "output_type": "display_data"
    }
   ],
   "source": [
    "plt.figure(figsize=(15, 5))\n",
    "\n",
    "plt.subplot(1, 3, 1)\n",
    "plt.title(\"Recency\")\n",
    "sns.boxplot(y=rfm_df['Recency'])\n",
    "\n",
    "plt.subplot(1, 3, 2)\n",
    "plt.title(\"Frequency\")\n",
    "sns.boxplot(y=rfm_df['Frequency'])\n",
    "\n",
    "plt.subplot(1, 3, 3)\n",
    "plt.title(\"Monetary\")\n",
    "sns.boxplot(y=rfm_df['Monetary'])\n",
    "\n",
    "plt.show()"
   ]
  },
  {
   "cell_type": "markdown",
   "metadata": {},
   "source": [
    "The boxplots show that all three columns contain outliers, although the outliers are far more distant in the frequency and monetary columns."
   ]
  },
  {
   "cell_type": "code",
   "execution_count": 69,
   "metadata": {},
   "outputs": [
    {
     "data": {
      "text/plain": [
       "4339"
      ]
     },
     "execution_count": 69,
     "metadata": {},
     "output_type": "execute_result"
    }
   ],
   "source": [
    "#Checking the number of rows in the dataframe before performing outlier treatment\n",
    "rfm_df.shape[0]"
   ]
  },
  {
   "cell_type": "markdown",
   "metadata": {},
   "source": [
    "Let's start by removing the outliers in the monetary column"
   ]
  },
  {
   "cell_type": "code",
   "execution_count": 70,
   "metadata": {},
   "outputs": [
    {
     "data": {
      "text/plain": [
       "3917"
      ]
     },
     "execution_count": 70,
     "metadata": {},
     "output_type": "execute_result"
    }
   ],
   "source": [
    "#Calculating the lower and upper quartiles and the interquartile range\n",
    "q1_mon = rfm_df['Monetary'].quantile(0.25)\n",
    "q3_mon = rfm_df['Monetary'].quantile(0.75)\n",
    "inter_qr_mon = q3_mon - q1_mon\n",
    "\n",
    "#Retaining only the values that are within 1.5*interquartile range (the whiskers on the boxplot)\n",
    "rfm_df = rfm_df[(rfm_df['Monetary'] >= (q1_mon - inter_qr_mon*1.5)) \n",
    "                & (rfm_df['Monetary'] <= (q3_mon + inter_qr_mon*1.5))]\n",
    "rfm_df.shape[0]"
   ]
  },
  {
   "cell_type": "markdown",
   "metadata": {},
   "source": [
    "Removing the outliers in the frequency column next"
   ]
  },
  {
   "cell_type": "code",
   "execution_count": 71,
   "metadata": {},
   "outputs": [
    {
     "data": {
      "text/plain": [
       "3665"
      ]
     },
     "execution_count": 71,
     "metadata": {},
     "output_type": "execute_result"
    }
   ],
   "source": [
    "#Calculating the lower and upper quartiles and the interquartile range\n",
    "q1_freq = rfm_df['Frequency'].quantile(0.25)\n",
    "q3_freq = rfm_df['Frequency'].quantile(0.75)\n",
    "inter_qr_freq = q3_freq - q1_freq\n",
    "\n",
    "#Retaining only the values that are within 1.5*interquartile range (the whiskers on the boxplot)\n",
    "rfm_df = rfm_df[(rfm_df['Frequency'] >= (q1_freq - inter_qr_freq*1.5)) \n",
    "                & (rfm_df['Frequency'] <= (q3_freq + inter_qr_freq*1.5))]\n",
    "rfm_df.shape[0]"
   ]
  },
  {
   "cell_type": "markdown",
   "metadata": {},
   "source": [
    "I'm discarding a lot of rows (4372 - 3665 = 707) as the k-means clustering algorithm is very sensitive to outliers."
   ]
  },
  {
   "cell_type": "markdown",
   "metadata": {},
   "source": [
    "Plotting boxplots of all three columns again"
   ]
  },
  {
   "cell_type": "code",
   "execution_count": 72,
   "metadata": {},
   "outputs": [
    {
     "data": {
      "image/png": "[encoded data removed]",
      "text/plain": [
       "<Figure size 1080x360 with 3 Axes>"
      ]
     },
     "metadata": {
      "needs_background": "light"
     },
     "output_type": "display_data"
    }
   ],
   "source": [
    "plt.figure(figsize=(15, 5))\n",
    "\n",
    "plt.subplot(1, 3, 1)\n",
    "plt.title(\"Recency\")\n",
    "sns.boxplot(y=rfm_df['Recency'])\n",
    "\n",
    "plt.subplot(1, 3, 2)\n",
    "plt.title(\"Frequency\")\n",
    "sns.boxplot(y=rfm_df['Frequency'])\n",
    "\n",
    "plt.subplot(1, 3, 3)\n",
    "plt.title(\"Monetary\")\n",
    "sns.boxplot(y=rfm_df['Monetary'])\n",
    "\n",
    "plt.show()"
   ]
  },
  {
   "cell_type": "code",
   "execution_count": 73,
   "metadata": {},
   "outputs": [
    {
     "data": {
      "text/html": [
       "<div>\n",
       "<style scoped>\n",
       "    .dataframe tbody tr th:only-of-type {\n",
       "        vertical-align: middle;\n",
       "    }\n",
       "\n",
       "    .dataframe tbody tr th {\n",
       "        vertical-align: top;\n",
       "    }\n",
       "\n",
       "    .dataframe thead th {\n",
       "        text-align: right;\n",
       "    }\n",
       "</style>\n",
       "<table border=\"1\" class=\"dataframe\">\n",
       "  <thead>\n",
       "    <tr style=\"text-align: right;\">\n",
       "      <th></th>\n",
       "      <th>CustomerID</th>\n",
       "      <th>Recency</th>\n",
       "      <th>Frequency</th>\n",
       "      <th>Monetary</th>\n",
       "    </tr>\n",
       "  </thead>\n",
       "  <tbody>\n",
       "    <tr>\n",
       "      <th>count</th>\n",
       "      <td>3665.000000</td>\n",
       "      <td>3665.000000</td>\n",
       "      <td>3665.000000</td>\n",
       "      <td>3665.000000</td>\n",
       "    </tr>\n",
       "    <tr>\n",
       "      <th>mean</th>\n",
       "      <td>15307.944065</td>\n",
       "      <td>103.476398</td>\n",
       "      <td>47.016098</td>\n",
       "      <td>783.377996</td>\n",
       "    </tr>\n",
       "    <tr>\n",
       "      <th>std</th>\n",
       "      <td>1717.335105</td>\n",
       "      <td>102.497825</td>\n",
       "      <td>41.699048</td>\n",
       "      <td>738.137084</td>\n",
       "    </tr>\n",
       "    <tr>\n",
       "      <th>min</th>\n",
       "      <td>12346.000000</td>\n",
       "      <td>1.000000</td>\n",
       "      <td>1.000000</td>\n",
       "      <td>-451.420000</td>\n",
       "    </tr>\n",
       "    <tr>\n",
       "      <th>25%</th>\n",
       "      <td>13821.000000</td>\n",
       "      <td>23.000000</td>\n",
       "      <td>15.000000</td>\n",
       "      <td>256.380000</td>\n",
       "    </tr>\n",
       "    <tr>\n",
       "      <th>50%</th>\n",
       "      <td>15307.000000</td>\n",
       "      <td>61.000000</td>\n",
       "      <td>32.000000</td>\n",
       "      <td>517.530000</td>\n",
       "    </tr>\n",
       "    <tr>\n",
       "      <th>75%</th>\n",
       "      <td>16788.000000</td>\n",
       "      <td>169.000000</td>\n",
       "      <td>69.000000</td>\n",
       "      <td>1053.490000</td>\n",
       "    </tr>\n",
       "    <tr>\n",
       "      <th>max</th>\n",
       "      <td>18287.000000</td>\n",
       "      <td>374.000000</td>\n",
       "      <td>178.000000</td>\n",
       "      <td>3595.480000</td>\n",
       "    </tr>\n",
       "  </tbody>\n",
       "</table>\n",
       "</div>"
      ],
      "text/plain": [
       "         CustomerID      Recency    Frequency     Monetary\n",
       "count   3665.000000  3665.000000  3665.000000  3665.000000\n",
       "mean   15307.944065   103.476398    47.016098   783.377996\n",
       "std     1717.335105   102.497825    41.699048   738.137084\n",
       "min    12346.000000     1.000000     1.000000  -451.420000\n",
       "25%    13821.000000    23.000000    15.000000   256.380000\n",
       "50%    15307.000000    61.000000    32.000000   517.530000\n",
       "75%    16788.000000   169.000000    69.000000  1053.490000\n",
       "max    18287.000000   374.000000   178.000000  3595.480000"
      ]
     },
     "execution_count": 73,
     "metadata": {},
     "output_type": "execute_result"
    }
   ],
   "source": [
    "rfm_df.describe()"
   ]
  },
  {
   "cell_type": "markdown",
   "metadata": {},
   "source": [
    "The max values are not too far from the 75% percentile values now."
   ]
  },
  {
   "cell_type": "markdown",
   "metadata": {},
   "source": [
    "### Scaling the variables"
   ]
  },
  {
   "cell_type": "code",
   "execution_count": 74,
   "metadata": {},
   "outputs": [
    {
     "data": {
      "text/html": [
       "<div>\n",
       "<style scoped>\n",
       "    .dataframe tbody tr th:only-of-type {\n",
       "        vertical-align: middle;\n",
       "    }\n",
       "\n",
       "    .dataframe tbody tr th {\n",
       "        vertical-align: top;\n",
       "    }\n",
       "\n",
       "    .dataframe thead th {\n",
       "        text-align: right;\n",
       "    }\n",
       "</style>\n",
       "<table border=\"1\" class=\"dataframe\">\n",
       "  <thead>\n",
       "    <tr style=\"text-align: right;\">\n",
       "      <th></th>\n",
       "      <th>CustomerID</th>\n",
       "      <th>Recency</th>\n",
       "      <th>Frequency</th>\n",
       "      <th>Monetary</th>\n",
       "    </tr>\n",
       "  </thead>\n",
       "  <tbody>\n",
       "    <tr>\n",
       "      <th>0</th>\n",
       "      <td>12346</td>\n",
       "      <td>326</td>\n",
       "      <td>2</td>\n",
       "      <td>0.00</td>\n",
       "    </tr>\n",
       "    <tr>\n",
       "      <th>1</th>\n",
       "      <td>12348</td>\n",
       "      <td>76</td>\n",
       "      <td>31</td>\n",
       "      <td>1797.24</td>\n",
       "    </tr>\n",
       "    <tr>\n",
       "      <th>2</th>\n",
       "      <td>12349</td>\n",
       "      <td>19</td>\n",
       "      <td>73</td>\n",
       "      <td>1757.55</td>\n",
       "    </tr>\n",
       "    <tr>\n",
       "      <th>3</th>\n",
       "      <td>12350</td>\n",
       "      <td>311</td>\n",
       "      <td>17</td>\n",
       "      <td>334.40</td>\n",
       "    </tr>\n",
       "    <tr>\n",
       "      <th>4</th>\n",
       "      <td>12352</td>\n",
       "      <td>37</td>\n",
       "      <td>95</td>\n",
       "      <td>1545.41</td>\n",
       "    </tr>\n",
       "  </tbody>\n",
       "</table>\n",
       "</div>"
      ],
      "text/plain": [
       "   CustomerID  Recency  Frequency  Monetary\n",
       "0       12346      326          2      0.00\n",
       "1       12348       76         31   1797.24\n",
       "2       12349       19         73   1757.55\n",
       "3       12350      311         17    334.40\n",
       "4       12352       37         95   1545.41"
      ]
     },
     "execution_count": 74,
     "metadata": {},
     "output_type": "execute_result"
    }
   ],
   "source": [
    "#Making a copy of the dataframe before scaling the variables\n",
    "rfm_df_copy = rfm_df.copy(deep=True)\n",
    "rfm_df_copy.reset_index(drop=True, inplace=True)     #drop=True avoids putting the index as a column of the df\n",
    "rfm_df_copy.head()"
   ]
  },
  {
   "cell_type": "code",
   "execution_count": 75,
   "metadata": {},
   "outputs": [
    {
     "data": {
      "text/html": [
       "<div>\n",
       "<style scoped>\n",
       "    .dataframe tbody tr th:only-of-type {\n",
       "        vertical-align: middle;\n",
       "    }\n",
       "\n",
       "    .dataframe tbody tr th {\n",
       "        vertical-align: top;\n",
       "    }\n",
       "\n",
       "    .dataframe thead th {\n",
       "        text-align: right;\n",
       "    }\n",
       "</style>\n",
       "<table border=\"1\" class=\"dataframe\">\n",
       "  <thead>\n",
       "    <tr style=\"text-align: right;\">\n",
       "      <th></th>\n",
       "      <th>Recency</th>\n",
       "      <th>Frequency</th>\n",
       "      <th>Monetary</th>\n",
       "    </tr>\n",
       "  </thead>\n",
       "  <tbody>\n",
       "    <tr>\n",
       "      <th>0</th>\n",
       "      <td>326</td>\n",
       "      <td>2</td>\n",
       "      <td>0.00</td>\n",
       "    </tr>\n",
       "    <tr>\n",
       "      <th>2</th>\n",
       "      <td>76</td>\n",
       "      <td>31</td>\n",
       "      <td>1797.24</td>\n",
       "    </tr>\n",
       "    <tr>\n",
       "      <th>3</th>\n",
       "      <td>19</td>\n",
       "      <td>73</td>\n",
       "      <td>1757.55</td>\n",
       "    </tr>\n",
       "    <tr>\n",
       "      <th>4</th>\n",
       "      <td>311</td>\n",
       "      <td>17</td>\n",
       "      <td>334.40</td>\n",
       "    </tr>\n",
       "    <tr>\n",
       "      <th>5</th>\n",
       "      <td>37</td>\n",
       "      <td>95</td>\n",
       "      <td>1545.41</td>\n",
       "    </tr>\n",
       "  </tbody>\n",
       "</table>\n",
       "</div>"
      ],
      "text/plain": [
       "   Recency  Frequency  Monetary\n",
       "0      326          2      0.00\n",
       "2       76         31   1797.24\n",
       "3       19         73   1757.55\n",
       "4      311         17    334.40\n",
       "5       37         95   1545.41"
      ]
     },
     "execution_count": 75,
     "metadata": {},
     "output_type": "execute_result"
    }
   ],
   "source": [
    "rfm_df = rfm_df[['Recency', 'Frequency', 'Monetary']]\n",
    "rfm_df.head()"
   ]
  },
  {
   "cell_type": "code",
   "execution_count": 76,
   "metadata": {},
   "outputs": [],
   "source": [
    "#Creating a min max scaler object\n",
    "scaler = MinMaxScaler()"
   ]
  },
  {
   "cell_type": "code",
   "execution_count": 77,
   "metadata": {},
   "outputs": [],
   "source": [
    "#Scaling the columns\n",
    "rfm_df = scaler.fit_transform(rfm_df)"
   ]
  },
  {
   "cell_type": "code",
   "execution_count": 78,
   "metadata": {},
   "outputs": [
    {
     "data": {
      "text/html": [
       "<div>\n",
       "<style scoped>\n",
       "    .dataframe tbody tr th:only-of-type {\n",
       "        vertical-align: middle;\n",
       "    }\n",
       "\n",
       "    .dataframe tbody tr th {\n",
       "        vertical-align: top;\n",
       "    }\n",
       "\n",
       "    .dataframe thead th {\n",
       "        text-align: right;\n",
       "    }\n",
       "</style>\n",
       "<table border=\"1\" class=\"dataframe\">\n",
       "  <thead>\n",
       "    <tr style=\"text-align: right;\">\n",
       "      <th></th>\n",
       "      <th>Recency</th>\n",
       "      <th>Frequency</th>\n",
       "      <th>Monetary</th>\n",
       "    </tr>\n",
       "  </thead>\n",
       "  <tbody>\n",
       "    <tr>\n",
       "      <th>0</th>\n",
       "      <td>0.871314</td>\n",
       "      <td>0.005650</td>\n",
       "      <td>0.111547</td>\n",
       "    </tr>\n",
       "    <tr>\n",
       "      <th>1</th>\n",
       "      <td>0.201072</td>\n",
       "      <td>0.169492</td>\n",
       "      <td>0.555650</td>\n",
       "    </tr>\n",
       "    <tr>\n",
       "      <th>2</th>\n",
       "      <td>0.048257</td>\n",
       "      <td>0.406780</td>\n",
       "      <td>0.545842</td>\n",
       "    </tr>\n",
       "    <tr>\n",
       "      <th>3</th>\n",
       "      <td>0.831099</td>\n",
       "      <td>0.090395</td>\n",
       "      <td>0.194178</td>\n",
       "    </tr>\n",
       "    <tr>\n",
       "      <th>4</th>\n",
       "      <td>0.096515</td>\n",
       "      <td>0.531073</td>\n",
       "      <td>0.493422</td>\n",
       "    </tr>\n",
       "  </tbody>\n",
       "</table>\n",
       "</div>"
      ],
      "text/plain": [
       "    Recency  Frequency  Monetary\n",
       "0  0.871314   0.005650  0.111547\n",
       "1  0.201072   0.169492  0.555650\n",
       "2  0.048257   0.406780  0.545842\n",
       "3  0.831099   0.090395  0.194178\n",
       "4  0.096515   0.531073  0.493422"
      ]
     },
     "execution_count": 78,
     "metadata": {},
     "output_type": "execute_result"
    }
   ],
   "source": [
    "rfm_df = pd.DataFrame(rfm_df)\n",
    "rfm_df.columns = ['Recency', 'Frequency', 'Monetary']\n",
    "rfm_df.head()"
   ]
  },
  {
   "cell_type": "markdown",
   "metadata": {},
   "source": [
    "## Model Building"
   ]
  },
  {
   "cell_type": "markdown",
   "metadata": {},
   "source": [
    "### Hopkin's Statistic"
   ]
  },
  {
   "cell_type": "markdown",
   "metadata": {},
   "source": [
    "Hopkin's statistic gives the cluster tendency of the data (i.e., the feasibility of the data for clustering). \n",
    "- If the value is between {0.01, ...,0.3}, the data is regularly spaced.\n",
    "\n",
    "- If the value is around 0.5, it is random.\n",
    "\n",
    "- If the value is between {0.7, ..., 0.99}, it has a high tendency to cluster."
   ]
  },
  {
   "cell_type": "code",
   "execution_count": 79,
   "metadata": {},
   "outputs": [
    {
     "data": {
      "text/plain": [
       "(3665, 3)"
      ]
     },
     "execution_count": 79,
     "metadata": {},
     "output_type": "execute_result"
    }
   ],
   "source": [
    "rfm_df.values.shape"
   ]
  },
  {
   "cell_type": "code",
   "execution_count": 80,
   "metadata": {},
   "outputs": [],
   "source": [
    "#Defining a function to calculate the Hopkin's statistic\n",
    "\n",
    "def hopkins(X):\n",
    "    \n",
    "    d = X.shape[1]        #no. of columns\n",
    "    n = len(X)            #no. of rows\n",
    "    m = int(0.1 * n)      #sample size is 10% of dataset size\n",
    "    \n",
    "\n",
    "    nbrs = NearestNeighbors(n_neighbors=1).fit(X.values)      \n",
    "    #X.values returns the dataframe's values in an array of the same shape\n",
    "    #Searching for each data point's nearest neighbour (as n_neighbors=1)\n",
    " \n",
    "\n",
    "    rand_X = sample(range(0, n, 1), m)                        \n",
    "    #Picking 'm' sample data points\n",
    " \n",
    "\n",
    "    #Initalizing empty lists to store distances\n",
    "    ujd = []   \n",
    "    wjd = []\n",
    "    \n",
    "    \n",
    "    for j in range(0, m):\n",
    "        \n",
    "        #Calculating nearest neighbour distances from uniformly generated sample points to sample data from the dataset\n",
    "        u_dist, _ = nbrs.kneighbors(uniform(np.amin(X,axis=0),np.amax(X,axis=0),d).reshape(1, -1), 2, return_distance=True)\n",
    "        ujd.append(u_dist[0][1])\n",
    "        \n",
    "        #Calculating nearest neighbour distances within the sample data from the dataset\n",
    "        w_dist, _ = nbrs.kneighbors(X.iloc[rand_X[j]].values.reshape(1, -1), 2, return_distance=True)\n",
    "        wjd.append(w_dist[0][1])\n",
    "    \n",
    "    #Calculating the Hopkin's statistic\n",
    "    H = sum(ujd) / (sum(ujd) + sum(wjd))\n",
    "    if isnan(H):\n",
    "        print(ujd, wjd)\n",
    "        H = 0\n",
    " \n",
    "    return H"
   ]
  },
  {
   "cell_type": "code",
   "execution_count": 81,
   "metadata": {},
   "outputs": [
    {
     "data": {
      "text/plain": [
       "0.858346835270025"
      ]
     },
     "execution_count": 81,
     "metadata": {},
     "output_type": "execute_result"
    }
   ],
   "source": [
    "#Getting the Hopkin's statistic value for this dataset\n",
    "hopkins(rfm_df)"
   ]
  },
  {
   "cell_type": "markdown",
   "metadata": {},
   "source": [
    "Since this value is close to 1, it indicates that the dataset has a high tendency to cluster."
   ]
  },
  {
   "cell_type": "markdown",
   "metadata": {},
   "source": [
    "### Silhouette Analysis "
   ]
  },
  {
   "cell_type": "markdown",
   "metadata": {},
   "source": [
    "$$\\text{silhouette score}=\\frac{p-q}{max(p,q)}$$\n",
    "\n",
    "$p$ is the mean distance to the points in the nearest cluster that the data point is not a part of\n",
    "\n",
    "$q$ is the mean intra-cluster distance to all the points in its own cluster.\n",
    "\n",
    "* The value of the silhouette score range lies between -1 to 1. \n",
    "\n",
    "* A score closer to 1 indicates that the data points are very similar to other data points in the cluster.\n",
    "\n",
    "* A score closer to -1 indicates that the data points are not similar to the data points in the cluster."
   ]
  },
  {
   "cell_type": "code",
   "execution_count": 82,
   "metadata": {},
   "outputs": [],
   "source": [
    "#Fitting multiple KMeans models with a different number of clusters\n",
    "sha = []\n",
    "for k in range(2, 10):\n",
    "    kmeans_sha = KMeans(n_clusters=k, max_iter=50, n_jobs=-1).fit(rfm_df)\n",
    "    sha.append([k, silhouette_score(rfm_df, kmeans_sha.labels_)])"
   ]
  },
  {
   "cell_type": "code",
   "execution_count": 83,
   "metadata": {},
   "outputs": [
    {
     "data": {
      "image/png": "[encoded data removed]",
      "text/plain": [
       "<Figure size 432x288 with 1 Axes>"
      ]
     },
     "metadata": {
      "needs_background": "light"
     },
     "output_type": "display_data"
    }
   ],
   "source": [
    "#Plotting the silhouette score and the number of clusters in these models\n",
    "\n",
    "#Since sha is a nested list, converting it to a dataframe to get the no. of clusters in one col and scores in the other\n",
    "plt.plot(pd.DataFrame(sha)[0], pd.DataFrame(sha)[1])\n",
    "plt.xlabel(\"Number of Clusters\")\n",
    "plt.ylabel(\"Silhouette Scores\")\n",
    "plt.show()"
   ]
  },
  {
   "cell_type": "markdown",
   "metadata": {},
   "source": [
    "From this graph, we can see that the silhouette score is highest for the model with three clusters. This suggests that a model with three clusters is likely to work best."
   ]
  },
  {
   "cell_type": "markdown",
   "metadata": {},
   "source": [
    "### Sum of Squared Distances"
   ]
  },
  {
   "cell_type": "markdown",
   "metadata": {},
   "source": [
    "This is the sum of each data point's squared distance from its closest cluster center. Lower numbers are better, but we will get lower numbers if we increase the number of clusters. However, increasing the number of clusters may not make sense from a business perspective, so we need to strike a balance between number of clusters and sum of squared distances."
   ]
  },
  {
   "cell_type": "code",
   "execution_count": 84,
   "metadata": {},
   "outputs": [],
   "source": [
    "#Fitting several KMeans models with a different number of clusters\n",
    "ssd = []\n",
    "for num_clusters in list(range(1,15)):\n",
    "    model_ssd = KMeans(n_clusters = num_clusters, max_iter=50, n_jobs=-1).fit(rfm_df)\n",
    "    ssd.append(model_ssd.inertia_)\n",
    "    #The inertia attribute returns the sum of squared distances of samples to their closest cluster center"
   ]
  },
  {
   "cell_type": "code",
   "execution_count": 85,
   "metadata": {},
   "outputs": [
    {
     "data": {
      "image/png": "[encoded data removed]",
      "text/plain": [
       "<Figure size 432x288 with 1 Axes>"
      ]
     },
     "metadata": {
      "needs_background": "light"
     },
     "output_type": "display_data"
    }
   ],
   "source": [
    "#Plotting the sum of squared distances (inertia) and the number of clusters in these models\n",
    "plt.plot(ssd)\n",
    "plt.xlabel(\"Number of Clusters\")\n",
    "plt.ylabel(\"Sum of Squared Distances\")\n",
    "plt.show()"
   ]
  },
  {
   "cell_type": "markdown",
   "metadata": {},
   "source": [
    "The elbow of the curve seems to lie between 2 and 4 on the x-axis (number of clusters)."
   ]
  },
  {
   "cell_type": "markdown",
   "metadata": {},
   "source": [
    "### Hierarchical Clustering"
   ]
  },
  {
   "cell_type": "markdown",
   "metadata": {},
   "source": [
    "In a dendrogram, the greater the height of the link between two points, the lesser the similarity between those two points."
   ]
  },
  {
   "cell_type": "code",
   "execution_count": 86,
   "metadata": {},
   "outputs": [
    {
     "data": {
      "image/png": "[encoded data removed]",
      "text/plain": [
       "<Figure size 432x288 with 1 Axes>"
      ]
     },
     "metadata": {
      "needs_background": "light"
     },
     "output_type": "display_data"
    }
   ],
   "source": [
    "#Using the complete linkage method (distance between two clusters is defined as the max distance between any two points in the clusters)\n",
    "mergings = linkage(rfm_df, method = \"complete\", metric='euclidean')\n",
    "dendrogram(mergings)\n",
    "plt.show()"
   ]
  },
  {
   "cell_type": "markdown",
   "metadata": {},
   "source": [
    "The dendrogram above suggests that this dataset can be grouped into 3 or 5 clusters."
   ]
  },
  {
   "cell_type": "markdown",
   "metadata": {},
   "source": [
    "Based on the analysis so far, it looks like 3 clusters is the best option. Let's fit a model with 3 clusters."
   ]
  },
  {
   "cell_type": "code",
   "execution_count": 87,
   "metadata": {},
   "outputs": [],
   "source": [
    "#Creating a K-Means object with 3 clusters\n",
    "kmeans = KMeans(n_jobs = -1, n_clusters = 3, init='k-means++', n_init = 100, max_iter = 1000, random_state=100)\n",
    "\n",
    "#n_init is the number of times kmeans will run with different centroid initializations. \n",
    "#The best output (based on inertia) will be chosen.\n",
    "\n",
    "#max_iter is the maximum number of iterations of the k-means algorithm for a single run"
   ]
  },
  {
   "cell_type": "markdown",
   "metadata": {},
   "source": [
    "Using k-means++ for initialization here as that usually works best. In k-means++, after picking a random point as the first centroid, the next centroid is the point that's farthest away from the centroid that's already selected."
   ]
  },
  {
   "cell_type": "code",
   "execution_count": 88,
   "metadata": {},
   "outputs": [
    {
     "data": {
      "text/plain": [
       "KMeans(max_iter=1000, n_clusters=3, n_init=100, n_jobs=-1, random_state=100)"
      ]
     },
     "execution_count": 88,
     "metadata": {},
     "output_type": "execute_result"
    }
   ],
   "source": [
    "#Fitting the model\n",
    "kmeans.fit(rfm_df)"
   ]
  },
  {
   "cell_type": "code",
   "execution_count": 89,
   "metadata": {},
   "outputs": [],
   "source": [
    "#Making predictions on which cluster each data point should belong to\n",
    "pred = kmeans.predict(rfm_df)"
   ]
  },
  {
   "cell_type": "markdown",
   "metadata": {},
   "source": [
    "Before storing the cluster predictions, let's check the rfm_df dataframe."
   ]
  },
  {
   "cell_type": "code",
   "execution_count": 90,
   "metadata": {},
   "outputs": [
    {
     "data": {
      "text/html": [
       "<div>\n",
       "<style scoped>\n",
       "    .dataframe tbody tr th:only-of-type {\n",
       "        vertical-align: middle;\n",
       "    }\n",
       "\n",
       "    .dataframe tbody tr th {\n",
       "        vertical-align: top;\n",
       "    }\n",
       "\n",
       "    .dataframe thead th {\n",
       "        text-align: right;\n",
       "    }\n",
       "</style>\n",
       "<table border=\"1\" class=\"dataframe\">\n",
       "  <thead>\n",
       "    <tr style=\"text-align: right;\">\n",
       "      <th></th>\n",
       "      <th>Recency</th>\n",
       "      <th>Frequency</th>\n",
       "      <th>Monetary</th>\n",
       "    </tr>\n",
       "  </thead>\n",
       "  <tbody>\n",
       "    <tr>\n",
       "      <th>0</th>\n",
       "      <td>0.871314</td>\n",
       "      <td>0.005650</td>\n",
       "      <td>0.111547</td>\n",
       "    </tr>\n",
       "    <tr>\n",
       "      <th>1</th>\n",
       "      <td>0.201072</td>\n",
       "      <td>0.169492</td>\n",
       "      <td>0.555650</td>\n",
       "    </tr>\n",
       "    <tr>\n",
       "      <th>2</th>\n",
       "      <td>0.048257</td>\n",
       "      <td>0.406780</td>\n",
       "      <td>0.545842</td>\n",
       "    </tr>\n",
       "    <tr>\n",
       "      <th>3</th>\n",
       "      <td>0.831099</td>\n",
       "      <td>0.090395</td>\n",
       "      <td>0.194178</td>\n",
       "    </tr>\n",
       "    <tr>\n",
       "      <th>4</th>\n",
       "      <td>0.096515</td>\n",
       "      <td>0.531073</td>\n",
       "      <td>0.493422</td>\n",
       "    </tr>\n",
       "  </tbody>\n",
       "</table>\n",
       "</div>"
      ],
      "text/plain": [
       "    Recency  Frequency  Monetary\n",
       "0  0.871314   0.005650  0.111547\n",
       "1  0.201072   0.169492  0.555650\n",
       "2  0.048257   0.406780  0.545842\n",
       "3  0.831099   0.090395  0.194178\n",
       "4  0.096515   0.531073  0.493422"
      ]
     },
     "execution_count": 90,
     "metadata": {},
     "output_type": "execute_result"
    }
   ],
   "source": [
    "rfm_df.head()"
   ]
  },
  {
   "cell_type": "markdown",
   "metadata": {},
   "source": [
    "The CustomerID column also needs to be added to this dataframe. Also, the original RFM values are needed, so these columns need to be renamed."
   ]
  },
  {
   "cell_type": "code",
   "execution_count": 91,
   "metadata": {},
   "outputs": [
    {
     "data": {
      "text/html": [
       "<div>\n",
       "<style scoped>\n",
       "    .dataframe tbody tr th:only-of-type {\n",
       "        vertical-align: middle;\n",
       "    }\n",
       "\n",
       "    .dataframe tbody tr th {\n",
       "        vertical-align: top;\n",
       "    }\n",
       "\n",
       "    .dataframe thead th {\n",
       "        text-align: right;\n",
       "    }\n",
       "</style>\n",
       "<table border=\"1\" class=\"dataframe\">\n",
       "  <thead>\n",
       "    <tr style=\"text-align: right;\">\n",
       "      <th></th>\n",
       "      <th>R_scaled</th>\n",
       "      <th>F_scaled</th>\n",
       "      <th>M_scaled</th>\n",
       "    </tr>\n",
       "  </thead>\n",
       "  <tbody>\n",
       "    <tr>\n",
       "      <th>0</th>\n",
       "      <td>0.871314</td>\n",
       "      <td>0.005650</td>\n",
       "      <td>0.111547</td>\n",
       "    </tr>\n",
       "    <tr>\n",
       "      <th>1</th>\n",
       "      <td>0.201072</td>\n",
       "      <td>0.169492</td>\n",
       "      <td>0.555650</td>\n",
       "    </tr>\n",
       "    <tr>\n",
       "      <th>2</th>\n",
       "      <td>0.048257</td>\n",
       "      <td>0.406780</td>\n",
       "      <td>0.545842</td>\n",
       "    </tr>\n",
       "    <tr>\n",
       "      <th>3</th>\n",
       "      <td>0.831099</td>\n",
       "      <td>0.090395</td>\n",
       "      <td>0.194178</td>\n",
       "    </tr>\n",
       "    <tr>\n",
       "      <th>4</th>\n",
       "      <td>0.096515</td>\n",
       "      <td>0.531073</td>\n",
       "      <td>0.493422</td>\n",
       "    </tr>\n",
       "  </tbody>\n",
       "</table>\n",
       "</div>"
      ],
      "text/plain": [
       "   R_scaled  F_scaled  M_scaled\n",
       "0  0.871314  0.005650  0.111547\n",
       "1  0.201072  0.169492  0.555650\n",
       "2  0.048257  0.406780  0.545842\n",
       "3  0.831099  0.090395  0.194178\n",
       "4  0.096515  0.531073  0.493422"
      ]
     },
     "execution_count": 91,
     "metadata": {},
     "output_type": "execute_result"
    }
   ],
   "source": [
    "rfm_df.columns = ['R_scaled', 'F_scaled', 'M_scaled']\n",
    "rfm_df.head()"
   ]
  },
  {
   "cell_type": "code",
   "execution_count": 92,
   "metadata": {},
   "outputs": [
    {
     "data": {
      "text/html": [
       "<div>\n",
       "<style scoped>\n",
       "    .dataframe tbody tr th:only-of-type {\n",
       "        vertical-align: middle;\n",
       "    }\n",
       "\n",
       "    .dataframe tbody tr th {\n",
       "        vertical-align: top;\n",
       "    }\n",
       "\n",
       "    .dataframe thead th {\n",
       "        text-align: right;\n",
       "    }\n",
       "</style>\n",
       "<table border=\"1\" class=\"dataframe\">\n",
       "  <thead>\n",
       "    <tr style=\"text-align: right;\">\n",
       "      <th></th>\n",
       "      <th>CustomerID</th>\n",
       "      <th>Recency</th>\n",
       "      <th>Frequency</th>\n",
       "      <th>Monetary</th>\n",
       "    </tr>\n",
       "  </thead>\n",
       "  <tbody>\n",
       "    <tr>\n",
       "      <th>0</th>\n",
       "      <td>12346</td>\n",
       "      <td>326</td>\n",
       "      <td>2</td>\n",
       "      <td>0.00</td>\n",
       "    </tr>\n",
       "    <tr>\n",
       "      <th>1</th>\n",
       "      <td>12348</td>\n",
       "      <td>76</td>\n",
       "      <td>31</td>\n",
       "      <td>1797.24</td>\n",
       "    </tr>\n",
       "    <tr>\n",
       "      <th>2</th>\n",
       "      <td>12349</td>\n",
       "      <td>19</td>\n",
       "      <td>73</td>\n",
       "      <td>1757.55</td>\n",
       "    </tr>\n",
       "    <tr>\n",
       "      <th>3</th>\n",
       "      <td>12350</td>\n",
       "      <td>311</td>\n",
       "      <td>17</td>\n",
       "      <td>334.40</td>\n",
       "    </tr>\n",
       "    <tr>\n",
       "      <th>4</th>\n",
       "      <td>12352</td>\n",
       "      <td>37</td>\n",
       "      <td>95</td>\n",
       "      <td>1545.41</td>\n",
       "    </tr>\n",
       "  </tbody>\n",
       "</table>\n",
       "</div>"
      ],
      "text/plain": [
       "   CustomerID  Recency  Frequency  Monetary\n",
       "0       12346      326          2      0.00\n",
       "1       12348       76         31   1797.24\n",
       "2       12349       19         73   1757.55\n",
       "3       12350      311         17    334.40\n",
       "4       12352       37         95   1545.41"
      ]
     },
     "execution_count": 92,
     "metadata": {},
     "output_type": "execute_result"
    }
   ],
   "source": [
    "#Checking the copy of the rfm_df dataframe for the original RFM values\n",
    "rfm_df_copy.head()"
   ]
  },
  {
   "cell_type": "code",
   "execution_count": 93,
   "metadata": {},
   "outputs": [
    {
     "data": {
      "text/html": [
       "<div>\n",
       "<style scoped>\n",
       "    .dataframe tbody tr th:only-of-type {\n",
       "        vertical-align: middle;\n",
       "    }\n",
       "\n",
       "    .dataframe tbody tr th {\n",
       "        vertical-align: top;\n",
       "    }\n",
       "\n",
       "    .dataframe thead th {\n",
       "        text-align: right;\n",
       "    }\n",
       "</style>\n",
       "<table border=\"1\" class=\"dataframe\">\n",
       "  <thead>\n",
       "    <tr style=\"text-align: right;\">\n",
       "      <th></th>\n",
       "      <th>CustomerID</th>\n",
       "      <th>Recency</th>\n",
       "      <th>Frequency</th>\n",
       "      <th>Monetary</th>\n",
       "      <th>R_scaled</th>\n",
       "      <th>F_scaled</th>\n",
       "      <th>M_scaled</th>\n",
       "    </tr>\n",
       "  </thead>\n",
       "  <tbody>\n",
       "    <tr>\n",
       "      <th>0</th>\n",
       "      <td>12346</td>\n",
       "      <td>326</td>\n",
       "      <td>2</td>\n",
       "      <td>0.00</td>\n",
       "      <td>0.871314</td>\n",
       "      <td>0.005650</td>\n",
       "      <td>0.111547</td>\n",
       "    </tr>\n",
       "    <tr>\n",
       "      <th>1</th>\n",
       "      <td>12348</td>\n",
       "      <td>76</td>\n",
       "      <td>31</td>\n",
       "      <td>1797.24</td>\n",
       "      <td>0.201072</td>\n",
       "      <td>0.169492</td>\n",
       "      <td>0.555650</td>\n",
       "    </tr>\n",
       "    <tr>\n",
       "      <th>2</th>\n",
       "      <td>12349</td>\n",
       "      <td>19</td>\n",
       "      <td>73</td>\n",
       "      <td>1757.55</td>\n",
       "      <td>0.048257</td>\n",
       "      <td>0.406780</td>\n",
       "      <td>0.545842</td>\n",
       "    </tr>\n",
       "    <tr>\n",
       "      <th>3</th>\n",
       "      <td>12350</td>\n",
       "      <td>311</td>\n",
       "      <td>17</td>\n",
       "      <td>334.40</td>\n",
       "      <td>0.831099</td>\n",
       "      <td>0.090395</td>\n",
       "      <td>0.194178</td>\n",
       "    </tr>\n",
       "    <tr>\n",
       "      <th>4</th>\n",
       "      <td>12352</td>\n",
       "      <td>37</td>\n",
       "      <td>95</td>\n",
       "      <td>1545.41</td>\n",
       "      <td>0.096515</td>\n",
       "      <td>0.531073</td>\n",
       "      <td>0.493422</td>\n",
       "    </tr>\n",
       "  </tbody>\n",
       "</table>\n",
       "</div>"
      ],
      "text/plain": [
       "   CustomerID  Recency  Frequency  Monetary  R_scaled  F_scaled  M_scaled\n",
       "0       12346      326          2      0.00  0.871314  0.005650  0.111547\n",
       "1       12348       76         31   1797.24  0.201072  0.169492  0.555650\n",
       "2       12349       19         73   1757.55  0.048257  0.406780  0.545842\n",
       "3       12350      311         17    334.40  0.831099  0.090395  0.194178\n",
       "4       12352       37         95   1545.41  0.096515  0.531073  0.493422"
      ]
     },
     "execution_count": 93,
     "metadata": {},
     "output_type": "execute_result"
    }
   ],
   "source": [
    "#Concatenating these two dataframes\n",
    "rfm_df_cluster = pd.concat([rfm_df_copy, rfm_df], axis=1)\n",
    "rfm_df_cluster.head()"
   ]
  },
  {
   "cell_type": "code",
   "execution_count": 94,
   "metadata": {
    "scrolled": true
   },
   "outputs": [
    {
     "data": {
      "text/html": [
       "<div>\n",
       "<style scoped>\n",
       "    .dataframe tbody tr th:only-of-type {\n",
       "        vertical-align: middle;\n",
       "    }\n",
       "\n",
       "    .dataframe tbody tr th {\n",
       "        vertical-align: top;\n",
       "    }\n",
       "\n",
       "    .dataframe thead th {\n",
       "        text-align: right;\n",
       "    }\n",
       "</style>\n",
       "<table border=\"1\" class=\"dataframe\">\n",
       "  <thead>\n",
       "    <tr style=\"text-align: right;\">\n",
       "      <th></th>\n",
       "      <th>CustomerID</th>\n",
       "      <th>Recency</th>\n",
       "      <th>Frequency</th>\n",
       "      <th>Monetary</th>\n",
       "      <th>R_scaled</th>\n",
       "      <th>F_scaled</th>\n",
       "      <th>M_scaled</th>\n",
       "      <th>Cluster</th>\n",
       "    </tr>\n",
       "  </thead>\n",
       "  <tbody>\n",
       "    <tr>\n",
       "      <th>0</th>\n",
       "      <td>12346</td>\n",
       "      <td>326</td>\n",
       "      <td>2</td>\n",
       "      <td>0.00</td>\n",
       "      <td>0.871314</td>\n",
       "      <td>0.005650</td>\n",
       "      <td>0.111547</td>\n",
       "      <td>1</td>\n",
       "    </tr>\n",
       "    <tr>\n",
       "      <th>1</th>\n",
       "      <td>12348</td>\n",
       "      <td>76</td>\n",
       "      <td>31</td>\n",
       "      <td>1797.24</td>\n",
       "      <td>0.201072</td>\n",
       "      <td>0.169492</td>\n",
       "      <td>0.555650</td>\n",
       "      <td>0</td>\n",
       "    </tr>\n",
       "    <tr>\n",
       "      <th>2</th>\n",
       "      <td>12349</td>\n",
       "      <td>19</td>\n",
       "      <td>73</td>\n",
       "      <td>1757.55</td>\n",
       "      <td>0.048257</td>\n",
       "      <td>0.406780</td>\n",
       "      <td>0.545842</td>\n",
       "      <td>2</td>\n",
       "    </tr>\n",
       "    <tr>\n",
       "      <th>3</th>\n",
       "      <td>12350</td>\n",
       "      <td>311</td>\n",
       "      <td>17</td>\n",
       "      <td>334.40</td>\n",
       "      <td>0.831099</td>\n",
       "      <td>0.090395</td>\n",
       "      <td>0.194178</td>\n",
       "      <td>1</td>\n",
       "    </tr>\n",
       "    <tr>\n",
       "      <th>4</th>\n",
       "      <td>12352</td>\n",
       "      <td>37</td>\n",
       "      <td>95</td>\n",
       "      <td>1545.41</td>\n",
       "      <td>0.096515</td>\n",
       "      <td>0.531073</td>\n",
       "      <td>0.493422</td>\n",
       "      <td>2</td>\n",
       "    </tr>\n",
       "  </tbody>\n",
       "</table>\n",
       "</div>"
      ],
      "text/plain": [
       "   CustomerID  Recency  Frequency  Monetary  R_scaled  F_scaled  M_scaled  \\\n",
       "0       12346      326          2      0.00  0.871314  0.005650  0.111547   \n",
       "1       12348       76         31   1797.24  0.201072  0.169492  0.555650   \n",
       "2       12349       19         73   1757.55  0.048257  0.406780  0.545842   \n",
       "3       12350      311         17    334.40  0.831099  0.090395  0.194178   \n",
       "4       12352       37         95   1545.41  0.096515  0.531073  0.493422   \n",
       "\n",
       "   Cluster  \n",
       "0        1  \n",
       "1        0  \n",
       "2        2  \n",
       "3        1  \n",
       "4        2  "
      ]
     },
     "execution_count": 94,
     "metadata": {},
     "output_type": "execute_result"
    }
   ],
   "source": [
    "#Creating a new column in the dataframe to store the predictions\n",
    "rfm_df_cluster['Cluster'] = pred\n",
    "rfm_df_cluster.head()"
   ]
  },
  {
   "cell_type": "code",
   "execution_count": 95,
   "metadata": {},
   "outputs": [
    {
     "data": {
      "text/html": [
       "<div>\n",
       "<style scoped>\n",
       "    .dataframe tbody tr th:only-of-type {\n",
       "        vertical-align: middle;\n",
       "    }\n",
       "\n",
       "    .dataframe tbody tr th {\n",
       "        vertical-align: top;\n",
       "    }\n",
       "\n",
       "    .dataframe thead th {\n",
       "        text-align: right;\n",
       "    }\n",
       "</style>\n",
       "<table border=\"1\" class=\"dataframe\">\n",
       "  <thead>\n",
       "    <tr style=\"text-align: right;\">\n",
       "      <th></th>\n",
       "      <th>CustomerID</th>\n",
       "      <th>Recency</th>\n",
       "      <th>Frequency</th>\n",
       "      <th>Monetary</th>\n",
       "      <th>R_scaled</th>\n",
       "      <th>F_scaled</th>\n",
       "      <th>M_scaled</th>\n",
       "      <th>Cluster</th>\n",
       "    </tr>\n",
       "  </thead>\n",
       "  <tbody>\n",
       "    <tr>\n",
       "      <th>0</th>\n",
       "      <td>12346</td>\n",
       "      <td>326</td>\n",
       "      <td>2</td>\n",
       "      <td>0.00</td>\n",
       "      <td>0.871314</td>\n",
       "      <td>0.005650</td>\n",
       "      <td>0.111547</td>\n",
       "      <td>2</td>\n",
       "    </tr>\n",
       "    <tr>\n",
       "      <th>1</th>\n",
       "      <td>12348</td>\n",
       "      <td>76</td>\n",
       "      <td>31</td>\n",
       "      <td>1797.24</td>\n",
       "      <td>0.201072</td>\n",
       "      <td>0.169492</td>\n",
       "      <td>0.555650</td>\n",
       "      <td>1</td>\n",
       "    </tr>\n",
       "    <tr>\n",
       "      <th>2</th>\n",
       "      <td>12349</td>\n",
       "      <td>19</td>\n",
       "      <td>73</td>\n",
       "      <td>1757.55</td>\n",
       "      <td>0.048257</td>\n",
       "      <td>0.406780</td>\n",
       "      <td>0.545842</td>\n",
       "      <td>3</td>\n",
       "    </tr>\n",
       "    <tr>\n",
       "      <th>3</th>\n",
       "      <td>12350</td>\n",
       "      <td>311</td>\n",
       "      <td>17</td>\n",
       "      <td>334.40</td>\n",
       "      <td>0.831099</td>\n",
       "      <td>0.090395</td>\n",
       "      <td>0.194178</td>\n",
       "      <td>2</td>\n",
       "    </tr>\n",
       "    <tr>\n",
       "      <th>4</th>\n",
       "      <td>12352</td>\n",
       "      <td>37</td>\n",
       "      <td>95</td>\n",
       "      <td>1545.41</td>\n",
       "      <td>0.096515</td>\n",
       "      <td>0.531073</td>\n",
       "      <td>0.493422</td>\n",
       "      <td>3</td>\n",
       "    </tr>\n",
       "  </tbody>\n",
       "</table>\n",
       "</div>"
      ],
      "text/plain": [
       "   CustomerID  Recency  Frequency  Monetary  R_scaled  F_scaled  M_scaled  \\\n",
       "0       12346      326          2      0.00  0.871314  0.005650  0.111547   \n",
       "1       12348       76         31   1797.24  0.201072  0.169492  0.555650   \n",
       "2       12349       19         73   1757.55  0.048257  0.406780  0.545842   \n",
       "3       12350      311         17    334.40  0.831099  0.090395  0.194178   \n",
       "4       12352       37         95   1545.41  0.096515  0.531073  0.493422   \n",
       "\n",
       "   Cluster  \n",
       "0        2  \n",
       "1        1  \n",
       "2        3  \n",
       "3        2  \n",
       "4        3  "
      ]
     },
     "execution_count": 95,
     "metadata": {},
     "output_type": "execute_result"
    }
   ],
   "source": [
    "#Adding '1' to all the cluster labels, so that there is no zeroth cluster\n",
    "rfm_df_cluster['Cluster'] = rfm_df_cluster['Cluster'] + 1\n",
    "rfm_df_cluster.head()"
   ]
  },
  {
   "cell_type": "markdown",
   "metadata": {},
   "source": [
    "Next, let's take a look at the mean Recency, Frequency, and Monetary values in each cluster."
   ]
  },
  {
   "cell_type": "code",
   "execution_count": 96,
   "metadata": {},
   "outputs": [
    {
     "data": {
      "text/plain": [
       "Cluster\n",
       "1     53.050267\n",
       "2    254.314642\n",
       "3     42.225962\n",
       "Name: Recency, dtype: float64"
      ]
     },
     "execution_count": 96,
     "metadata": {},
     "output_type": "execute_result"
    }
   ],
   "source": [
    "#Recency mean\n",
    "clusters_r_mean = rfm_df_cluster.groupby(by = 'Cluster', as_index = True)['Recency'].mean()\n",
    "clusters_r_mean"
   ]
  },
  {
   "cell_type": "code",
   "execution_count": 97,
   "metadata": {},
   "outputs": [
    {
     "data": {
      "text/plain": [
       "Cluster\n",
       "1     31.470053\n",
       "2     22.452752\n",
       "3    110.388221\n",
       "Name: Frequency, dtype: float64"
      ]
     },
     "execution_count": 97,
     "metadata": {},
     "output_type": "execute_result"
    }
   ],
   "source": [
    "#Frequency mean\n",
    "clusters_f_mean = rfm_df_cluster.groupby(by = 'Cluster', as_index = True)['Frequency'].mean()\n",
    "clusters_f_mean"
   ]
  },
  {
   "cell_type": "code",
   "execution_count": 98,
   "metadata": {},
   "outputs": [
    {
     "data": {
      "text/plain": [
       "Cluster\n",
       "1     575.193301\n",
       "2     367.066023\n",
       "3    1733.154208\n",
       "Name: Monetary, dtype: float64"
      ]
     },
     "execution_count": 98,
     "metadata": {},
     "output_type": "execute_result"
    }
   ],
   "source": [
    "#Monetary mean\n",
    "clusters_m_mean = rfm_df_cluster.groupby(by = 'Cluster', as_index = True)['Monetary'].mean()\n",
    "clusters_m_mean"
   ]
  },
  {
   "cell_type": "code",
   "execution_count": 100,
   "metadata": {},
   "outputs": [
    {
     "data": {
      "text/html": [
       "<div>\n",
       "<style scoped>\n",
       "    .dataframe tbody tr th:only-of-type {\n",
       "        vertical-align: middle;\n",
       "    }\n",
       "\n",
       "    .dataframe tbody tr th {\n",
       "        vertical-align: top;\n",
       "    }\n",
       "\n",
       "    .dataframe thead th {\n",
       "        text-align: right;\n",
       "    }\n",
       "</style>\n",
       "<table border=\"1\" class=\"dataframe\">\n",
       "  <thead>\n",
       "    <tr style=\"text-align: right;\">\n",
       "      <th></th>\n",
       "      <th>Recency</th>\n",
       "      <th>Frequency</th>\n",
       "      <th>Monetary</th>\n",
       "    </tr>\n",
       "    <tr>\n",
       "      <th>Cluster</th>\n",
       "      <th></th>\n",
       "      <th></th>\n",
       "      <th></th>\n",
       "    </tr>\n",
       "  </thead>\n",
       "  <tbody>\n",
       "    <tr>\n",
       "      <th>1</th>\n",
       "      <td>53.050267</td>\n",
       "      <td>31.470053</td>\n",
       "      <td>575.193301</td>\n",
       "    </tr>\n",
       "    <tr>\n",
       "      <th>2</th>\n",
       "      <td>254.314642</td>\n",
       "      <td>22.452752</td>\n",
       "      <td>367.066023</td>\n",
       "    </tr>\n",
       "    <tr>\n",
       "      <th>3</th>\n",
       "      <td>42.225962</td>\n",
       "      <td>110.388221</td>\n",
       "      <td>1733.154208</td>\n",
       "    </tr>\n",
       "  </tbody>\n",
       "</table>\n",
       "</div>"
      ],
      "text/plain": [
       "            Recency   Frequency     Monetary\n",
       "Cluster                                     \n",
       "1         53.050267   31.470053   575.193301\n",
       "2        254.314642   22.452752   367.066023\n",
       "3         42.225962  110.388221  1733.154208"
      ]
     },
     "execution_count": 100,
     "metadata": {},
     "output_type": "execute_result"
    }
   ],
   "source": [
    "#Combining these three into one dataframe\n",
    "cluster_means = pd.concat([clusters_r_mean, clusters_f_mean, clusters_m_mean], axis = 1)\n",
    "cluster_means.head()"
   ]
  },
  {
   "cell_type": "code",
   "execution_count": 101,
   "metadata": {},
   "outputs": [
    {
     "data": {
      "text/html": [
       "<div>\n",
       "<style scoped>\n",
       "    .dataframe tbody tr th:only-of-type {\n",
       "        vertical-align: middle;\n",
       "    }\n",
       "\n",
       "    .dataframe tbody tr th {\n",
       "        vertical-align: top;\n",
       "    }\n",
       "\n",
       "    .dataframe thead th {\n",
       "        text-align: right;\n",
       "    }\n",
       "</style>\n",
       "<table border=\"1\" class=\"dataframe\">\n",
       "  <thead>\n",
       "    <tr style=\"text-align: right;\">\n",
       "      <th></th>\n",
       "      <th>Cluster</th>\n",
       "      <th>Recency</th>\n",
       "      <th>Frequency</th>\n",
       "      <th>Monetary</th>\n",
       "    </tr>\n",
       "  </thead>\n",
       "  <tbody>\n",
       "    <tr>\n",
       "      <th>0</th>\n",
       "      <td>1</td>\n",
       "      <td>53.050267</td>\n",
       "      <td>31.470053</td>\n",
       "      <td>575.193301</td>\n",
       "    </tr>\n",
       "    <tr>\n",
       "      <th>1</th>\n",
       "      <td>2</td>\n",
       "      <td>254.314642</td>\n",
       "      <td>22.452752</td>\n",
       "      <td>367.066023</td>\n",
       "    </tr>\n",
       "    <tr>\n",
       "      <th>2</th>\n",
       "      <td>3</td>\n",
       "      <td>42.225962</td>\n",
       "      <td>110.388221</td>\n",
       "      <td>1733.154208</td>\n",
       "    </tr>\n",
       "  </tbody>\n",
       "</table>\n",
       "</div>"
      ],
      "text/plain": [
       "   Cluster     Recency   Frequency     Monetary\n",
       "0        1   53.050267   31.470053   575.193301\n",
       "1        2  254.314642   22.452752   367.066023\n",
       "2        3   42.225962  110.388221  1733.154208"
      ]
     },
     "execution_count": 101,
     "metadata": {},
     "output_type": "execute_result"
    }
   ],
   "source": [
    "#Making the 'Cluster' index a column in the dataframe\n",
    "cluster_means.reset_index(inplace=True)\n",
    "cluster_means.head()"
   ]
  },
  {
   "cell_type": "markdown",
   "metadata": {},
   "source": [
    "Let's visualize the RFM values when split up by cluster."
   ]
  },
  {
   "cell_type": "code",
   "execution_count": 102,
   "metadata": {},
   "outputs": [
    {
     "data": {
      "image/png": "[encoded data removed]",
      "text/plain": [
       "<Figure size 432x288 with 1 Axes>"
      ]
     },
     "metadata": {
      "needs_background": "light"
     },
     "output_type": "display_data"
    }
   ],
   "source": [
    "#First, let's look at the number of customers in each cluster\n",
    "sns.countplot(x = 'Cluster', data = rfm_df_cluster)\n",
    "plt.show()"
   ]
  },
  {
   "cell_type": "markdown",
   "metadata": {},
   "source": [
    "Cluster 2 contains the most number of customers. Clusters 1 and 3 have a comparable number of customers."
   ]
  },
  {
   "cell_type": "code",
   "execution_count": 103,
   "metadata": {},
   "outputs": [
    {
     "data": {
      "image/png": "[encoded data removed]",
      "text/plain": [
       "<Figure size 1008x504 with 2 Axes>"
      ]
     },
     "metadata": {
      "needs_background": "light"
     },
     "output_type": "display_data"
    }
   ],
   "source": [
    "#Recency\n",
    "plt.figure(figsize=(14, 7))\n",
    "\n",
    "plt.subplot(1, 2, 1)\n",
    "plt.title(\"Recency distribution by cluster\")\n",
    "sns.boxplot(y = 'Recency', x = 'Cluster', data = rfm_df_cluster)\n",
    "\n",
    "plt.subplot(1, 2, 2)\n",
    "plt.title(\"Recency mean by cluster\")\n",
    "sns.barplot(y = 'Recency', x = 'Cluster', data = rfm_df_cluster)\n",
    "\n",
    "plt.show()"
   ]
  },
  {
   "cell_type": "markdown",
   "metadata": {},
   "source": [
    "The customers in cluster 2 have very high recency. Cluster 1 and 3 customers have low recency."
   ]
  },
  {
   "cell_type": "code",
   "execution_count": 104,
   "metadata": {},
   "outputs": [
    {
     "data": {
      "image/png": "[encoded data removed]",
      "text/plain": [
       "<Figure size 1008x504 with 2 Axes>"
      ]
     },
     "metadata": {
      "needs_background": "light"
     },
     "output_type": "display_data"
    }
   ],
   "source": [
    "#Frequency\n",
    "plt.figure(figsize=(14, 7))\n",
    "\n",
    "plt.subplot(1, 2, 1)\n",
    "plt.title(\"Frequency distribution by cluster\")\n",
    "sns.boxplot(y = 'Frequency', x = 'Cluster', data = rfm_df_cluster)\n",
    "\n",
    "plt.subplot(1, 2, 2)\n",
    "plt.title(\"Frequency mean by cluster\")\n",
    "sns.barplot(y = 'Frequency', x = 'Cluster', data = rfm_df_cluster)\n",
    "\n",
    "plt.show()"
   ]
  },
  {
   "cell_type": "markdown",
   "metadata": {},
   "source": [
    "Cluster 3 customers have the highest frequency. This is frequency measured over the ~12 months of available data."
   ]
  },
  {
   "cell_type": "code",
   "execution_count": 105,
   "metadata": {},
   "outputs": [
    {
     "data": {
      "image/png": "[encoded data removed]",
      "text/plain": [
       "<Figure size 1008x504 with 2 Axes>"
      ]
     },
     "metadata": {
      "needs_background": "light"
     },
     "output_type": "display_data"
    }
   ],
   "source": [
    "#Monetary\n",
    "plt.figure(figsize=(14, 7))\n",
    "\n",
    "plt.subplot(1, 2, 1)\n",
    "plt.title(\"Monetary distribution by cluster\")\n",
    "sns.boxplot(y = 'Monetary', x = 'Cluster', data = rfm_df_cluster)\n",
    "\n",
    "plt.subplot(1, 2, 2)\n",
    "plt.title(\"Monetary mean by cluster\")\n",
    "sns.barplot(y = 'Monetary', x = 'Cluster', data = rfm_df_cluster)\n",
    "\n",
    "plt.show()"
   ]
  },
  {
   "cell_type": "markdown",
   "metadata": {},
   "source": [
    "Cluster 3 customers have the highest monetary mean by far. Cluster 1 customers have the second highest monetary mean, but both clusters 1 and 3 have widespread monetary distributions."
   ]
  },
  {
   "cell_type": "markdown",
   "metadata": {},
   "source": [
    "### Conclusions"
   ]
  },
  {
   "cell_type": "markdown",
   "metadata": {},
   "source": [
    "- The customers in cluster 3 have spent the most on the e-commerce site in the last year. They are also the most frequent customers, and their purchases have also been very recent. These customers are very valuable to the e-commerce site. They should be awarded loyalty points, so that they continue to shop on this site."
   ]
  },
  {
   "cell_type": "markdown",
   "metadata": {},
   "source": [
    "- The customers in cluster 2 have spent the least amount of money on the site, are the least frequent, and also have not made any recent purchases. They are also the second largest group of customers. The average customer in this group has made fewer than 25 purchases on this site and has not used this site in more than 200 days. This group should be given time-bound offers/discounts to entice them to return to this e-commerce site and use it more often."
   ]
  },
  {
   "cell_type": "markdown",
   "metadata": {},
   "source": [
    "- The cluster 1 customers have made purchases recently, but they rank low in the frequency and monetary measures. They form the largest of these three groups (by a significant margin). They can be given weekly or montly offers, to encourage them to use this e-commerce site regularly. This will gradually increase their total spend on the site."
   ]
  },
  {
   "cell_type": "code",
   "execution_count": null,
   "metadata": {},
   "outputs": [],
   "source": []
  }
 ],
 "metadata": {
  "kernelspec": {
   "display_name": "Python 3",
   "language": "python",
   "name": "python3"
  },
  "language_info": {
   "codemirror_mode": {
    "name": "ipython",
    "version": 3
   },
   "file_extension": ".py",
   "mimetype": "text/x-python",
   "name": "python",
   "nbconvert_exporter": "python",
   "pygments_lexer": "ipython3",
   "version": "3.8.5"
  }
 },
 "nbformat": 4,
 "nbformat_minor": 4
}
